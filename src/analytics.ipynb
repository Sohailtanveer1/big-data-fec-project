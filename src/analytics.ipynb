{
 "cells": [
  {
   "cell_type": "code",
   "execution_count": 38,
   "id": "0bf0f67c",
   "metadata": {},
   "outputs": [
    {
     "name": "stdout",
     "output_type": "stream",
     "text": [
      "3.5.5\n"
     ]
    }
   ],
   "source": [
    "import pyspark\n",
    "print(pyspark.__version__)"
   ]
  },
  {
   "cell_type": "code",
   "execution_count": 1,
   "id": "77e31f85",
   "metadata": {},
   "outputs": [],
   "source": [
    "import pandas as pd\n",
    "import json\n",
    "import requests\n",
    "import numpy as np\n",
    "import os"
   ]
  },
  {
   "cell_type": "code",
   "execution_count": 5,
   "id": "e4599115",
   "metadata": {},
   "outputs": [],
   "source": [
    "from pyspark.sql import SparkSession\n",
    "\n",
    "spark = SparkSession.builder \\\n",
    "    .appName(\"Data Cleaning App\") \\\n",
    "    .master(\"local[*]\") \\\n",
    "    .config(\"spark.driver.bindAddress\", \"127.0.0.1\") \\\n",
    "    .config(\"spark.driver.host\", \"127.0.0.1\") \\\n",
    "    .config(\"spark.driver.memory\", '4g') \\\n",
    "    .config(\"spark.executor.memory\", '4g') \\\n",
    "    .getOrCreate()\n"
   ]
  },
  {
   "cell_type": "code",
   "execution_count": 6,
   "id": "5b82f3ff",
   "metadata": {},
   "outputs": [
    {
     "data": {
      "text/html": [
       "\n",
       "            <div>\n",
       "                <p><b>SparkSession - in-memory</b></p>\n",
       "                \n",
       "        <div>\n",
       "            <p><b>SparkContext</b></p>\n",
       "\n",
       "            <p><a href=\"http://127.0.0.1:4040\">Spark UI</a></p>\n",
       "\n",
       "            <dl>\n",
       "              <dt>Version</dt>\n",
       "                <dd><code>v3.5.5</code></dd>\n",
       "              <dt>Master</dt>\n",
       "                <dd><code>local[*]</code></dd>\n",
       "              <dt>AppName</dt>\n",
       "                <dd><code>Data Cleaning App</code></dd>\n",
       "            </dl>\n",
       "        </div>\n",
       "        \n",
       "            </div>\n",
       "        "
      ],
      "text/plain": [
       "<pyspark.sql.session.SparkSession at 0x23cffd97fe0>"
      ]
     },
     "execution_count": 6,
     "metadata": {},
     "output_type": "execute_result"
    }
   ],
   "source": [
    "spark"
   ]
  },
  {
   "cell_type": "code",
   "execution_count": 4,
   "id": "acd4f5b9",
   "metadata": {},
   "outputs": [],
   "source": [
    "spark.stop()"
   ]
  },
  {
   "cell_type": "code",
   "execution_count": 7,
   "id": "69372340",
   "metadata": {},
   "outputs": [],
   "source": [
    "from pyspark.sql import SparkSession\n",
    "from pyspark.sql.functions import *\n",
    "from pyspark.sql.types import *"
   ]
  },
  {
   "cell_type": "code",
   "execution_count": 9,
   "id": "04fa9959",
   "metadata": {},
   "outputs": [],
   "source": [
    "# reading candidate master\n",
    "cand_master_schema = StructType([\n",
    "            StructField(\"CAND_ID\", StringType(), False),           # Not nullable\n",
    "            StructField(\"CAND_NAME\", StringType(), True),\n",
    "            StructField(\"CAND_PTY_AFFILIATION\", StringType(), True),\n",
    "            StructField(\"CAND_ELECTION_YR\", IntegerType(), True),\n",
    "            StructField(\"CAND_OFFICE_ST\", StringType(), True),\n",
    "            StructField(\"CAND_OFFICE\", StringType(), True),\n",
    "            StructField(\"CAND_OFFICE_DISTRICT\", StringType(), True),\n",
    "            StructField(\"CAND_ICI\", StringType(), True),\n",
    "            StructField(\"CAND_STATUS\", StringType(), True),\n",
    "            StructField(\"CAND_PCC\", StringType(), True),\n",
    "            StructField(\"CAND_ST1\", StringType(), True),\n",
    "            StructField(\"CAND_ST2\", StringType(), True),\n",
    "            StructField(\"CAND_CITY\", StringType(), True),\n",
    "            StructField(\"CAND_ST\", StringType(), True),\n",
    "            StructField(\"CAND_ZIP\", StringType(), True)\n",
    "                ])\n",
    "\n",
    "candidate_master = spark.read.format('csv')\\\n",
    "                .option('header','true')\\\n",
    "                .option(\"delimiter\",\"|\")\\\n",
    "                .schema(cand_master_schema)\\\n",
    "                .load(\"D:/Sohail_DE_Project/fec_env/big-data-fec-project/data/raw/candidate_master/cn.txt\")"
   ]
  },
  {
   "cell_type": "code",
   "execution_count": 48,
   "id": "cf4394b8",
   "metadata": {},
   "outputs": [],
   "source": [
    "# read committe master\n",
    "\n",
    "comm_master_schema = StructType([\n",
    "    StructField(\"CMTE_ID\", StringType(), False),                # Not nullable\n",
    "    StructField(\"CMTE_NM\", StringType(), True),\n",
    "    StructField(\"TRES_NM\", StringType(), True),\n",
    "    StructField(\"CMTE_ST1\", StringType(), True),\n",
    "    StructField(\"CMTE_ST2\", StringType(), True),\n",
    "    StructField(\"CMTE_CITY\", StringType(), True),\n",
    "    StructField(\"CMTE_ST\", StringType(), True),\n",
    "    StructField(\"CMTE_ZIP\", StringType(), True),\n",
    "    StructField(\"CMTE_DSGN\", StringType(), True),\n",
    "    StructField(\"CMTE_TP\", StringType(), True),\n",
    "    StructField(\"CMTE_PTY_AFFILIATION\", StringType(), True),\n",
    "    StructField(\"CMTE_FILING_FREQ\", StringType(), True),\n",
    "    StructField(\"ORG_TP\", StringType(), True),\n",
    "    StructField(\"CONNECTED_ORG_NM\", StringType(), True),\n",
    "    StructField(\"CAND_ID\", StringType(), True)\n",
    "])\n",
    "\n",
    "committee_master = spark.read.format('csv')\\\n",
    "                .option('header','true')\\\n",
    "                .option(\"delimiter\",\"|\")\\\n",
    "                .schema(comm_master_schema)\\\n",
    "                .load(\"D:/Sohail_DE_Project/fec_env/big-data-fec-project/data/raw/committe_master/cm.txt\")\n"
   ]
  },
  {
   "cell_type": "code",
   "execution_count": 49,
   "id": "3fd0e40f",
   "metadata": {},
   "outputs": [
    {
     "name": "stdout",
     "output_type": "stream",
     "text": [
      "+---------+--------------------+--------------------+--------------------+---------+-------------+-------+---------+---------+-------+--------------------+----------------+------+--------------------+-------+\n",
      "|  CMTE_ID|             CMTE_NM|             TRES_NM|            CMTE_ST1| CMTE_ST2|    CMTE_CITY|CMTE_ST| CMTE_ZIP|CMTE_DSGN|CMTE_TP|CMTE_PTY_AFFILIATION|CMTE_FILING_FREQ|ORG_TP|    CONNECTED_ORG_NM|CAND_ID|\n",
      "+---------+--------------------+--------------------+--------------------+---------+-------------+-------+---------+---------+-------+--------------------+----------------+------+--------------------+-------+\n",
      "|C00000059|  HALLMARK CARDS PAC|           SARAH MOE|          2501 MCGEE|  MD #500|  KANSAS CITY|     MO|    64108|        U|      Q|                 UNK|               M|     C|                NULL|   NULL|\n",
      "|C00000422|AMERICAN MEDICAL ...|   WALKER, KEVIN MR.|25 MASSACHUSETTS ...|SUITE 600|   WASHINGTON|     DC|200017400|        B|      Q|                NULL|               M|  NULL|DELAWARE MEDICAL PAC|   NULL|\n",
      "|C00000489|D R I V E POLITIC...|       JERRY SIMS JR|         3528 W RENO|     NULL|OKLAHOMA CITY|     OK|    73107|        U|      N|                NULL|               Q|     L|                NULL|   NULL|\n",
      "|C00000547|KANSAS MEDICAL SO...|     JERRY SLAUGHTER|     623 SW 10TH AVE|     NULL|       TOPEKA|     KS|666121627|        U|      Q|                 UNK|               Q|     M|KANSAS MEDICAL SO...|   NULL|\n",
      "|C00000638|INDIANA STATE MED...|ACHENBACH, GRANT MR.|322 CANAL WALK, C...|     NULL| INDIANAPOLIS|     IN|    46202|        U|      Q|                NULL|               T|     M|                NULL|   NULL|\n",
      "+---------+--------------------+--------------------+--------------------+---------+-------------+-------+---------+---------+-------+--------------------+----------------+------+--------------------+-------+\n",
      "only showing top 5 rows\n",
      "\n"
     ]
    }
   ],
   "source": [
    "committee_master.show(5)"
   ]
  },
  {
   "cell_type": "code",
   "execution_count": 12,
   "id": "c88ffb1f",
   "metadata": {},
   "outputs": [],
   "source": [
    "# reading committee transaction\n",
    "comm_trans_schema = StructType([\n",
    "    StructField(\"CMTE_ID\", StringType(), False),               # Not nullable\n",
    "    StructField(\"AMNDT_IND\", StringType(), True),\n",
    "    StructField(\"RPT_TP\", StringType(), True),\n",
    "    StructField(\"TRANSACTION_PGI\", StringType(), True),\n",
    "    StructField(\"IMAGE_NUM\", StringType(), True),              # VARCHAR2(11) or (18) → String\n",
    "    StructField(\"TRANSACTION_TP\", StringType(), True),\n",
    "    StructField(\"ENTITY_TP\", StringType(), True),\n",
    "    StructField(\"NAME\", StringType(), True),\n",
    "    StructField(\"CITY\", StringType(), True),\n",
    "    StructField(\"STATE\", StringType(), True),\n",
    "    StructField(\"ZIP_CODE\", StringType(), True),\n",
    "    StructField(\"EMPLOYER\", StringType(), True),\n",
    "    StructField(\"OCCUPATION\", StringType(), True),\n",
    "    StructField(\"TRANSACTION_DT\", DateType(), True),           # MMDDYYYY - will need date parsing\n",
    "    StructField(\"TRANSACTION_AMT\", DoubleType(), True),        # NUMBER(14,2)\n",
    "    StructField(\"OTHER_ID\", StringType(), True),\n",
    "    StructField(\"TRAN_ID\", StringType(), True),\n",
    "    StructField(\"FILE_NUM\", LongType(), True),                 # NUMBER(22) → Long\n",
    "    StructField(\"MEMO_CD\", StringType(), True),\n",
    "    StructField(\"MEMO_TEXT\", StringType(), True),\n",
    "    StructField(\"SUB_ID\", LongType(), False)                   # Not nullable\n",
    "])\n",
    "\n",
    "committee_trans = spark.read.format('csv')\\\n",
    "                .option('header','true')\\\n",
    "                .option(\"delimiter\",\"|\")\\\n",
    "                .schema(comm_trans_schema)\\\n",
    "                .load(\"D:/Sohail_DE_Project/fec_env/big-data-fec-project/data/raw/committee_to_committee_transaction/itoth.txt\")"
   ]
  },
  {
   "cell_type": "code",
   "execution_count": 13,
   "id": "f1b10a45",
   "metadata": {},
   "outputs": [
    {
     "name": "stdout",
     "output_type": "stream",
     "text": [
      "+---------+---------+------+---------------+------------------+--------------+---------+--------------------+----------+-----+---------+--------------------+----------+--------------+---------------+--------+--------------------+--------+-------+--------------------+-------------------+\n",
      "|  CMTE_ID|AMNDT_IND|RPT_TP|TRANSACTION_PGI|         IMAGE_NUM|TRANSACTION_TP|ENTITY_TP|                NAME|      CITY|STATE| ZIP_CODE|            EMPLOYER|OCCUPATION|TRANSACTION_DT|TRANSACTION_AMT|OTHER_ID|             TRAN_ID|FILE_NUM|MEMO_CD|           MEMO_TEXT|             SUB_ID|\n",
      "+---------+---------+------+---------------+------------------+--------------+---------+--------------------+----------+-----+---------+--------------------+----------+--------------+---------------+--------+--------------------+--------+-------+--------------------+-------------------+\n",
      "|C00161810|        A|    M3|              P|202004209219753657|           10J|      ORG|THE CHICKASAW NATION|       ADA|   OK|748209255|                NULL|      NULL|          NULL|         5000.0|    NULL|             6420417| 1402255|      X|* HEINRICH VICTOR...|4042820201740314709|\n",
      "|C00019380|        A|   30G|              P|202105209447365768|           11J|      ORG|PUYALLUP TRIBE OF...|    TACOMA|   WA|984044926|PUYALLUP TRIBE OF...|      NULL|          NULL|         5000.0|    NULL|      11AI-000084486| 1517713|      X|  BIDEN VICTORY FUND|4052720211297382227|\n",
      "|C00420935|        N|    Q1|          P2020|201904159146153239|           11J|      ORG|SANTA YNEZ BAND O...|SANTA YNEZ|   CA|934600517|                NULL|      NULL|          NULL|         2800.0|    NULL|A5EB62B74A23A40E69DC| 1325330|      X|                NULL|4041520191646413130|\n",
      "|C00420935|        N|    Q1|          P2020|201904159146153425|           11J|      ORG|TIGUA INDIAN RESE...|   EL PASO|   TX|    79917|                NULL|      NULL|          NULL|         2000.0|    NULL|A4216AEBD0A1444DDA27| 1325330|      X|                NULL|4041520191646413687|\n",
      "|C00639054|        N|    Q1|          P2020|201904159146136878|           11J|      ORG|MILLE LACS BAND O...|    ONAMIA|   MN|563592236|                NULL|      NULL|          NULL|         1000.0|    NULL|         VNHYSF1PH10| 1325077|      X|                NULL|4041520191646384179|\n",
      "+---------+---------+------+---------------+------------------+--------------+---------+--------------------+----------+-----+---------+--------------------+----------+--------------+---------------+--------+--------------------+--------+-------+--------------------+-------------------+\n",
      "only showing top 5 rows\n",
      "\n"
     ]
    }
   ],
   "source": [
    "committee_trans.show(5)"
   ]
  },
  {
   "cell_type": "code",
   "execution_count": 14,
   "id": "23e5a858",
   "metadata": {},
   "outputs": [],
   "source": [
    "# reading operating expense\n",
    "oper_exp_schema = StructType([\n",
    "    StructField(\"CMTE_ID\", StringType(), False),               # VARCHAR2(9)\n",
    "    StructField(\"AMNDT_IND\", StringType(), True),             # VARCHAR2(1)\n",
    "    StructField(\"RPT_YR\", IntegerType(), True),               # Number(4)\n",
    "    StructField(\"RPT_TP\", StringType(), True),                # VARCHAR2(3)\n",
    "    StructField(\"IMAGE_NUM\", StringType(), True),             # VARCHAR2(11/18)\n",
    "    StructField(\"LINE_NUM\", StringType(), True),\n",
    "    StructField(\"FORM_TP_CD\", StringType(), True),\n",
    "    StructField(\"SCHED_TP_CD\", StringType(), True),\n",
    "    StructField(\"NAME\", StringType(), True),\n",
    "    StructField(\"CITY\", StringType(), True),\n",
    "    StructField(\"STATE\", StringType(), True),\n",
    "    StructField(\"ZIP_CODE\", StringType(), True),\n",
    "    StructField(\"TRANSACTION_DT\", DateType(), True),          # DATE\n",
    "    StructField(\"TRANSACTION_AMT\", DoubleType(), True),       # NUMBER(14,2)\n",
    "    StructField(\"TRANSACTION_PGI\", StringType(), True),       # VARCHAR2(5)\n",
    "    StructField(\"PURPOSE\", StringType(), True),               # VARCHAR2(100)\n",
    "    StructField(\"CATEGORY\", StringType(), True),              # VARCHAR2(3)\n",
    "    StructField(\"CATEGORY_DESC\", StringType(), True),         # VARCHAR2(40)\n",
    "    StructField(\"MEMO_CD\", StringType(), True),               # VARCHAR2(1)\n",
    "    StructField(\"MEMO_TEXT\", StringType(), True),             # VARCHAR2(100)\n",
    "    StructField(\"ENTITY_TP\", StringType(), True),             # VARCHAR2(3)    \n",
    "    StructField(\"SUB_ID\", LongType(), False),                  # NUMBER(19)\n",
    "    StructField(\"FILE_NUM\", IntegerType(), True),             # NUMBER(7)\n",
    "    StructField(\"TRAN_ID\", StringType(), True),               # VARCHAR2(32)\n",
    "    StructField(\"BACK_REF_TRAN_ID\", StringType(), True)       # VARCHAR2(32)\n",
    "])\n",
    "\n",
    "operating_exp = spark.read.format('csv')\\\n",
    "                .option('header','true')\\\n",
    "                .option(\"delimiter\",\"|\")\\\n",
    "                .schema(oper_exp_schema)\\\n",
    "                .load(\"D:/Sohail_DE_Project/fec_env/big-data-fec-project/data/raw/operating_expense/oppexp.txt\")"
   ]
  },
  {
   "cell_type": "code",
   "execution_count": 15,
   "id": "64ed50ed",
   "metadata": {},
   "outputs": [
    {
     "name": "stdout",
     "output_type": "stream",
     "text": [
      "+---------+---------+------+------+------------------+--------+----------+-----------+--------------------+-------------+-----+---------+--------------+---------------+---------------+--------------------+--------+--------------------+-------+---------+---------+-------------------+--------+-----------+----------------+\n",
      "|  CMTE_ID|AMNDT_IND|RPT_YR|RPT_TP|         IMAGE_NUM|LINE_NUM|FORM_TP_CD|SCHED_TP_CD|                NAME|         CITY|STATE| ZIP_CODE|TRANSACTION_DT|TRANSACTION_AMT|TRANSACTION_PGI|             PURPOSE|CATEGORY|       CATEGORY_DESC|MEMO_CD|MEMO_TEXT|ENTITY_TP|             SUB_ID|FILE_NUM|    TRAN_ID|BACK_REF_TRAN_ID|\n",
      "+---------+---------+------+------+------------------+--------+----------+-----------+--------------------+-------------+-----+---------+--------------+---------------+---------------+--------------------+--------+--------------------+-------+---------+---------+-------------------+--------+-----------+----------------+\n",
      "|C00639872|        T|  2019|   TER|201901209143894009|      17|        F3|         SB|ADMINISTRATIVE BU...|    CHARLOTTE|   NC|282134290|          NULL|         365.51|          G2018|ACCOUNTING AND CO...|    NULL|                NULL|   NULL|     NULL|      ORG|4021520191639587673| 1305744|VTPY09W3DX1|            NULL|\n",
      "|C00639872|        T|  2019|   TER|201901209143894009|      17|        F3|         SB|             ADP INC|     ROSELAND|   NJ|070681728|          NULL|          65.63|          G2018|        PAYROLL FEES|    NULL|                NULL|   NULL|     NULL|      ORG|4021520191639587675| 1305744|VTPY09W2JW7|            NULL|\n",
      "|C00639872|        T|  2019|   TER|201901209143894009|      17|        F3|         SB|          HUSTLE INC|SAN FRANCISCO|   CA|941084547|          NULL|        4399.01|          G2018|ADVERTISING & MAR...|    NULL|                NULL|   NULL|     NULL|      ORG|4021520191639587677| 1305744|VTPY09W2KA8|            NULL|\n",
      "|C00639872|        T|  2019|   TER|201901209143894010|      17|        F3|         SB|        NGP VAN INC.|   WASHINGTON|   DC|200052157|          NULL|          150.0|          G2018| COMPLIANCE SOFTWARE|    NULL|                NULL|   NULL|     NULL|      ORG|4021520191639587679| 1305744|VTPY09W3DV6|            NULL|\n",
      "|C00432906|        T|  2019|   TER|201901219143901217|      17|        F3|         SB|         ELECTEK USA|CHAGRIN FALLS|   OH|    44023|          NULL|         -400.0|           NULL|VOID OF PREVIOUS ...|     001|Administrative/Sa...|   NULL|     NULL|      ORG|4021320191639407447| 1305860| SB17.55757|            NULL|\n",
      "+---------+---------+------+------+------------------+--------+----------+-----------+--------------------+-------------+-----+---------+--------------+---------------+---------------+--------------------+--------+--------------------+-------+---------+---------+-------------------+--------+-----------+----------------+\n",
      "only showing top 5 rows\n",
      "\n"
     ]
    }
   ],
   "source": [
    "operating_exp.show(5)"
   ]
  },
  {
   "cell_type": "code",
   "execution_count": 16,
   "id": "fd058a42",
   "metadata": {},
   "outputs": [],
   "source": [
    "# reading candidate committee linkage\n",
    "cand_cmte_link_schema = StructType([\n",
    "    StructField(\"CAND_ID\",StringType(),False),\n",
    "    StructField(\"CAND_ELECTION_YR\",IntegerType(),False),\n",
    "    StructField(\"FEC_ELECTION_YR\",IntegerType(),False),\n",
    "    StructField(\"CMTE_ID\",StringType(),True),\n",
    "    StructField(\"CMTE_TP\",StringType(),True),\n",
    "    StructField(\"CMTE_DSGN\",StringType(),True),\n",
    "    StructField(\"LINKAGE_ID\",IntegerType(),False)\n",
    "\n",
    "])\n",
    "\n",
    "\n",
    "cand_cmte_link = spark.read.format('csv')\\\n",
    "                .option('header','true')\\\n",
    "                .option(\"delimiter\",\"|\")\\\n",
    "                .schema(cand_cmte_link_schema)\\\n",
    "                .load(\"D:/Sohail_DE_Project/fec_env/big-data-fec-project/data/raw/candidate_committtee_linkage/ccl.txt\")"
   ]
  },
  {
   "cell_type": "code",
   "execution_count": 17,
   "id": "9d05f7b3",
   "metadata": {},
   "outputs": [
    {
     "name": "stdout",
     "output_type": "stream",
     "text": [
      "+---------+----------------+---------------+---------+-------+---------+----------+\n",
      "|  CAND_ID|CAND_ELECTION_YR|FEC_ELECTION_YR|  CMTE_ID|CMTE_TP|CMTE_DSGN|LINKAGE_ID|\n",
      "+---------+----------------+---------------+---------+-------+---------+----------+\n",
      "|C00713602|            2019|           2020|C00712851|      O|        U|    228963|\n",
      "|H0AK00105|            2020|           2020|C00607515|      H|        P|    229250|\n",
      "|H0AL01055|            2020|           2020|C00697789|      H|        P|    226125|\n",
      "|H0AL01063|            2020|           2020|C00701557|      H|        P|    227053|\n",
      "|H0AL01071|            2020|           2020|C00701409|      H|        P|    227054|\n",
      "+---------+----------------+---------------+---------+-------+---------+----------+\n",
      "only showing top 5 rows\n",
      "\n"
     ]
    }
   ],
   "source": [
    "cand_cmte_link.show(5)"
   ]
  },
  {
   "cell_type": "code",
   "execution_count": 18,
   "id": "dfe54780",
   "metadata": {},
   "outputs": [],
   "source": [
    "pac_summary_schema = StructType([\n",
    "    StructField(\"CMTE_ID\", StringType(), False),                          # Not nullable\n",
    "    StructField(\"CMTE_NM\", StringType(), True),\n",
    "    StructField(\"CMTE_TP\", StringType(), True),\n",
    "    StructField(\"CMTE_DSGN\", StringType(), True),\n",
    "    StructField(\"CMTE_FILING_FREQ\", StringType(), True),\n",
    "    StructField(\"TTL_RECEIPTS\", DoubleType(), True),\n",
    "    StructField(\"TRANS_FROM_AFF\", DoubleType(), True),\n",
    "    StructField(\"INDV_CONTRIB\", DoubleType(), True),\n",
    "    StructField(\"OTHER_POL_CMTE_CONTRIB\", DoubleType(), True),\n",
    "    StructField(\"CAND_CONTRIB\", DoubleType(), True),\n",
    "    StructField(\"CAND_LOANS\", DoubleType(), True),\n",
    "    StructField(\"TTL_LOANS_RECEIVED\", DoubleType(), True),\n",
    "    StructField(\"TTL_DISB\", DoubleType(), True),\n",
    "    StructField(\"TRANF_TO_AFF\", DoubleType(), True),\n",
    "    StructField(\"INDV_REFUNDS\", DoubleType(), True),\n",
    "    StructField(\"OTHER_POL_CMTE_REFUNDS\", DoubleType(), True),\n",
    "    StructField(\"CAND_LOAN_REPAY\", DoubleType(), True),\n",
    "    StructField(\"LOAN_REPAY\", DoubleType(), True),\n",
    "    StructField(\"COH_BOP\", DoubleType(), True),\n",
    "    StructField(\"COH_COP\", DoubleType(), True),\n",
    "    StructField(\"DEBTS_OWED_BY\", DoubleType(), True),\n",
    "    StructField(\"NONFED_TRANS_RECEIVED\", DoubleType(), True),\n",
    "    StructField(\"CONTRIB_TO_OTHER_CMTE\", DoubleType(), True),\n",
    "    StructField(\"IND_EXP\", DoubleType(), True),\n",
    "    StructField(\"PTY_COORD_EXP\", DoubleType(), True),\n",
    "    StructField(\"NONFED_SHARE_EXP\", DoubleType(), True),\n",
    "    StructField(\"CVG_END_DT\", StringType(), True)                           # Needs conversion from MM/DD/YYYY\n",
    "])\n",
    "\n",
    "pac_summary= spark.read.format('csv')\\\n",
    "                .option('header','true')\\\n",
    "                .option(\"delimiter\",\"|\")\\\n",
    "                .schema(pac_summary_schema)\\\n",
    "                .load(\"D:/Sohail_DE_Project/fec_env/big-data-fec-project/data/raw/pac_summary/webk20.txt\")"
   ]
  },
  {
   "cell_type": "code",
   "execution_count": 19,
   "id": "c126f0e6",
   "metadata": {},
   "outputs": [],
   "source": [
    "from pyspark.sql.functions import to_date\n",
    "\n",
    "pac_summary = pac_summary.withColumn(\"CVG_END_DT\", to_date(\"CVG_END_DT\", \"MM/dd/yyyy\"))"
   ]
  },
  {
   "cell_type": "code",
   "execution_count": 20,
   "id": "eaa658ea",
   "metadata": {},
   "outputs": [
    {
     "name": "stdout",
     "output_type": "stream",
     "text": [
      "+---------+--------------------+-------+---------+----------------+------------+--------------+------------+----------------------+------------+----------+------------------+----------+------------+------------+----------------------+---------------+----------+----------+----------+-------------+---------------------+---------------------+--------+-------------+----------------+----------+\n",
      "|  CMTE_ID|             CMTE_NM|CMTE_TP|CMTE_DSGN|CMTE_FILING_FREQ|TTL_RECEIPTS|TRANS_FROM_AFF|INDV_CONTRIB|OTHER_POL_CMTE_CONTRIB|CAND_CONTRIB|CAND_LOANS|TTL_LOANS_RECEIVED|  TTL_DISB|TRANF_TO_AFF|INDV_REFUNDS|OTHER_POL_CMTE_REFUNDS|CAND_LOAN_REPAY|LOAN_REPAY|   COH_BOP|   COH_COP|DEBTS_OWED_BY|NONFED_TRANS_RECEIVED|CONTRIB_TO_OTHER_CMTE| IND_EXP|PTY_COORD_EXP|NONFED_SHARE_EXP|CVG_END_DT|\n",
      "+---------+--------------------+-------+---------+----------------+------------+--------------+------------+----------------------+------------+----------+------------------+----------+------------+------------+----------------------+---------------+----------+----------+----------+-------------+---------------------+---------------------+--------+-------------+----------------+----------+\n",
      "|C00000059|  HALLMARK CARDS PAC|      Q|        U|               M|   112582.58|           0.0|   112582.58|                   0.0|         0.0|       0.0|               0.0| 114004.97|         0.0|         0.0|                   0.0|            0.0|       0.0| 148995.87| 151358.23|          0.0|                  0.0|             109000.0|     0.0|          0.0|             0.0|2020-12-31|\n",
      "|C00000422|AMERICAN MEDICAL ...|      Q|        B|               M|  1617198.05|           0.0|  1572559.36|                   0.0|         0.0|       0.0|               0.0|1722899.94|         0.0|     7452.59|                   0.0|            0.0|       0.0|1142153.22|1036451.33|          0.0|                  0.0|            1293500.0|344800.0|          0.0|             0.0|2020-12-31|\n",
      "|C00000489|D R I V E POLITIC...|      N|        U|               Q|    77582.87|      77582.87|         0.0|                   0.0|         0.0|       0.0|               0.0|  83275.63|         0.0|         0.0|                   0.0|            0.0|       0.0|  13740.13|   8047.37|          0.0|                  0.0|                  0.0|     0.0|          0.0|             0.0|2020-12-31|\n",
      "|C00000547|KANSAS MEDICAL SO...|      Q|        U|               Q|     16400.0|           0.0|     16400.0|                   0.0|         0.0|       0.0|               0.0|   17500.0|         0.0|         0.0|                   0.0|            0.0|       0.0|   4878.76|   3778.76|          0.0|                  0.0|              17500.0|     0.0|          0.0|             0.0|2020-12-31|\n",
      "|C00000638|INDIANA STATE MED...|      Q|        U|               T|      1600.0|           0.0|      1000.0|                   0.0|         0.0|       0.0|               0.0|  112943.4|         0.0|         0.0|                   0.0|            0.0|       0.0|  111343.4|       0.0|          0.0|                  0.0|                  0.0|     0.0|          0.0|             0.0|2019-05-16|\n",
      "+---------+--------------------+-------+---------+----------------+------------+--------------+------------+----------------------+------------+----------+------------------+----------+------------+------------+----------------------+---------------+----------+----------+----------+-------------+---------------------+---------------------+--------+-------------+----------------+----------+\n",
      "only showing top 5 rows\n",
      "\n"
     ]
    }
   ],
   "source": [
    "pac_summary.show(5)"
   ]
  },
  {
   "cell_type": "code",
   "execution_count": 21,
   "id": "a67303c9",
   "metadata": {},
   "outputs": [],
   "source": [
    "# reading individual contributor\n",
    "ind_contr_schema =StructType([\n",
    "    StructField(\"CMTE_ID\", StringType(), False),             # Not nullable\n",
    "    StructField(\"AMNDT_IND\", StringType(), True),\n",
    "    StructField(\"RPT_TP\", StringType(), True),\n",
    "    StructField(\"TRANSACTION_PGI\", StringType(), True),\n",
    "    StructField(\"IMAGE_NUM\", StringType(), True),            # Covers VARCHAR2(11) or (18)\n",
    "    StructField(\"TRANSACTION_TP\", StringType(), True),\n",
    "    StructField(\"ENTITY_TP\", StringType(), True),\n",
    "    StructField(\"NAME\", StringType(), True),\n",
    "    StructField(\"CITY\", StringType(), True),\n",
    "    StructField(\"STATE\", StringType(), True),\n",
    "    StructField(\"ZIP_CODE\", StringType(), True),\n",
    "    StructField(\"EMPLOYER\", StringType(), True),\n",
    "    StructField(\"OCCUPATION\", StringType(), True),\n",
    "    StructField(\"TRANSACTION_DT\", StringType(), True),         # Will need parsing if in string format\n",
    "    StructField(\"TRANSACTION_AMT\", DoubleType(), True),\n",
    "    StructField(\"OTHER_ID\", StringType(), True),\n",
    "    StructField(\"TRAN_ID\", StringType(), True),\n",
    "    StructField(\"FILE_NUM\", LongType(), True),\n",
    "    StructField(\"MEMO_CD\", StringType(), True),\n",
    "    StructField(\"MEMO_TEXT\", StringType(), True),\n",
    "    StructField(\"SUB_ID\", LongType(), False)                 # Not nullable\n",
    "])\n",
    "\n",
    "import pandas as pd\n",
    "headers = [\n",
    "    \"CMTE_ID\",\n",
    "    \"AMNDT_IND\",\n",
    "    \"RPT_TP\",\n",
    "    \"TRANSACTION_PGI\",\n",
    "    \"IMAGE_NUM\",\n",
    "    \"TRANSACTION_TP\",\n",
    "    \"ENTITY_TP\",\n",
    "    \"NAME\",\n",
    "    \"CITY\",\n",
    "    \"STATE\",\n",
    "    \"ZIP_CODE\",\n",
    "    \"EMPLOYER\",\n",
    "    \"OCCUPATION\",\n",
    "    \"TRANSACTION_DT\",\n",
    "    \"TRANSACTION_AMT\",\n",
    "    \"OTHER_ID\",\n",
    "    \"TRAN_ID\",\n",
    "    \"FILE_NUM\",\n",
    "    \"MEMO_CD\",\n",
    "    \"MEMO_TEXT\",\n",
    "    \"SUB_ID\"\n",
    "]\n",
    "\n",
    "\n",
    "from pyspark.sql.types import StructType  # Make sure you've already defined ind_contr_schema\n",
    "\n",
    "# Read 10% sample of the data\n",
    "individual_contrib = spark.read.format(\"csv\") \\\n",
    "    .option(\"header\", \"false\") \\\n",
    "    .option(\"delimiter\", \"|\") \\\n",
    "    .schema(ind_contr_schema) \\\n",
    "    .load(\"D:/Sohail_DE_Project/fec_env/big-data-fec-project/data/raw/individual_contribution/itcont.txt\") \\\n",
    "    .sample(withReplacement=False, fraction=0.1, seed=42)\n"
   ]
  },
  {
   "cell_type": "code",
   "execution_count": 22,
   "id": "4df24f0d",
   "metadata": {},
   "outputs": [],
   "source": [
    "from pyspark.sql.functions import to_date\n",
    "\n",
    "individual_contrib = individual_contrib.withColumn(\"TRANSACTION_DT\", to_date(\"TRANSACTION_DT\", \"MM/dd/yyyy\"))"
   ]
  },
  {
   "cell_type": "code",
   "execution_count": 23,
   "id": "0a24c064",
   "metadata": {},
   "outputs": [
    {
     "data": {
      "text/plain": [
       "103"
      ]
     },
     "execution_count": 23,
     "metadata": {},
     "output_type": "execute_result"
    }
   ],
   "source": [
    "individual_contrib.rdd.getNumPartitions()"
   ]
  },
  {
   "cell_type": "code",
   "execution_count": 24,
   "id": "ebe28eca",
   "metadata": {},
   "outputs": [
    {
     "name": "stdout",
     "output_type": "stream",
     "text": [
      "+---------+---------+------+---------------+------------------+--------------+---------+---------------+------------+-----+--------+------------------+----------+--------------+---------------+--------+-------------+--------+-------+---------+-------------------+\n",
      "|  CMTE_ID|AMNDT_IND|RPT_TP|TRANSACTION_PGI|         IMAGE_NUM|TRANSACTION_TP|ENTITY_TP|           NAME|        CITY|STATE|ZIP_CODE|          EMPLOYER|OCCUPATION|TRANSACTION_DT|TRANSACTION_AMT|OTHER_ID|      TRAN_ID|FILE_NUM|MEMO_CD|MEMO_TEXT|             SUB_ID|\n",
      "+---------+---------+------+---------------+------------------+--------------+---------+---------------+------------+-----+--------+------------------+----------+--------------+---------------+--------+-------------+--------+-------+---------+-------------------+\n",
      "|C00618371|        A|    Q3|              P|202102099427331574|           15E|      IND| FLANNER, GREGG|     TRENTON|   NJ|   08601|FLANNER ASSOCIATES|   MFG REP|          NULL|           25.0|    NULL|SA11AI.478137| 1499308|   NULL|     NULL|4022220211161795305|\n",
      "|C00618371|        A|    Q3|              P|202102099427335989|           15E|      IND|   FRAME, ELENA|      WALNUT|   CA|   91788|           RETIRED|   RETIRED|          NULL|          100.0|    NULL|SA11AI.493971| 1499308|   NULL|     NULL|4022220211161808548|\n",
      "|C00618371|        A|    Q3|              P|202102099427328893|           15E|      IND|FIELDS, NICHOLE|   MILWAUKEE|   WI|   53224|      LUTHER MANOR|        RN|          NULL|           42.0|    NULL|SA11AI.468641| 1499308|   NULL|     NULL|4022220211161787261|\n",
      "|C00618371|        A|    Q3|              P|202102099427238723|           15E|      IND|    BOOTH, JING|    SAN JOSE|   CA|   95101|     SELF-EMPLOYED|  ENGINEER|          NULL|           50.0|    NULL|SA11AI.146962| 1499308|   NULL|     NULL|4022220211161515751|\n",
      "|C00618371|        A|    Q3|              P|202102099427336112|           15E|      IND|FRANCIS, CHERYL|DOUGLASVILLE|   GA|   30133|           RETIRED|   RETIRED|          NULL|           20.0|    NULL|SA11AI.494402| 1499308|   NULL|     NULL|4022220211161808917|\n",
      "+---------+---------+------+---------------+------------------+--------------+---------+---------------+------------+-----+--------+------------------+----------+--------------+---------------+--------+-------------+--------+-------+---------+-------------------+\n",
      "only showing top 5 rows\n",
      "\n"
     ]
    }
   ],
   "source": [
    "individual_contrib.show(5)"
   ]
  },
  {
   "cell_type": "code",
   "execution_count": 25,
   "id": "6aad10e4",
   "metadata": {},
   "outputs": [],
   "source": [
    "individual_contrib = individual_contrib.withColumn(\"TRANSACTION_DT\", to_date(\"TRANSACTION_DT\", \"MMddyyyy\"))"
   ]
  },
  {
   "cell_type": "code",
   "execution_count": 26,
   "id": "eb8edeee",
   "metadata": {},
   "outputs": [],
   "source": [
    "individual_contrib_cache = individual_contrib.cache()"
   ]
  },
  {
   "cell_type": "code",
   "execution_count": 27,
   "id": "1c89d4d7",
   "metadata": {},
   "outputs": [
    {
     "data": {
      "text/plain": [
       "6938128"
      ]
     },
     "execution_count": 27,
     "metadata": {},
     "output_type": "execute_result"
    }
   ],
   "source": [
    "individual_contrib_cache.count()"
   ]
  },
  {
   "cell_type": "markdown",
   "id": "0d468ff5",
   "metadata": {},
   "source": [
    "## 1. Candidate Funding Analysis"
   ]
  },
  {
   "cell_type": "markdown",
   "id": "0b0b42eb",
   "metadata": {},
   "source": [
    "### 1. Compare funding source across candidate"
   ]
  },
  {
   "cell_type": "code",
   "execution_count": 28,
   "id": "35ec4432",
   "metadata": {},
   "outputs": [],
   "source": [
    "from pyspark.sql.types import StructType, StructField, StringType, DoubleType, DateType, LongType, IntegerType"
   ]
  },
  {
   "cell_type": "code",
   "execution_count": 29,
   "id": "c47ed481",
   "metadata": {},
   "outputs": [],
   "source": [
    "# Compare funding sources across candidates\n",
    "funding_sources = individual_contrib_cache.join(cand_cmte_link, \"CMTE_ID\") \\\n",
    "    .join(candidate_master, \"CAND_ID\") \\\n",
    "    .groupBy(\"CAND_NAME\", \"CMTE_TP\") \\\n",
    "    .agg(sum(\"TRANSACTION_AMT\").alias(\"TOTAL_RAISED\")) \\\n",
    "    .orderBy(desc(\"TOTAL_RAISED\"))"
   ]
  },
  {
   "cell_type": "code",
   "execution_count": 30,
   "id": "0329690e",
   "metadata": {},
   "outputs": [
    {
     "name": "stdout",
     "output_type": "stream",
     "text": [
      "+--------------------+-------+------------+\n",
      "|           CAND_NAME|CMTE_TP|TOTAL_RAISED|\n",
      "+--------------------+-------+------------+\n",
      "|  BIDEN, JOSEPH R JR|      P| 5.2297193E7|\n",
      "|    TRUMP, DONALD J.|      P|  1.761625E7|\n",
      "|       SULLIVAN, DAN|      Y| 1.6793788E7|\n",
      "|BLOOMBERG, MICHAE...|      P| 1.6197367E7|\n",
      "|    SANDERS, BERNARD|      P|   8818298.0|\n",
      "+--------------------+-------+------------+\n",
      "only showing top 5 rows\n",
      "\n"
     ]
    }
   ],
   "source": [
    "funding_sources.show(5)"
   ]
  },
  {
   "cell_type": "markdown",
   "id": "a8669580",
   "metadata": {},
   "source": [
    "### 2. Analyze the geographic distribution of support"
   ]
  },
  {
   "cell_type": "code",
   "execution_count": 31,
   "id": "d6e741c3",
   "metadata": {},
   "outputs": [],
   "source": [
    "# Geographic distribution of support\n",
    "geo_distribution = individual_contrib_cache.join(cand_cmte_link, \"CMTE_ID\") \\\n",
    "    .join(candidate_master, \"CAND_ID\") \\\n",
    "    .groupBy(\"CAND_NAME\", \"STATE\") \\\n",
    "    .agg(sum(\"TRANSACTION_AMT\").alias(\"STATE_TOTAL\")) \\\n",
    "    .orderBy(\"CAND_NAME\", desc(\"STATE_TOTAL\"))\n",
    "\n"
   ]
  },
  {
   "cell_type": "code",
   "execution_count": 32,
   "id": "c2f7bb05",
   "metadata": {},
   "outputs": [
    {
     "name": "stdout",
     "output_type": "stream",
     "text": [
      "+--------------------+-----+-----------+\n",
      "|           CAND_NAME|STATE|STATE_TOTAL|\n",
      "+--------------------+-----+-----------+\n",
      "| WEINSTOCK, MICHA...|   NY|     5600.0|\n",
      "| WEINSTOCK, MICHA...|   IL|      518.0|\n",
      "| WEINSTOCK, MICHA...|   NJ|      250.0|\n",
      "| WEINSTOCK, MICHA...|   SD|      250.0|\n",
      "| WEINSTOCK, MICHA...|   GA|      250.0|\n",
      "+--------------------+-----+-----------+\n",
      "only showing top 5 rows\n",
      "\n"
     ]
    }
   ],
   "source": [
    "geo_distribution.show(5)"
   ]
  },
  {
   "cell_type": "markdown",
   "id": "085707d4",
   "metadata": {},
   "source": [
    "### 3. Track Funding momentum over time"
   ]
  },
  {
   "cell_type": "code",
   "execution_count": 33,
   "id": "6759f77b",
   "metadata": {},
   "outputs": [],
   "source": [
    "# Funding momentum over time (monthly)\n",
    "funding_trends = individual_contrib_cache.withColumn(\"MONTH\", date_format(to_date(\"TRANSACTION_DT\", \"MMddyyyy\"), \"yyyy-MM\")) \\\n",
    "    .join(cand_cmte_link, \"CMTE_ID\") \\\n",
    "    .join(candidate_master, \"CAND_ID\") \\\n",
    "    .groupBy(\"MONTH\", \"CAND_NAME\") \\\n",
    "    .agg(sum(\"TRANSACTION_AMT\").alias(\"MONTHLY_TOTAL\")) \\\n",
    "    .orderBy(\"MONTH\", desc(\"MONTHLY_TOTAL\"))"
   ]
  },
  {
   "cell_type": "code",
   "execution_count": 34,
   "id": "05ca3355",
   "metadata": {},
   "outputs": [
    {
     "name": "stdout",
     "output_type": "stream",
     "text": [
      "+-----+--------------------+-------------+\n",
      "|MONTH|           CAND_NAME|MONTHLY_TOTAL|\n",
      "+-----+--------------------+-------------+\n",
      "| NULL|  BIDEN, JOSEPH R JR|  5.2297193E7|\n",
      "| NULL|    TRUMP, DONALD J.|   1.761625E7|\n",
      "| NULL|       SULLIVAN, DAN|  1.7356328E7|\n",
      "| NULL|BLOOMBERG, MICHAE...|  1.6197367E7|\n",
      "| NULL|    SANDERS, BERNARD|    9046307.0|\n",
      "+-----+--------------------+-------------+\n",
      "only showing top 5 rows\n",
      "\n"
     ]
    }
   ],
   "source": [
    "funding_trends.show(5)"
   ]
  },
  {
   "cell_type": "code",
   "execution_count": null,
   "id": "a7a90be1",
   "metadata": {},
   "outputs": [],
   "source": []
  },
  {
   "cell_type": "markdown",
   "id": "60829a73",
   "metadata": {},
   "source": [
    "## 2. Donor Demographic Analysis"
   ]
  },
  {
   "cell_type": "code",
   "execution_count": 35,
   "id": "b9e5702e",
   "metadata": {},
   "outputs": [],
   "source": [
    "# Contribution patterns by occupation/employer\n",
    "donor_analysis = individual_contrib_cache.groupBy(\"OCCUPATION\", \"EMPLOYER\") \\\n",
    "    .agg(\n",
    "        sum(\"TRANSACTION_AMT\").alias(\"TOTAL_CONTRIBUTIONS\"),\n",
    "        count(\"*\").alias(\"NUMBER_OF_CONTRIBUTIONS\"),\n",
    "        avg(\"TRANSACTION_AMT\").alias(\"AVG_CONTRIBUTION\")\n",
    "    ) \\\n",
    "    .orderBy(desc(\"TOTAL_CONTRIBUTIONS\"))"
   ]
  },
  {
   "cell_type": "code",
   "execution_count": 36,
   "id": "2507c3e8",
   "metadata": {},
   "outputs": [
    {
     "name": "stdout",
     "output_type": "stream",
     "text": [
      "+------------+-------------------+-------------------+-----------------------+------------------+\n",
      "|  OCCUPATION|           EMPLOYER|TOTAL_CONTRIBUTIONS|NUMBER_OF_CONTRIBUTIONS|  AVG_CONTRIBUTION|\n",
      "+------------+-------------------+-------------------+-----------------------+------------------+\n",
      "|        NULL|               NULL|       2.89435207E8|                 312696| 925.6121184792897|\n",
      "|NOT EMPLOYED|       NOT EMPLOYED|       1.36888359E8|                1658364| 82.54421767476863|\n",
      "|     RETIRED|            RETIRED|       1.33309015E8|                 805566|165.48490750602681|\n",
      "|   PHYSICIAN|ADELSON DRUG CLINIC|          3.50084E7|                      7|         5001200.0|\n",
      "|     FOUNDER|     BLOOMBERG INC.|        3.4670869E7|                    218|159040.68348623853|\n",
      "+------------+-------------------+-------------------+-----------------------+------------------+\n",
      "only showing top 5 rows\n",
      "\n"
     ]
    }
   ],
   "source": [
    "donor_analysis.show(5)"
   ]
  },
  {
   "cell_type": "code",
   "execution_count": 37,
   "id": "266d6877",
   "metadata": {},
   "outputs": [],
   "source": [
    "# Large vs small donors analysis\n",
    "donor_size_analysis = individual_contrib_cache.withColumn(\"DONOR_SIZE\", \n",
    "    when(col(\"TRANSACTION_AMT\") >= 2000, \"LARGE\")\n",
    "    .otherwise(\"SMALL\")) \\\n",
    "    .groupBy(\"DONOR_SIZE\") \\\n",
    "    .agg(\n",
    "        sum(\"TRANSACTION_AMT\").alias(\"TOTAL_AMOUNT\"),\n",
    "        count(\"*\").alias(\"COUNT\"),\n",
    "        (sum(\"TRANSACTION_AMT\")/count(\"*\")).alias(\"AVG_AMOUNT\")\n",
    "    )\n"
   ]
  },
  {
   "cell_type": "code",
   "execution_count": 38,
   "id": "31613209",
   "metadata": {},
   "outputs": [
    {
     "name": "stdout",
     "output_type": "stream",
     "text": [
      "+----------+------------+-------+------------------+\n",
      "|DONOR_SIZE|TOTAL_AMOUNT|  COUNT|        AVG_AMOUNT|\n",
      "+----------+------------+-------+------------------+\n",
      "|     SMALL|  5.895497E8|6848724| 86.08168470506331|\n",
      "|     LARGE|9.22163594E8|  89404|10314.567513757775|\n",
      "+----------+------------+-------+------------------+\n",
      "\n"
     ]
    }
   ],
   "source": [
    "donor_size_analysis.show(5)"
   ]
  },
  {
   "cell_type": "code",
   "execution_count": 39,
   "id": "1d87e399",
   "metadata": {},
   "outputs": [],
   "source": [
    "# Repeat donors analysis\n",
    "repeat_donors = individual_contrib_cache.groupBy(\"NAME\", \"CITY\", \"STATE\", \"ZIP_CODE\") \\\n",
    "    .agg(count(\"*\").alias(\"CONTRIBUTION_COUNT\")) \\\n",
    "    .groupBy(\"CONTRIBUTION_COUNT\") \\\n",
    "    .agg(count(\"*\").alias(\"DONOR_COUNT\")) \\\n",
    "    .orderBy(\"CONTRIBUTION_COUNT\")"
   ]
  },
  {
   "cell_type": "code",
   "execution_count": 40,
   "id": "d2ec5646",
   "metadata": {},
   "outputs": [
    {
     "name": "stdout",
     "output_type": "stream",
     "text": [
      "+------------------+-----------+\n",
      "|CONTRIBUTION_COUNT|DONOR_COUNT|\n",
      "+------------------+-----------+\n",
      "|                 1|    1646038|\n",
      "|                 2|     518404|\n",
      "|                 3|     231247|\n",
      "|                 4|     122230|\n",
      "|                 5|      72040|\n",
      "+------------------+-----------+\n",
      "only showing top 5 rows\n",
      "\n"
     ]
    }
   ],
   "source": [
    "repeat_donors.show(5)"
   ]
  },
  {
   "cell_type": "code",
   "execution_count": null,
   "id": "a2541460",
   "metadata": {},
   "outputs": [],
   "source": []
  },
  {
   "cell_type": "markdown",
   "id": "2e12ee9a",
   "metadata": {},
   "source": [
    "## 3. Expenditure Analysis"
   ]
  },
  {
   "cell_type": "code",
   "execution_count": 41,
   "id": "8251e021",
   "metadata": {},
   "outputs": [],
   "source": [
    "# Categorize spending by purpose\n",
    "spending_categories = operating_exp.groupBy(\"PURPOSE\") \\\n",
    "    .agg(sum(\"TRANSACTION_AMT\").alias(\"TOTAL_SPENT\")) \\\n",
    "    .orderBy(desc(\"TOTAL_SPENT\"))"
   ]
  },
  {
   "cell_type": "code",
   "execution_count": 42,
   "id": "8c26249e",
   "metadata": {},
   "outputs": [
    {
     "name": "stdout",
     "output_type": "stream",
     "text": [
      "+-------------------+--------------------+\n",
      "|            PURPOSE|         TOTAL_SPENT|\n",
      "+-------------------+--------------------+\n",
      "|          MEDIA BUY|1.3232088511499999E9|\n",
      "|DIGITAL ADVERTISING| 7.658470001700001E8|\n",
      "|   T.V. ADVERTISING|        4.50370127E8|\n",
      "|            PAYROLL|4.2170076009000075E8|\n",
      "|       PLACED MEDIA| 3.625128648999999E8|\n",
      "+-------------------+--------------------+\n",
      "only showing top 5 rows\n",
      "\n"
     ]
    }
   ],
   "source": [
    "spending_categories.show(5)"
   ]
  },
  {
   "cell_type": "code",
   "execution_count": 43,
   "id": "df99da01",
   "metadata": {},
   "outputs": [],
   "source": [
    "# Media vs ground operations\n",
    "media_vs_ground = operating_exp.withColumn(\"EXPENDITURE_TYPE\",\n",
    "    when(col(\"PURPOSE\").contains(\"MEDIA\") | \n",
    "         col(\"PURPOSE\").contains(\"AD\"), \"MEDIA\")\n",
    "    .when(col(\"PURPOSE\").contains(\"TRAVEL\") |\n",
    "          col(\"PURPOSE\").contains(\"EVENT\"), \"GROUND_OPS\")\n",
    "    .otherwise(\"OTHER\")) \\\n",
    "    .groupBy(\"EXPENDITURE_TYPE\") \\\n",
    "    .agg(sum(\"TRANSACTION_AMT\").alias(\"TOTAL_SPENT\"))\n"
   ]
  },
  {
   "cell_type": "code",
   "execution_count": 44,
   "id": "a6079751",
   "metadata": {},
   "outputs": [
    {
     "name": "stdout",
     "output_type": "stream",
     "text": [
      "+----------------+--------------------+\n",
      "|EXPENDITURE_TYPE|         TOTAL_SPENT|\n",
      "+----------------+--------------------+\n",
      "|           MEDIA| 5.530972661310006E9|\n",
      "|      GROUND_OPS|3.0263701186000365E8|\n",
      "|           OTHER|   6.5644278665901E9|\n",
      "+----------------+--------------------+\n",
      "\n"
     ]
    }
   ],
   "source": [
    "media_vs_ground.show(5)"
   ]
  },
  {
   "cell_type": "code",
   "execution_count": 45,
   "id": "5a518ed7",
   "metadata": {},
   "outputs": [],
   "source": [
    "# Spending efficiency by candidate\n",
    "spending_efficiency = operating_exp.join(cand_cmte_link, \"CMTE_ID\") \\\n",
    "    .join(candidate_master, \"CAND_ID\") \\\n",
    "    .groupBy(\"CAND_NAME\") \\\n",
    "    .agg(\n",
    "        sum(\"TRANSACTION_AMT\").alias(\"TOTAL_SPENT\"),\n",
    "        countDistinct(\"PURPOSE\").alias(\"SPENDING_CATEGORIES\")\n",
    "    ) \\\n",
    "    .orderBy(desc(\"TOTAL_SPENT\"))"
   ]
  },
  {
   "cell_type": "code",
   "execution_count": 46,
   "id": "fe48a3b6",
   "metadata": {},
   "outputs": [
    {
     "name": "stdout",
     "output_type": "stream",
     "text": [
      "+--------------------+--------------------+-------------------+\n",
      "|           CAND_NAME|         TOTAL_SPENT|SPENDING_CATEGORIES|\n",
      "+--------------------+--------------------+-------------------+\n",
      "|BLOOMBERG, MICHAE...|1.1877063575199995E9|                209|\n",
      "|  BIDEN, JOSEPH R JR|1.1139123115000002E9|                410|\n",
      "|    TRUMP, DONALD J.| 7.209492362300001E8|               3284|\n",
      "|         STEYER, TOM| 3.653411600899999E8|               1075|\n",
      "|    SANDERS, BERNARD|2.6228000153999993E8|                255|\n",
      "+--------------------+--------------------+-------------------+\n",
      "only showing top 5 rows\n",
      "\n"
     ]
    }
   ],
   "source": [
    "spending_efficiency.show(5)"
   ]
  },
  {
   "cell_type": "markdown",
   "id": "da46d6f5",
   "metadata": {},
   "source": [
    "## 4. Committee Network Analysis"
   ]
  },
  {
   "cell_type": "code",
   "execution_count": 50,
   "id": "31939d1d",
   "metadata": {},
   "outputs": [],
   "source": [
    "# Money flow through political ecosystem\n",
    "money_flow = committee_trans.join(committee_master, \"CMTE_ID\") \\\n",
    "    .groupBy(\"CMTE_NM\", \"CMTE_TP\", \"OTHER_ID\") \\\n",
    "    .agg(sum(\"TRANSACTION_AMT\").alias(\"TOTAL_TRANSFERRED\")) \\\n",
    "    .orderBy(desc(\"TOTAL_TRANSFERRED\"))"
   ]
  },
  {
   "cell_type": "code",
   "execution_count": 51,
   "id": "495b5c8b",
   "metadata": {},
   "outputs": [
    {
     "name": "stdout",
     "output_type": "stream",
     "text": [
      "+--------------------+-------+---------+-----------------+\n",
      "|             CMTE_NM|CMTE_TP| OTHER_ID|TOTAL_TRANSFERRED|\n",
      "+--------------------+-------+---------+-----------------+\n",
      "|REPUBLICAN NATION...|      Y|     NULL|     3.47517739E8|\n",
      "| BIDEN FOR PRESIDENT|      P|     NULL|     2.96371987E8|\n",
      "| BIDEN FOR PRESIDENT|      P|C00744946|          2.375E8|\n",
      "|  BIDEN VICTORY FUND|      N|C00703975|          2.375E8|\n",
      "|TRUMP MAKE AMERIC...|      N|C00580100|     2.33727208E8|\n",
      "+--------------------+-------+---------+-----------------+\n",
      "only showing top 5 rows\n",
      "\n"
     ]
    }
   ],
   "source": [
    "money_flow.show(5)"
   ]
  },
  {
   "cell_type": "code",
   "execution_count": 52,
   "id": "f3c0405d",
   "metadata": {},
   "outputs": [],
   "source": [
    "# Key fundraising hubs\n",
    "fundraising_hubs = individual_contrib_cache.groupBy(\"CMTE_ID\") \\\n",
    "    .agg(sum(\"TRANSACTION_AMT\").alias(\"TOTAL_RAISED\")) \\\n",
    "    .join(committee_master, \"CMTE_ID\") \\\n",
    "    .orderBy(desc(\"TOTAL_RAISED\"))"
   ]
  },
  {
   "cell_type": "code",
   "execution_count": 53,
   "id": "e0aa9eff",
   "metadata": {},
   "outputs": [
    {
     "name": "stdout",
     "output_type": "stream",
     "text": [
      "+---------+------------+--------------------+-------------------+--------------------+--------+------------+-------+--------+---------+-------+--------------------+----------------+------+------------------+---------+\n",
      "|  CMTE_ID|TOTAL_RAISED|             CMTE_NM|            TRES_NM|            CMTE_ST1|CMTE_ST2|   CMTE_CITY|CMTE_ST|CMTE_ZIP|CMTE_DSGN|CMTE_TP|CMTE_PTY_AFFILIATION|CMTE_FILING_FREQ|ORG_TP|  CONNECTED_ORG_NM|  CAND_ID|\n",
      "+---------+------------+--------------------+-------------------+--------------------+--------+------------+-------+--------+---------+-------+--------------------+----------------+------+------------------+---------+\n",
      "|C00401224|2.08328964E8|             ACTBLUE|         HILL, ERIN|     P.O. BOX 441146|    NULL|  SOMERVILLE|     MA|   02144|        U|      V|                NULL|               M|  NULL|              NULL|     NULL|\n",
      "|C00694323| 9.0084281E7|              WINRED|OTTENHOFF, BENJAMIN|         PO BOX 9891|    NULL|   ARLINGTON|     VA|   22219|        U|      V|                NULL|               Q|  NULL|              NULL|     NULL|\n",
      "|C00571703| 6.0205686E7|SENATE LEADERSHIP...|       CALEB CROSBY|45 NORTH HILL DRI...|    NULL|   WARRENTON|     VA|   20186|        U|      O|                NULL|               M|  NULL|              NULL|     NULL|\n",
      "|C00703975| 5.2297193E7| BIDEN FOR PRESIDENT|     VARGHESE, MAJU|        PO BOX 58178|    NULL|PHILADELPHIA|     PA|   19102|        P|      P|                 DEM|               M|  NULL|BIDEN VICTORY FUND|P80000722|\n",
      "|C00744946| 5.0126209E7|  BIDEN VICTORY FUND| SMOLSKIS, JOSEPH W|430 SOUTH CAPITOL...|    NULL|  WASHINGTON|     DC|   20003|        J|      N|                NULL|               Q|  NULL|              NONE|     NULL|\n",
      "+---------+------------+--------------------+-------------------+--------------------+--------+------------+-------+--------+---------+-------+--------------------+----------------+------+------------------+---------+\n",
      "only showing top 5 rows\n",
      "\n"
     ]
    }
   ],
   "source": [
    "fundraising_hubs.show(5)"
   ]
  },
  {
   "cell_type": "code",
   "execution_count": 55,
   "id": "f64c5d54",
   "metadata": {},
   "outputs": [],
   "source": [
    "# Party committee influence\n",
    "party_influence = (\n",
    "    committee_trans\n",
    "    .join(committee_master.select(\"CMTE_ID\", \"CMTE_TP\", \"CMTE_NM\"), \"CMTE_ID\")\n",
    "    .filter(col(\"CMTE_TP\").contains(\"PARTY\"))\n",
    "    .groupBy(\"CMTE_ID\", \"CMTE_NM\", \"CMTE_TP\")\n",
    "    .agg(sum(\"TRANSACTION_AMT\").alias(\"TOTAL_INFLUENCE\"))\n",
    "    .orderBy(col(\"TOTAL_INFLUENCE\").desc())\n",
    "    .select(\n",
    "        \"CMTE_ID\",\n",
    "        \"CMTE_NM\",\n",
    "        \"CMTE_TP\",\n",
    "        \"TOTAL_INFLUENCE\"\n",
    "    )\n",
    ")"
   ]
  },
  {
   "cell_type": "code",
   "execution_count": 56,
   "id": "844272c1",
   "metadata": {},
   "outputs": [
    {
     "name": "stdout",
     "output_type": "stream",
     "text": [
      "+-------+-------+-------+---------------+\n",
      "|CMTE_ID|CMTE_NM|CMTE_TP|TOTAL_INFLUENCE|\n",
      "+-------+-------+-------+---------------+\n",
      "+-------+-------+-------+---------------+\n",
      "\n"
     ]
    }
   ],
   "source": [
    "party_influence.show(5)"
   ]
  },
  {
   "cell_type": "markdown",
   "id": "84f2cd69",
   "metadata": {},
   "source": [
    "## 5. Temporal Trends"
   ]
  },
  {
   "cell_type": "code",
   "execution_count": 57,
   "id": "40fcd367",
   "metadata": {},
   "outputs": [],
   "source": [
    "# Election cycle patterns\n",
    "election_cycle = individual_contrib_cache.withColumn(\"MONTH\", \n",
    "    date_format(to_date(\"TRANSACTION_DT\", \"MMddyyyy\"), \"yyyy-MM\")) \\\n",
    "    .groupBy(\"MONTH\") \\\n",
    "    .agg(sum(\"TRANSACTION_AMT\").alias(\"MONTHLY_TOTAL\")) \\\n",
    "    .orderBy(\"MONTH\")\n"
   ]
  },
  {
   "cell_type": "code",
   "execution_count": 58,
   "id": "1ee1597b",
   "metadata": {},
   "outputs": [
    {
     "name": "stdout",
     "output_type": "stream",
     "text": [
      "+-----+-------------+\n",
      "|MONTH|MONTHLY_TOTAL|\n",
      "+-----+-------------+\n",
      "| NULL|1.511713294E9|\n",
      "+-----+-------------+\n",
      "\n"
     ]
    }
   ],
   "source": [
    "election_cycle.show(5)"
   ]
  },
  {
   "cell_type": "code",
   "execution_count": 59,
   "id": "9b61c767",
   "metadata": {},
   "outputs": [],
   "source": [
    "# Event response analysis (example)\n",
    "event_response = individual_contrib_cache.filter(\n",
    "    (to_date(col(\"TRANSACTION_DT\"), \"MMddyyyy\") >= \"2023-10-01\") & \n",
    "    (to_date(col(\"TRANSACTION_DT\"), \"MMddyyyy\") <= \"2023-10-15\")) \\\n",
    "    .join(cand_cmte_link, \"CMTE_ID\") \\\n",
    "    .join(candidate_master, \"CAND_ID\") \\\n",
    "    .groupBy(\"CAND_NAME\") \\\n",
    "    .agg(sum(\"TRANSACTION_AMT\").alias(\"POST_EVENT_FUNDING\")) \\\n",
    "    .orderBy(desc(\"POST_EVENT_FUNDING\"))"
   ]
  },
  {
   "cell_type": "code",
   "execution_count": 60,
   "id": "a11def94",
   "metadata": {},
   "outputs": [
    {
     "name": "stdout",
     "output_type": "stream",
     "text": [
      "+---------+------------------+\n",
      "|CAND_NAME|POST_EVENT_FUNDING|\n",
      "+---------+------------------+\n",
      "+---------+------------------+\n",
      "\n"
     ]
    }
   ],
   "source": [
    "event_response.show(5)"
   ]
  },
  {
   "cell_type": "code",
   "execution_count": 61,
   "id": "052a44a6",
   "metadata": {},
   "outputs": [],
   "source": [
    "# Final push strategies (last 30 days)\n",
    "final_push = individual_contrib_cache.filter(\n",
    "    to_date(col(\"TRANSACTION_DT\"), \"MMddyyyy\") >= date_sub(current_date(), 30)) \\\n",
    "    .join(cand_cmte_link, \"CMTE_ID\") \\\n",
    "    .join(candidate_master, \"CAND_ID\") \\\n",
    "    .groupBy(\"CAND_NAME\") \\\n",
    "    .agg(sum(\"TRANSACTION_AMT\").alias(\"FINAL_PUSH_TOTAL\")) \\\n",
    "    .orderBy(desc(\"FINAL_PUSH_TOTAL\"))"
   ]
  },
  {
   "cell_type": "code",
   "execution_count": 62,
   "id": "f0926dca",
   "metadata": {},
   "outputs": [
    {
     "name": "stdout",
     "output_type": "stream",
     "text": [
      "+---------+----------------+\n",
      "|CAND_NAME|FINAL_PUSH_TOTAL|\n",
      "+---------+----------------+\n",
      "+---------+----------------+\n",
      "\n"
     ]
    }
   ],
   "source": [
    "final_push.show(5)"
   ]
  }
 ],
 "metadata": {
  "kernelspec": {
   "display_name": "fec_env",
   "language": "python",
   "name": "python3"
  },
  "language_info": {
   "codemirror_mode": {
    "name": "ipython",
    "version": 3
   },
   "file_extension": ".py",
   "mimetype": "text/x-python",
   "name": "python",
   "nbconvert_exporter": "python",
   "pygments_lexer": "ipython3",
   "version": "3.12.7"
  }
 },
 "nbformat": 4,
 "nbformat_minor": 5
}
