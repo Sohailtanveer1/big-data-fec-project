{
 "cells": [
  {
   "cell_type": "markdown",
   "id": "c3b7ce96",
   "metadata": {},
   "source": [
    "## 1. candidate_master"
   ]
  },
  {
   "cell_type": "code",
   "execution_count": 62,
   "id": "9f60f049",
   "metadata": {},
   "outputs": [],
   "source": [
    "import pandas as pd\n",
    "import json\n",
    "import requests\n",
    "import numpy as np\n",
    "import os"
   ]
  },
  {
   "cell_type": "code",
   "execution_count": 63,
   "id": "e635249e",
   "metadata": {},
   "outputs": [],
   "source": [
    "from pyspark.sql import SparkSession\n",
    "\n",
    "spark = SparkSession.builder \\\n",
    "    .appName(\"Data Cleaning App\") \\\n",
    "    .master(\"local[*]\") \\\n",
    "    .config(\"spark.driver.bindAddress\", \"127.0.0.1\") \\\n",
    "    .config(\"spark.driver.host\", \"127.0.0.1\") \\\n",
    "    .getOrCreate()\n"
   ]
  },
  {
   "cell_type": "code",
   "execution_count": 70,
   "id": "b8181c8f",
   "metadata": {},
   "outputs": [],
   "source": [
    "spark.stop()"
   ]
  },
  {
   "cell_type": "code",
   "execution_count": 15,
   "id": "eecd6de2",
   "metadata": {},
   "outputs": [],
   "source": [
    "base_folder_path = \"D:/Sohail_DE_Project/fec_env/big-data-fec-project/data/raw\"\n",
    "file_name = \"candidate_master\"\n",
    "csv_path = os.path.join(base_folder_path, file_name, f\"{file_name}.csv\")\n",
    "\n",
    "\n",
    "cand_master_df = spark.read.option('header',True).option('inferSchema','true').csv(csv_path)\n"
   ]
  },
  {
   "cell_type": "code",
   "execution_count": 16,
   "id": "942687b6",
   "metadata": {},
   "outputs": [
    {
     "data": {
      "text/plain": [
       "1"
      ]
     },
     "execution_count": 16,
     "metadata": {},
     "output_type": "execute_result"
    }
   ],
   "source": [
    "cand_master_df.rdd.getNumPartitions()"
   ]
  },
  {
   "cell_type": "code",
   "execution_count": 17,
   "id": "bb5cadd2",
   "metadata": {},
   "outputs": [],
   "source": [
    "cand_master_df = cand_master_df.repartition(4)"
   ]
  },
  {
   "cell_type": "code",
   "execution_count": 18,
   "id": "ba55179a",
   "metadata": {},
   "outputs": [
    {
     "data": {
      "text/plain": [
       "4"
      ]
     },
     "execution_count": 18,
     "metadata": {},
     "output_type": "execute_result"
    }
   ],
   "source": [
    "cand_master_df.rdd.getNumPartitions()"
   ]
  },
  {
   "cell_type": "code",
   "execution_count": 19,
   "id": "fe2be37e",
   "metadata": {},
   "outputs": [
    {
     "name": "stdout",
     "output_type": "stream",
     "text": [
      "root\n",
      " |-- CAND_ID: string (nullable = true)\n",
      " |-- CAND_NAME: string (nullable = true)\n",
      " |-- CAND_PTY_AFFILIATION: string (nullable = true)\n",
      " |-- CAND_ELECTION_YR: integer (nullable = true)\n",
      " |-- CAND_OFFICE_ST: string (nullable = true)\n",
      " |-- CAND_OFFICE: string (nullable = true)\n",
      " |-- CAND_OFFICE_DISTRICT: integer (nullable = true)\n",
      " |-- CAND_ICI: string (nullable = true)\n",
      " |-- CAND_STATUS: string (nullable = true)\n",
      " |-- CAND_PCC: string (nullable = true)\n",
      " |-- CAND_ST1: string (nullable = true)\n",
      " |-- CAND_ST2: string (nullable = true)\n",
      " |-- CAND_CITY: string (nullable = true)\n",
      " |-- CAND_ST: string (nullable = true)\n",
      " |-- CAND_ZIP: double (nullable = true)\n",
      "\n"
     ]
    }
   ],
   "source": [
    "# datatype check\n",
    "cand_master_df.printSchema()"
   ]
  },
  {
   "cell_type": "code",
   "execution_count": 20,
   "id": "bb8c54b2",
   "metadata": {},
   "outputs": [
    {
     "name": "stdout",
     "output_type": "stream",
     "text": [
      "+-------+---------+--------------------+----------------+--------------+-----------+--------------------+--------+-----------+--------+--------+--------+---------+-------+--------+\n",
      "|CAND_ID|CAND_NAME|CAND_PTY_AFFILIATION|CAND_ELECTION_YR|CAND_OFFICE_ST|CAND_OFFICE|CAND_OFFICE_DISTRICT|CAND_ICI|CAND_STATUS|CAND_PCC|CAND_ST1|CAND_ST2|CAND_CITY|CAND_ST|CAND_ZIP|\n",
      "+-------+---------+--------------------+----------------+--------------+-----------+--------------------+--------+-----------+--------+--------+--------+---------+-------+--------+\n",
      "|      0|        0|                   7|               0|             0|          0|                   7|     322|          0|    1421|     189|    6844|        3|    179|     190|\n",
      "+-------+---------+--------------------+----------------+--------------+-----------+--------------------+--------+-----------+--------+--------+--------+---------+-------+--------+\n",
      "\n"
     ]
    }
   ],
   "source": [
    "# Find Count of Null, None, NaN of All DataFrame Columns\n",
    "from pyspark.sql.functions import col,isnan, when, count\n",
    "cand_master_df.select([count(when(isnan(c) | col(c).isNull(), c)).alias(c) for c in cand_master_df.columns]\n",
    "   ).show()"
   ]
  },
  {
   "cell_type": "code",
   "execution_count": 21,
   "id": "257e56f2",
   "metadata": {},
   "outputs": [],
   "source": [
    "# replace null cand_pty_affiliation with NNE(None) code\n",
    "cand_master_df = cand_master_df.fillna({\"CAND_PTY_AFFILIATION\": \"NNE\"})"
   ]
  },
  {
   "cell_type": "code",
   "execution_count": 22,
   "id": "7380328d",
   "metadata": {},
   "outputs": [],
   "source": [
    "# CAND_OFFICE_DISTRICT\n",
    "from pyspark.sql.functions import col, when, upper, lit, regexp_replace\n",
    "from pyspark.sql.types import IntegerType, StringType\n",
    "\n",
    "cand_master_df = cand_master_df.withColumn(\n",
    "    \"CAND_OFFICE_DISTRICT\",\n",
    "    when(col(\"CAND_OFFICE_DISTRICT\").isNull(), lit(0.0)).otherwise(col(\"CAND_OFFICE_DISTRICT\")).cast(IntegerType())\n",
    ")"
   ]
  },
  {
   "cell_type": "code",
   "execution_count": 23,
   "id": "9b9beb9a",
   "metadata": {},
   "outputs": [],
   "source": [
    "# CAND_ICI fill with random choice between other three values\n",
    "uniq_ici_rows = cand_master_df.select(\"CAND_ICI\").distinct().dropna().collect()\n",
    "uniq_ici_list = [row[\"CAND_ICI\"] for row in uniq_ici_rows]\n",
    "cand_master_df = cand_master_df.withColumn('CAND_ICI',when(col('CAND_ICI').isNull(),np.random.choice(uniq_ici_list)).otherwise(col('CAND_ICI')))"
   ]
  },
  {
   "cell_type": "code",
   "execution_count": 24,
   "id": "00146e6e",
   "metadata": {},
   "outputs": [],
   "source": [
    "# CAND_PCC\n",
    "uniq_pcc_rows = cand_master_df.select(\"CAND_PCC\").distinct().dropna().collect()\n",
    "uniq_pcc_list = [row[\"CAND_PCC\"] for row in uniq_pcc_rows]\n",
    "\n",
    "cand_master_df = cand_master_df.withColumn(\"CAND_PCC\",when(col(\"CAND_PCC\").isNull(),np.random.choice(uniq_pcc_list)).otherwise(col(\"CAND_PCC\")))"
   ]
  },
  {
   "cell_type": "code",
   "execution_count": 25,
   "id": "57cad479",
   "metadata": {},
   "outputs": [],
   "source": [
    "# 'CAND_CITY' drop  null rows\n",
    "cand_master_df = cand_master_df.na.drop(subset=[\"CAND_CITY\"])"
   ]
  },
  {
   "cell_type": "code",
   "execution_count": 26,
   "id": "142a56ec",
   "metadata": {},
   "outputs": [],
   "source": [
    "spark.stop()"
   ]
  },
  {
   "cell_type": "code",
   "execution_count": 3,
   "id": "624101c1",
   "metadata": {},
   "outputs": [
    {
     "data": {
      "text/html": [
       "<div>\n",
       "<style scoped>\n",
       "    .dataframe tbody tr th:only-of-type {\n",
       "        vertical-align: middle;\n",
       "    }\n",
       "\n",
       "    .dataframe tbody tr th {\n",
       "        vertical-align: top;\n",
       "    }\n",
       "\n",
       "    .dataframe thead th {\n",
       "        text-align: right;\n",
       "    }\n",
       "</style>\n",
       "<table border=\"1\" class=\"dataframe\">\n",
       "  <thead>\n",
       "    <tr style=\"text-align: right;\">\n",
       "      <th></th>\n",
       "      <th>CAND_ID</th>\n",
       "      <th>CAND_NAME</th>\n",
       "      <th>CAND_PTY_AFFILIATION</th>\n",
       "      <th>CAND_ELECTION_YR</th>\n",
       "      <th>CAND_OFFICE_ST</th>\n",
       "      <th>CAND_OFFICE</th>\n",
       "      <th>CAND_OFFICE_DISTRICT</th>\n",
       "      <th>CAND_ICI</th>\n",
       "      <th>CAND_STATUS</th>\n",
       "      <th>CAND_PCC</th>\n",
       "      <th>CAND_ST1</th>\n",
       "      <th>CAND_ST2</th>\n",
       "      <th>CAND_CITY</th>\n",
       "      <th>CAND_ST</th>\n",
       "      <th>CAND_ZIP</th>\n",
       "    </tr>\n",
       "  </thead>\n",
       "  <tbody>\n",
       "    <tr>\n",
       "      <th>0</th>\n",
       "      <td>H0AK00105</td>\n",
       "      <td>LAMB, THOMAS</td>\n",
       "      <td>NNE</td>\n",
       "      <td>2020</td>\n",
       "      <td>AK</td>\n",
       "      <td>H</td>\n",
       "      <td>0.0</td>\n",
       "      <td>C</td>\n",
       "      <td>N</td>\n",
       "      <td>C00607515</td>\n",
       "      <td>1861 W LAKE LUCILLE DR</td>\n",
       "      <td>NaN</td>\n",
       "      <td>WASILLA</td>\n",
       "      <td>AK</td>\n",
       "      <td>99654.0</td>\n",
       "    </tr>\n",
       "    <tr>\n",
       "      <th>1</th>\n",
       "      <td>H0AK00113</td>\n",
       "      <td>TUGATUK, RAY SEAN</td>\n",
       "      <td>DEM</td>\n",
       "      <td>2020</td>\n",
       "      <td>AK</td>\n",
       "      <td>H</td>\n",
       "      <td>0.0</td>\n",
       "      <td>C</td>\n",
       "      <td>N</td>\n",
       "      <td>NaN</td>\n",
       "      <td>PO BOX 172</td>\n",
       "      <td>NaN</td>\n",
       "      <td>MANAKOTAK</td>\n",
       "      <td>AK</td>\n",
       "      <td>99628.0</td>\n",
       "    </tr>\n",
       "  </tbody>\n",
       "</table>\n",
       "</div>"
      ],
      "text/plain": [
       "     CAND_ID          CAND_NAME CAND_PTY_AFFILIATION  CAND_ELECTION_YR  \\\n",
       "0  H0AK00105       LAMB, THOMAS                  NNE              2020   \n",
       "1  H0AK00113  TUGATUK, RAY SEAN                  DEM              2020   \n",
       "\n",
       "  CAND_OFFICE_ST CAND_OFFICE  CAND_OFFICE_DISTRICT CAND_ICI CAND_STATUS  \\\n",
       "0             AK           H                   0.0        C           N   \n",
       "1             AK           H                   0.0        C           N   \n",
       "\n",
       "    CAND_PCC                CAND_ST1 CAND_ST2  CAND_CITY CAND_ST  CAND_ZIP  \n",
       "0  C00607515  1861 W LAKE LUCILLE DR      NaN    WASILLA      AK   99654.0  \n",
       "1        NaN              PO BOX 172      NaN  MANAKOTAK      AK   99628.0  "
      ]
     },
     "execution_count": 3,
     "metadata": {},
     "output_type": "execute_result"
    }
   ],
   "source": [
    "cand_master_df = pd.read_csv(\"D:/DE_Project_FEC/fec_env/big-data-fec-project/data/raw/candidate_master/candidate_master.csv\")\n",
    "cand_master_df.head(2)"
   ]
  },
  {
   "cell_type": "code",
   "execution_count": 4,
   "id": "9b6628c1",
   "metadata": {},
   "outputs": [
    {
     "name": "stdout",
     "output_type": "stream",
     "text": [
      "<class 'pandas.core.frame.DataFrame'>\n",
      "RangeIndex: 7758 entries, 0 to 7757\n",
      "Data columns (total 15 columns):\n",
      " #   Column                Non-Null Count  Dtype  \n",
      "---  ------                --------------  -----  \n",
      " 0   CAND_ID               7758 non-null   object \n",
      " 1   CAND_NAME             7758 non-null   object \n",
      " 2   CAND_PTY_AFFILIATION  7751 non-null   object \n",
      " 3   CAND_ELECTION_YR      7758 non-null   int64  \n",
      " 4   CAND_OFFICE_ST        7758 non-null   object \n",
      " 5   CAND_OFFICE           7758 non-null   object \n",
      " 6   CAND_OFFICE_DISTRICT  7751 non-null   float64\n",
      " 7   CAND_ICI              7436 non-null   object \n",
      " 8   CAND_STATUS           7758 non-null   object \n",
      " 9   CAND_PCC              6337 non-null   object \n",
      " 10  CAND_ST1              7569 non-null   object \n",
      " 11  CAND_ST2              914 non-null    object \n",
      " 12  CAND_CITY             7755 non-null   object \n",
      " 13  CAND_ST               7579 non-null   object \n",
      " 14  CAND_ZIP              7568 non-null   float64\n",
      "dtypes: float64(2), int64(1), object(12)\n",
      "memory usage: 909.3+ KB\n"
     ]
    }
   ],
   "source": [
    "# datatype check\n",
    "cand_master_df.info()"
   ]
  },
  {
   "cell_type": "code",
   "execution_count": 5,
   "id": "f4839acf",
   "metadata": {},
   "outputs": [
    {
     "data": {
      "text/plain": [
       "CAND_ID                    0\n",
       "CAND_NAME                  0\n",
       "CAND_PTY_AFFILIATION       7\n",
       "CAND_ELECTION_YR           0\n",
       "CAND_OFFICE_ST             0\n",
       "CAND_OFFICE                0\n",
       "CAND_OFFICE_DISTRICT       7\n",
       "CAND_ICI                 322\n",
       "CAND_STATUS                0\n",
       "CAND_PCC                1421\n",
       "CAND_ST1                 189\n",
       "CAND_ST2                6844\n",
       "CAND_CITY                  3\n",
       "CAND_ST                  179\n",
       "CAND_ZIP                 190\n",
       "dtype: int64"
      ]
     },
     "execution_count": 5,
     "metadata": {},
     "output_type": "execute_result"
    }
   ],
   "source": [
    "# null values check\n",
    "cand_master_df.isnull().sum()"
   ]
  },
  {
   "cell_type": "code",
   "execution_count": 181,
   "id": "6e5d6c86",
   "metadata": {},
   "outputs": [],
   "source": [
    "# replace null cand_pty_affiliation with NNE(None) code\n",
    "cand_master_df['CAND_PTY_AFFILIATION'] = cand_master_df['CAND_PTY_AFFILIATION'].fillna('NNE')"
   ]
  },
  {
   "cell_type": "code",
   "execution_count": null,
   "id": "15054fd1",
   "metadata": {},
   "outputs": [],
   "source": [
    "# CAND_OFFICE_DISTRICT\n",
    "cand_master_df['CAND_OFFICE_DISTRICT'] = cand_master_df['CAND_OFFICE_DISTRICT'].fillna(0.0)\n",
    "cand_master_df['CAND_OFFICE_DISTRICT'] = cand_master_df['CAND_OFFICE_DISTRICT'].astype(int)"
   ]
  },
  {
   "cell_type": "code",
   "execution_count": 183,
   "id": "7a9bc075",
   "metadata": {},
   "outputs": [],
   "source": [
    "# CAND_ICI fill with random choice between other three values\n",
    "unique_ici = cand_master_df['CAND_ICI'].dropna().unique()\n",
    "cand_master_df['CAND_ICI'] = cand_master_df['CAND_ICI'].apply(lambda x: np.random.choice(unique_ici) if pd.isna(x) else x)"
   ]
  },
  {
   "cell_type": "code",
   "execution_count": 184,
   "id": "26711fff",
   "metadata": {},
   "outputs": [],
   "source": [
    "# CAND_PCC\n",
    "uniquer_pcc = cand_master_df['CAND_PCC'].dropna().unique()\n",
    "cand_master_df['CAND_PCC'] = cand_master_df['CAND_PCC'].apply(lambda x: np.random.choice(uniquer_pcc) if pd.isna(x) else x)"
   ]
  },
  {
   "cell_type": "code",
   "execution_count": 185,
   "id": "86dfb2b5",
   "metadata": {},
   "outputs": [],
   "source": [
    "# 'CAND_CITY' drop  null rows\n",
    "cand_master_df = cand_master_df.dropna(subset=['CAND_CITY'])"
   ]
  },
  {
   "cell_type": "code",
   "execution_count": 191,
   "id": "aab18626",
   "metadata": {},
   "outputs": [],
   "source": [
    "# Load local JSON file\n",
    "with open(\"C:/Users/mdsoh/Downloads/USCities.json\", \"r\") as f:\n",
    "    data = json.load(f)\n",
    "\n",
    "zip_df = pd.DataFrame(data)\n",
    "\n",
    "# Format city/state to align with your main DataFrame\n",
    "zip_df['city'] = zip_df['city'].str.upper()\n",
    "zip_df['state'] = zip_df['state'].str.upper()\n",
    "zip_df['zip_code'] = zip_df['zip_code'].astype(str).str.zfill(5)\n",
    "\n",
    "# Drop duplicates so only the first ZIP per city/state is kept\n",
    "zip_df = zip_df.drop_duplicates(subset=['city', 'state'])\n",
    "\n",
    "def get_first_zip(city, state):\n",
    "    state_df = zip_df[(zip_df['state']==state) & (zip_df['city']==city)]\n",
    "    if state_df.empty:\n",
    "        return 0\n",
    "    return state_df['zip_code'].values[0]\n",
    "\n",
    "cand_master_df['CAND_CITY'] = cand_master_df['CAND_CITY'].str.upper()\n",
    "cand_master_df['CAND_ST'] = cand_master_df['CAND_ST'].str.upper()\n",
    "\n",
    "# Normalize and identify null ZIPs\n",
    "cand_master_df['CAND_ZIP'] = cand_master_df['CAND_ZIP'].astype(str).str.replace('.0', '', regex=False)\n",
    "cand_master_df.loc[cand_master_df['CAND_ZIP'].isin(['nan', 'None', '','NAN']), 'CAND_ZIP'] = None\n",
    "\n",
    "# Fill null ZIPs with a random one based on city/state\n",
    "mask = cand_master_df['CAND_ZIP'].isnull()\n",
    "cand_master_df.loc[mask, 'CAND_ZIP'] = cand_master_df[mask].apply(\n",
    "    lambda row: get_first_zip(row['CAND_CITY'], row['CAND_ST']),\n",
    "    axis=1\n",
    ")\n",
    "\n",
    "cand_master_df['CAND_ZIP'] = cand_master_df['CAND_ZIP'].astype(int)"
   ]
  },
  {
   "cell_type": "code",
   "execution_count": 192,
   "id": "d9a54a62",
   "metadata": {},
   "outputs": [
    {
     "data": {
      "text/plain": [
       "(7755, 15)"
      ]
     },
     "execution_count": 192,
     "metadata": {},
     "output_type": "execute_result"
    }
   ],
   "source": [
    "cand_master_df.shape"
   ]
  },
  {
   "cell_type": "markdown",
   "id": "6d5a72fd",
   "metadata": {},
   "source": [
    "## 2. committee master"
   ]
  },
  {
   "cell_type": "code",
   "execution_count": 254,
   "id": "f4a8a880",
   "metadata": {},
   "outputs": [
    {
     "data": {
      "text/html": [
       "<div>\n",
       "<style scoped>\n",
       "    .dataframe tbody tr th:only-of-type {\n",
       "        vertical-align: middle;\n",
       "    }\n",
       "\n",
       "    .dataframe tbody tr th {\n",
       "        vertical-align: top;\n",
       "    }\n",
       "\n",
       "    .dataframe thead th {\n",
       "        text-align: right;\n",
       "    }\n",
       "</style>\n",
       "<table border=\"1\" class=\"dataframe\">\n",
       "  <thead>\n",
       "    <tr style=\"text-align: right;\">\n",
       "      <th></th>\n",
       "      <th>CMTE_ID</th>\n",
       "      <th>CMTE_NM</th>\n",
       "      <th>TRES_NM</th>\n",
       "      <th>CMTE_ST1</th>\n",
       "      <th>CMTE_ST2</th>\n",
       "      <th>CMTE_CITY</th>\n",
       "      <th>CMTE_ST</th>\n",
       "      <th>CMTE_ZIP</th>\n",
       "      <th>CMTE_DSGN</th>\n",
       "      <th>CMTE_TP</th>\n",
       "      <th>CMTE_PTY_AFFILIATION</th>\n",
       "      <th>CMTE_FILING_FREQ</th>\n",
       "      <th>ORG_TP</th>\n",
       "      <th>CONNECTED_ORG_NM</th>\n",
       "      <th>CAND_ID</th>\n",
       "    </tr>\n",
       "  </thead>\n",
       "  <tbody>\n",
       "    <tr>\n",
       "      <th>0</th>\n",
       "      <td>C00000059</td>\n",
       "      <td>HALLMARK CARDS PAC</td>\n",
       "      <td>SARAH MOE</td>\n",
       "      <td>2501 MCGEE</td>\n",
       "      <td>MD #500</td>\n",
       "      <td>KANSAS CITY</td>\n",
       "      <td>MO</td>\n",
       "      <td>64108</td>\n",
       "      <td>U</td>\n",
       "      <td>Q</td>\n",
       "      <td>UNK</td>\n",
       "      <td>M</td>\n",
       "      <td>C</td>\n",
       "      <td>NaN</td>\n",
       "      <td>NaN</td>\n",
       "    </tr>\n",
       "    <tr>\n",
       "      <th>1</th>\n",
       "      <td>C00000422</td>\n",
       "      <td>AMERICAN MEDICAL ASSOCIATION POLITICAL ACTION ...</td>\n",
       "      <td>WALKER, KEVIN MR.</td>\n",
       "      <td>25 MASSACHUSETTS AVE, NW</td>\n",
       "      <td>SUITE 600</td>\n",
       "      <td>WASHINGTON</td>\n",
       "      <td>DC</td>\n",
       "      <td>200017400</td>\n",
       "      <td>B</td>\n",
       "      <td>Q</td>\n",
       "      <td>NaN</td>\n",
       "      <td>M</td>\n",
       "      <td>NaN</td>\n",
       "      <td>DELAWARE MEDICAL PAC</td>\n",
       "      <td>NaN</td>\n",
       "    </tr>\n",
       "  </tbody>\n",
       "</table>\n",
       "</div>"
      ],
      "text/plain": [
       "     CMTE_ID                                            CMTE_NM  \\\n",
       "0  C00000059                                 HALLMARK CARDS PAC   \n",
       "1  C00000422  AMERICAN MEDICAL ASSOCIATION POLITICAL ACTION ...   \n",
       "\n",
       "             TRES_NM                  CMTE_ST1   CMTE_ST2    CMTE_CITY  \\\n",
       "0          SARAH MOE                2501 MCGEE    MD #500  KANSAS CITY   \n",
       "1  WALKER, KEVIN MR.  25 MASSACHUSETTS AVE, NW  SUITE 600   WASHINGTON   \n",
       "\n",
       "  CMTE_ST   CMTE_ZIP CMTE_DSGN CMTE_TP CMTE_PTY_AFFILIATION CMTE_FILING_FREQ  \\\n",
       "0      MO      64108         U       Q                  UNK                M   \n",
       "1      DC  200017400         B       Q                  NaN                M   \n",
       "\n",
       "  ORG_TP      CONNECTED_ORG_NM CAND_ID  \n",
       "0      C                   NaN     NaN  \n",
       "1    NaN  DELAWARE MEDICAL PAC     NaN  "
      ]
     },
     "execution_count": 254,
     "metadata": {},
     "output_type": "execute_result"
    }
   ],
   "source": [
    "comm_master_df = pd.read_csv(\"D:/DE_Project_FEC/fec_env/big-data-fec-project/data/raw/committe_master/committe_master.csv\")\n",
    "comm_master_df.head(2)"
   ]
  },
  {
   "cell_type": "code",
   "execution_count": 255,
   "id": "66ab0c14",
   "metadata": {},
   "outputs": [
    {
     "name": "stdout",
     "output_type": "stream",
     "text": [
      "<class 'pandas.core.frame.DataFrame'>\n",
      "RangeIndex: 18286 entries, 0 to 18285\n",
      "Data columns (total 15 columns):\n",
      " #   Column                Non-Null Count  Dtype \n",
      "---  ------                --------------  ----- \n",
      " 0   CMTE_ID               18286 non-null  object\n",
      " 1   CMTE_NM               18284 non-null  object\n",
      " 2   TRES_NM               17557 non-null  object\n",
      " 3   CMTE_ST1              18277 non-null  object\n",
      " 4   CMTE_ST2              4519 non-null   object\n",
      " 5   CMTE_CITY             18277 non-null  object\n",
      " 6   CMTE_ST               18278 non-null  object\n",
      " 7   CMTE_ZIP              18273 non-null  object\n",
      " 8   CMTE_DSGN             18281 non-null  object\n",
      " 9   CMTE_TP               18281 non-null  object\n",
      " 10  CMTE_PTY_AFFILIATION  7796 non-null   object\n",
      " 11  CMTE_FILING_FREQ      18286 non-null  object\n",
      " 12  ORG_TP                3253 non-null   object\n",
      " 13  CONNECTED_ORG_NM      9273 non-null   object\n",
      " 14  CAND_ID               6718 non-null   object\n",
      "dtypes: object(15)\n",
      "memory usage: 2.1+ MB\n"
     ]
    }
   ],
   "source": [
    "# data type check\n",
    "comm_master_df.info()"
   ]
  },
  {
   "cell_type": "code",
   "execution_count": 260,
   "id": "9672d104",
   "metadata": {},
   "outputs": [
    {
     "data": {
      "text/plain": [
       "CMTE_ID                     0\n",
       "CMTE_NM                     0\n",
       "TRES_NM                     0\n",
       "CMTE_ST1                    1\n",
       "CMTE_ST2                13759\n",
       "CMTE_CITY                   0\n",
       "CMTE_ST                     0\n",
       "CMTE_ZIP                    4\n",
       "CMTE_DSGN                   2\n",
       "CMTE_TP                     2\n",
       "CMTE_PTY_AFFILIATION        0\n",
       "CMTE_FILING_FREQ            0\n",
       "ORG_TP                      0\n",
       "CONNECTED_ORG_NM            0\n",
       "CAND_ID                 11562\n",
       "dtype: int64"
      ]
     },
     "execution_count": 260,
     "metadata": {},
     "output_type": "execute_result"
    }
   ],
   "source": [
    "comm_master_df.isnull().sum()"
   ]
  },
  {
   "cell_type": "code",
   "execution_count": 257,
   "id": "eee07979",
   "metadata": {},
   "outputs": [],
   "source": [
    "# treasured name not found\n",
    "comm_master_df['TRES_NM'] = comm_master_df['TRES_NM'].fillna('Not Mention')\n",
    "comm_master_df['CMTE_PTY_AFFILIATION'] = comm_master_df['CMTE_PTY_AFFILIATION'].fillna('NNE')\n",
    "comm_master_df['ORG_TP'] = comm_master_df['ORG_TP'].fillna('N')\n",
    "comm_master_df['CONNECTED_ORG_NM'] = comm_master_df['CONNECTED_ORG_NM'].fillna('NONE')"
   ]
  },
  {
   "cell_type": "code",
   "execution_count": 258,
   "id": "74c40bd2",
   "metadata": {},
   "outputs": [],
   "source": [
    "# 'CMTE_NM','CMTE_CITY' drop  null rows\n",
    "comm_master_df = comm_master_df.dropna(subset=['CMTE_NM','CMTE_CITY'])"
   ]
  },
  {
   "cell_type": "code",
   "execution_count": 259,
   "id": "df879dbe",
   "metadata": {},
   "outputs": [
    {
     "data": {
      "text/plain": [
       "(18277, 15)"
      ]
     },
     "execution_count": 259,
     "metadata": {},
     "output_type": "execute_result"
    }
   ],
   "source": [
    "comm_master_df.shape"
   ]
  },
  {
   "cell_type": "markdown",
   "id": "8504a551",
   "metadata": {},
   "source": [
    "## 3. candidate committee linkage"
   ]
  },
  {
   "cell_type": "code",
   "execution_count": 261,
   "id": "49c7db8e",
   "metadata": {},
   "outputs": [
    {
     "data": {
      "text/html": [
       "<div>\n",
       "<style scoped>\n",
       "    .dataframe tbody tr th:only-of-type {\n",
       "        vertical-align: middle;\n",
       "    }\n",
       "\n",
       "    .dataframe tbody tr th {\n",
       "        vertical-align: top;\n",
       "    }\n",
       "\n",
       "    .dataframe thead th {\n",
       "        text-align: right;\n",
       "    }\n",
       "</style>\n",
       "<table border=\"1\" class=\"dataframe\">\n",
       "  <thead>\n",
       "    <tr style=\"text-align: right;\">\n",
       "      <th></th>\n",
       "      <th>CAND_ID</th>\n",
       "      <th>CAND_ELECTION_YR</th>\n",
       "      <th>FEC_ELECTION_YR</th>\n",
       "      <th>CMTE_ID</th>\n",
       "      <th>CMTE_TP</th>\n",
       "      <th>CMTE_DSGN</th>\n",
       "      <th>LINKAGE_ID</th>\n",
       "    </tr>\n",
       "  </thead>\n",
       "  <tbody>\n",
       "    <tr>\n",
       "      <th>0</th>\n",
       "      <td>C00713602</td>\n",
       "      <td>2019</td>\n",
       "      <td>2020</td>\n",
       "      <td>C00712851</td>\n",
       "      <td>O</td>\n",
       "      <td>U</td>\n",
       "      <td>228963</td>\n",
       "    </tr>\n",
       "    <tr>\n",
       "      <th>1</th>\n",
       "      <td>H0AK00105</td>\n",
       "      <td>2020</td>\n",
       "      <td>2020</td>\n",
       "      <td>C00607515</td>\n",
       "      <td>H</td>\n",
       "      <td>P</td>\n",
       "      <td>229250</td>\n",
       "    </tr>\n",
       "  </tbody>\n",
       "</table>\n",
       "</div>"
      ],
      "text/plain": [
       "     CAND_ID  CAND_ELECTION_YR  FEC_ELECTION_YR    CMTE_ID CMTE_TP CMTE_DSGN  \\\n",
       "0  C00713602              2019             2020  C00712851       O         U   \n",
       "1  H0AK00105              2020             2020  C00607515       H         P   \n",
       "\n",
       "   LINKAGE_ID  \n",
       "0      228963  \n",
       "1      229250  "
      ]
     },
     "execution_count": 261,
     "metadata": {},
     "output_type": "execute_result"
    }
   ],
   "source": [
    "cand_comm_df = pd.read_csv(\"D:/DE_Project_FEC/fec_env/big-data-fec-project/data/raw/candidate_committtee_linkage/candidate_committtee_linkage.csv\")\n",
    "cand_comm_df.head(2)"
   ]
  },
  {
   "cell_type": "code",
   "execution_count": 262,
   "id": "2c407685",
   "metadata": {},
   "outputs": [
    {
     "name": "stdout",
     "output_type": "stream",
     "text": [
      "<class 'pandas.core.frame.DataFrame'>\n",
      "RangeIndex: 7055 entries, 0 to 7054\n",
      "Data columns (total 7 columns):\n",
      " #   Column            Non-Null Count  Dtype \n",
      "---  ------            --------------  ----- \n",
      " 0   CAND_ID           7055 non-null   object\n",
      " 1   CAND_ELECTION_YR  7055 non-null   int64 \n",
      " 2   FEC_ELECTION_YR   7055 non-null   int64 \n",
      " 3   CMTE_ID           7055 non-null   object\n",
      " 4   CMTE_TP           7055 non-null   object\n",
      " 5   CMTE_DSGN         7055 non-null   object\n",
      " 6   LINKAGE_ID        7055 non-null   int64 \n",
      "dtypes: int64(3), object(4)\n",
      "memory usage: 385.9+ KB\n"
     ]
    }
   ],
   "source": [
    "# data type check\n",
    "cand_comm_df.info()"
   ]
  },
  {
   "cell_type": "code",
   "execution_count": 263,
   "id": "c32eb73a",
   "metadata": {},
   "outputs": [
    {
     "data": {
      "text/plain": [
       "CAND_ID             0\n",
       "CAND_ELECTION_YR    0\n",
       "FEC_ELECTION_YR     0\n",
       "CMTE_ID             0\n",
       "CMTE_TP             0\n",
       "CMTE_DSGN           0\n",
       "LINKAGE_ID          0\n",
       "dtype: int64"
      ]
     },
     "execution_count": 263,
     "metadata": {},
     "output_type": "execute_result"
    }
   ],
   "source": [
    "# null check\n",
    "cand_comm_df.isnull().sum()"
   ]
  },
  {
   "cell_type": "markdown",
   "id": "3bea8831",
   "metadata": {},
   "source": [
    "## 4. operating expenditure"
   ]
  },
  {
   "cell_type": "code",
   "execution_count": null,
   "id": "7a471989",
   "metadata": {},
   "outputs": [],
   "source": [
    "from pyspark.sql.types import StructType, StructField, StringType, DoubleType, DateType, LongType, IntegerType\n",
    "schedule_schema = StructType([\n",
    "    StructField(\"CMTE_ID\", StringType(), False),               # VARCHAR2(9)\n",
    "    StructField(\"AMNDT_IND\", StringType(), True),             # VARCHAR2(1)\n",
    "    StructField(\"RPT_YR\", IntegerType(), True),               # Number(4)\n",
    "    StructField(\"RPT_TP\", StringType(), True),                # VARCHAR2(3)\n",
    "    StructField(\"IMAGE_NUM\", StringType(), True),             # VARCHAR2(11/18)\n",
    "    StructField(\"LINE_NUM\", StringType(), True),\n",
    "    StructField(\"FORM_TP_CD\", StringType(), True),\n",
    "    StructField(\"SCHED_TP_CD\", StringType(), True),\n",
    "    StructField(\"NAME\", StringType(), True),\n",
    "    StructField(\"CITY\", StringType(), True),\n",
    "    StructField(\"STATE\", StringType(), True),\n",
    "    StructField(\"ZIP_CODE\", StringType(), True),\n",
    "    StructField(\"TRANSACTION_DT\", DateType(), True),          # DATE\n",
    "    StructField(\"TRANSACTION_AMT\", DoubleType(), True),       # NUMBER(14,2)\n",
    "    StructField(\"TRANSACTION_PGI\", StringType(), True),       # VARCHAR2(5)\n",
    "    StructField(\"PURPOSE\", StringType(), True),               # VARCHAR2(100)\n",
    "    StructField(\"CATEGORY\", StringType(), True),              # VARCHAR2(3)\n",
    "    StructField(\"CATEGORY_DESC\", StringType(), True),         # VARCHAR2(40)\n",
    "    StructField(\"MEMO_CD\", StringType(), True),               # VARCHAR2(1)\n",
    "    StructField(\"MEMO_TEXT\", StringType(), True),             # VARCHAR2(100)\n",
    "    StructField(\"ENTITY_TP\", StringType(), True),             # VARCHAR2(3)    \n",
    "    StructField(\"SUB_ID\", LongType(), False),                  # NUMBER(19)\n",
    "    StructField(\"FILE_NUM\", IntegerType(), True),             # NUMBER(7)\n",
    "    StructField(\"TRAN_ID\", StringType(), True),               # VARCHAR2(32)\n",
    "    StructField(\"BACK_REF_TRAN_ID\", StringType(), True)       # VARCHAR2(32)\n",
    "])"
   ]
  },
  {
   "cell_type": "code",
   "execution_count": 66,
   "id": "d0daaf2b",
   "metadata": {},
   "outputs": [],
   "source": [
    "oper_exp_df = spark.read.format(\"csv\") \\\n",
    "    .option(\"header\", \"true\") \\\n",
    "    .option(\"delimiter\", \"|\") \\\n",
    "    .option(\"badRecordsPath\", \"D:/Sohail_DE_Project/fec_env/big-data-fec-project/data/raw/operating_expense/badrecords.csv\") \\\n",
    "    .schema(schedule_schema) \\\n",
    "    .load(\"D:/Sohail_DE_Project/fec_env/big-data-fec-project/data/raw/operating_expense/oppexp.txt\")"
   ]
  },
  {
   "cell_type": "code",
   "execution_count": 67,
   "id": "6ef5e412",
   "metadata": {},
   "outputs": [
    {
     "name": "stdout",
     "output_type": "stream",
     "text": [
      "+---------+---------+------+------+------------------+--------+----------+-----------+--------------------+-------------+-----+---------+--------------+---------------+---------------+--------------------+--------+--------------------+-------+---------+---------+-------------------+--------+-----------+----------------+\n",
      "|  CMTE_ID|AMNDT_IND|RPT_YR|RPT_TP|         IMAGE_NUM|LINE_NUM|FORM_TP_CD|SCHED_TP_CD|                NAME|         CITY|STATE| ZIP_CODE|TRANSACTION_DT|TRANSACTION_AMT|TRANSACTION_PGI|             PURPOSE|CATEGORY|       CATEGORY_DESC|MEMO_CD|MEMO_TEXT|ENTITY_TP|             SUB_ID|FILE_NUM|    TRAN_ID|BACK_REF_TRAN_ID|\n",
      "+---------+---------+------+------+------------------+--------+----------+-----------+--------------------+-------------+-----+---------+--------------+---------------+---------------+--------------------+--------+--------------------+-------+---------+---------+-------------------+--------+-----------+----------------+\n",
      "|C00639872|        T|  2019|   TER|201901209143894009|      17|        F3|         SB|ADMINISTRATIVE BU...|    CHARLOTTE|   NC|282134290|          NULL|         365.51|          G2018|ACCOUNTING AND CO...|    NULL|                NULL|   NULL|     NULL|      ORG|4021520191639587673| 1305744|VTPY09W3DX1|            NULL|\n",
      "|C00639872|        T|  2019|   TER|201901209143894009|      17|        F3|         SB|             ADP INC|     ROSELAND|   NJ|070681728|          NULL|          65.63|          G2018|        PAYROLL FEES|    NULL|                NULL|   NULL|     NULL|      ORG|4021520191639587675| 1305744|VTPY09W2JW7|            NULL|\n",
      "|C00639872|        T|  2019|   TER|201901209143894009|      17|        F3|         SB|          HUSTLE INC|SAN FRANCISCO|   CA|941084547|          NULL|        4399.01|          G2018|ADVERTISING & MAR...|    NULL|                NULL|   NULL|     NULL|      ORG|4021520191639587677| 1305744|VTPY09W2KA8|            NULL|\n",
      "|C00639872|        T|  2019|   TER|201901209143894010|      17|        F3|         SB|        NGP VAN INC.|   WASHINGTON|   DC|200052157|          NULL|          150.0|          G2018| COMPLIANCE SOFTWARE|    NULL|                NULL|   NULL|     NULL|      ORG|4021520191639587679| 1305744|VTPY09W3DV6|            NULL|\n",
      "|C00432906|        T|  2019|   TER|201901219143901217|      17|        F3|         SB|         ELECTEK USA|CHAGRIN FALLS|   OH|    44023|          NULL|         -400.0|           NULL|VOID OF PREVIOUS ...|     001|Administrative/Sa...|   NULL|     NULL|      ORG|4021320191639407447| 1305860| SB17.55757|            NULL|\n",
      "+---------+---------+------+------+------------------+--------+----------+-----------+--------------------+-------------+-----+---------+--------------+---------------+---------------+--------------------+--------+--------------------+-------+---------+---------+-------------------+--------+-----------+----------------+\n",
      "only showing top 5 rows\n",
      "\n"
     ]
    }
   ],
   "source": [
    "oper_exp_df.show(5)"
   ]
  },
  {
   "cell_type": "code",
   "execution_count": 68,
   "id": "63d1ccbe",
   "metadata": {},
   "outputs": [
    {
     "data": {
      "text/plain": [
       "20"
      ]
     },
     "execution_count": 68,
     "metadata": {},
     "output_type": "execute_result"
    }
   ],
   "source": [
    "oper_exp_df.rdd.getNumPartitions()"
   ]
  },
  {
   "cell_type": "code",
   "execution_count": 69,
   "id": "1eb57f90",
   "metadata": {},
   "outputs": [
    {
     "data": {
      "text/plain": [
       "2310524"
      ]
     },
     "execution_count": 69,
     "metadata": {},
     "output_type": "execute_result"
    }
   ],
   "source": [
    "oper_exp_df.count()"
   ]
  },
  {
   "cell_type": "code",
   "execution_count": null,
   "id": "bc3dac76",
   "metadata": {},
   "outputs": [],
   "source": []
  },
  {
   "cell_type": "code",
   "execution_count": 3,
   "id": "6e723e62",
   "metadata": {},
   "outputs": [
    {
     "name": "stderr",
     "output_type": "stream",
     "text": [
      "C:\\Users\\mdsoh\\AppData\\Local\\Temp\\ipykernel_14380\\181831445.py:2: DtypeWarning: Columns (11,16) have mixed types. Specify dtype option on import or set low_memory=False.\n",
      "  oper_exp_df = pd.read_csv(\"D:/DE_Project_FEC/fec_env/big-data-fec-project/data/raw/operating_expenditure/oppexp.txt\", delimiter=\"|\",on_bad_lines='skip')\n"
     ]
    },
    {
     "data": {
      "text/html": [
       "<div>\n",
       "<style scoped>\n",
       "    .dataframe tbody tr th:only-of-type {\n",
       "        vertical-align: middle;\n",
       "    }\n",
       "\n",
       "    .dataframe tbody tr th {\n",
       "        vertical-align: top;\n",
       "    }\n",
       "\n",
       "    .dataframe thead th {\n",
       "        text-align: right;\n",
       "    }\n",
       "</style>\n",
       "<table border=\"1\" class=\"dataframe\">\n",
       "  <thead>\n",
       "    <tr style=\"text-align: right;\">\n",
       "      <th></th>\n",
       "      <th>CMTE_ID</th>\n",
       "      <th>AMNDT_IND</th>\n",
       "      <th>RPT_YR</th>\n",
       "      <th>RPT_TP</th>\n",
       "      <th>IMAGE_NUM</th>\n",
       "      <th>LINE_NUM</th>\n",
       "      <th>FORM_TP_CD</th>\n",
       "      <th>SCHED_TP_CD</th>\n",
       "      <th>NAME</th>\n",
       "      <th>CITY</th>\n",
       "      <th>...</th>\n",
       "      <th>CATEGORY</th>\n",
       "      <th>CATEGORY_DESC</th>\n",
       "      <th>MEMO_CD</th>\n",
       "      <th>MEMO_TEXT</th>\n",
       "      <th>ENTITY_TP</th>\n",
       "      <th>SUB_ID</th>\n",
       "      <th>FILE_NUM</th>\n",
       "      <th>TRAN_ID</th>\n",
       "      <th>BACK_REF_TRAN_ID</th>\n",
       "      <th>Unnamed: 25</th>\n",
       "    </tr>\n",
       "  </thead>\n",
       "  <tbody>\n",
       "    <tr>\n",
       "      <th>0</th>\n",
       "      <td>C00639872</td>\n",
       "      <td>T</td>\n",
       "      <td>2019</td>\n",
       "      <td>TER</td>\n",
       "      <td>201901209143894009</td>\n",
       "      <td>17</td>\n",
       "      <td>F3</td>\n",
       "      <td>SB</td>\n",
       "      <td>ADMINISTRATIVE BUSINESS SERVICES</td>\n",
       "      <td>CHARLOTTE</td>\n",
       "      <td>...</td>\n",
       "      <td>NaN</td>\n",
       "      <td>NaN</td>\n",
       "      <td>NaN</td>\n",
       "      <td>NaN</td>\n",
       "      <td>ORG</td>\n",
       "      <td>4021520191639587673</td>\n",
       "      <td>1305744</td>\n",
       "      <td>VTPY09W3DX1</td>\n",
       "      <td>NaN</td>\n",
       "      <td>NaN</td>\n",
       "    </tr>\n",
       "    <tr>\n",
       "      <th>1</th>\n",
       "      <td>C00639872</td>\n",
       "      <td>T</td>\n",
       "      <td>2019</td>\n",
       "      <td>TER</td>\n",
       "      <td>201901209143894009</td>\n",
       "      <td>17</td>\n",
       "      <td>F3</td>\n",
       "      <td>SB</td>\n",
       "      <td>ADP INC</td>\n",
       "      <td>ROSELAND</td>\n",
       "      <td>...</td>\n",
       "      <td>NaN</td>\n",
       "      <td>NaN</td>\n",
       "      <td>NaN</td>\n",
       "      <td>NaN</td>\n",
       "      <td>ORG</td>\n",
       "      <td>4021520191639587675</td>\n",
       "      <td>1305744</td>\n",
       "      <td>VTPY09W2JW7</td>\n",
       "      <td>NaN</td>\n",
       "      <td>NaN</td>\n",
       "    </tr>\n",
       "  </tbody>\n",
       "</table>\n",
       "<p>2 rows × 26 columns</p>\n",
       "</div>"
      ],
      "text/plain": [
       "     CMTE_ID AMNDT_IND  RPT_YR RPT_TP           IMAGE_NUM LINE_NUM FORM_TP_CD  \\\n",
       "0  C00639872         T    2019    TER  201901209143894009       17         F3   \n",
       "1  C00639872         T    2019    TER  201901209143894009       17         F3   \n",
       "\n",
       "  SCHED_TP_CD                              NAME       CITY  ... CATEGORY  \\\n",
       "0          SB  ADMINISTRATIVE BUSINESS SERVICES  CHARLOTTE  ...      NaN   \n",
       "1          SB                           ADP INC   ROSELAND  ...      NaN   \n",
       "\n",
       "  CATEGORY_DESC MEMO_CD  MEMO_TEXT ENTITY_TP               SUB_ID FILE_NUM  \\\n",
       "0           NaN     NaN        NaN       ORG  4021520191639587673  1305744   \n",
       "1           NaN     NaN        NaN       ORG  4021520191639587675  1305744   \n",
       "\n",
       "       TRAN_ID BACK_REF_TRAN_ID Unnamed: 25  \n",
       "0  VTPY09W3DX1              NaN         NaN  \n",
       "1  VTPY09W2JW7              NaN         NaN  \n",
       "\n",
       "[2 rows x 26 columns]"
      ]
     },
     "execution_count": 3,
     "metadata": {},
     "output_type": "execute_result"
    }
   ],
   "source": [
    "#oper_exp_df = pd.read_csv(\"D:/DE_Project_FEC/fec_env/big-data-fec-project/data/raw/operating_expenditure/oppexp.txt\")\n",
    "oper_exp_df = pd.read_csv(\"D:/DE_Project_FEC/fec_env/big-data-fec-project/data/raw/operating_expenditure/oppexp.txt\", delimiter=\"|\",on_bad_lines='skip')\n",
    "oper_exp_df.head(2)"
   ]
  },
  {
   "cell_type": "code",
   "execution_count": 4,
   "id": "8711c42f",
   "metadata": {},
   "outputs": [
    {
     "data": {
      "text/plain": [
       "(2310524, 26)"
      ]
     },
     "execution_count": 4,
     "metadata": {},
     "output_type": "execute_result"
    }
   ],
   "source": [
    "oper_exp_df.shape"
   ]
  },
  {
   "cell_type": "code",
   "execution_count": 8,
   "id": "3532a91a",
   "metadata": {},
   "outputs": [
    {
     "name": "stdout",
     "output_type": "stream",
     "text": [
      "<class 'pandas.core.frame.DataFrame'>\n",
      "RangeIndex: 2310524 entries, 0 to 2310523\n",
      "Data columns (total 26 columns):\n",
      " #   Column            Dtype  \n",
      "---  ------            -----  \n",
      " 0   CMTE_ID           object \n",
      " 1   AMNDT_IND         object \n",
      " 2   RPT_YR            int64  \n",
      " 3   RPT_TP            object \n",
      " 4   IMAGE_NUM         int64  \n",
      " 5   LINE_NUM          object \n",
      " 6   FORM_TP_CD        object \n",
      " 7   SCHED_TP_CD       object \n",
      " 8   NAME              object \n",
      " 9   CITY              object \n",
      " 10  STATE             object \n",
      " 11  ZIP_CODE          object \n",
      " 12  TRANSACTION_DT    object \n",
      " 13  TRANSACTION_AMT   float64\n",
      " 14  TRANSACTION_PGI   object \n",
      " 15  PURPOSE           object \n",
      " 16  CATEGORY          object \n",
      " 17  CATEGORY_DESC     object \n",
      " 18  MEMO_CD           object \n",
      " 19  MEMO_TEXT         object \n",
      " 20  ENTITY_TP         object \n",
      " 21  SUB_ID            int64  \n",
      " 22  FILE_NUM          int64  \n",
      " 23  TRAN_ID           object \n",
      " 24  BACK_REF_TRAN_ID  object \n",
      " 25  Unnamed: 25       float64\n",
      "dtypes: float64(2), int64(4), object(20)\n",
      "memory usage: 458.3+ MB\n"
     ]
    }
   ],
   "source": [
    "# data type check\n",
    "oper_exp_df.info()"
   ]
  },
  {
   "cell_type": "code",
   "execution_count": 9,
   "id": "3784ec41",
   "metadata": {},
   "outputs": [
    {
     "data": {
      "text/plain": [
       "CMTE_ID                   0\n",
       "AMNDT_IND                 0\n",
       "RPT_YR                    0\n",
       "RPT_TP                    0\n",
       "IMAGE_NUM                 0\n",
       "LINE_NUM                  0\n",
       "FORM_TP_CD                0\n",
       "SCHED_TP_CD               0\n",
       "NAME                    158\n",
       "CITY                   6255\n",
       "STATE                  6463\n",
       "ZIP_CODE               7803\n",
       "TRANSACTION_DT           15\n",
       "TRANSACTION_AMT           0\n",
       "TRANSACTION_PGI      924380\n",
       "PURPOSE               10154\n",
       "CATEGORY            1800724\n",
       "CATEGORY_DESC       1808169\n",
       "MEMO_CD             1524383\n",
       "MEMO_TEXT           1718434\n",
       "ENTITY_TP              4593\n",
       "SUB_ID                    0\n",
       "FILE_NUM                  0\n",
       "TRAN_ID                   0\n",
       "BACK_REF_TRAN_ID    1619641\n",
       "Unnamed: 25         2310524\n",
       "dtype: int64"
      ]
     },
     "execution_count": 9,
     "metadata": {},
     "output_type": "execute_result"
    }
   ],
   "source": [
    "# null check \n",
    "oper_exp_df.isnull().sum()"
   ]
  },
  {
   "cell_type": "code",
   "execution_count": 10,
   "id": "62903185",
   "metadata": {},
   "outputs": [],
   "source": [
    "# Schedule type\n",
    "oper_exp_df['SCHED_TP_CD'] = oper_exp_df['SCHED_TP_CD'].fillna('Not Mention')"
   ]
  },
  {
   "cell_type": "code",
   "execution_count": 11,
   "id": "2256cc48",
   "metadata": {},
   "outputs": [],
   "source": [
    "# Contributor/Lender/Transfer Name\n",
    "oper_exp_df['NAME'] = oper_exp_df['NAME'].fillna('Not Mention')"
   ]
  },
  {
   "cell_type": "code",
   "execution_count": 12,
   "id": "944162b7",
   "metadata": {},
   "outputs": [
    {
     "data": {
      "text/plain": [
       "TRANSACTION_DT\n",
       "02/14/2020    17462\n",
       "01/31/2020    16982\n",
       "02/28/2020    14728\n",
       "09/30/2020    13754\n",
       "03/13/2020    12150\n",
       "              ...  \n",
       "01/06/2018        1\n",
       "03/20/2015        1\n",
       "01/15/2015        1\n",
       "10/05/2022        1\n",
       "12/15/2021        1\n",
       "Name: count, Length: 1134, dtype: int64"
      ]
     },
     "execution_count": 12,
     "metadata": {},
     "output_type": "execute_result"
    }
   ],
   "source": [
    "#  TRANSACTION_DT\n",
    "oper_exp_df['TRANSACTION_DT'].value_counts()"
   ]
  },
  {
   "cell_type": "markdown",
   "id": "50c32adb",
   "metadata": {},
   "source": [
    "## 5. individual contribution"
   ]
  },
  {
   "cell_type": "code",
   "execution_count": null,
   "id": "6af385ce",
   "metadata": {},
   "outputs": [],
   "source": [
    "import pandas as pd\n",
    "\n",
    "# File path\n",
    "file_path = \"D:/DE_Project_FEC/fec_env/big-data-fec-project/data/raw/individual_contribution/itcont.txt\"\n",
    "\n",
    "# Load headers from Excel\n",
    "headers_excel_path = \"D:/DE_Project_FEC/fec_env/big-data-fec-project/data/raw/individual_contribution/indiv_header_file.csv\"\n",
    "headers = pd.read_csv(headers_excel_path).columns.tolist()\n",
    "\n",
    "# Read the txt file (pipe-delimited) without headers\n",
    "df = pd.read_csv(file_path, delimiter=\"|\", header=None, names=headers,on_bad_lines='skip')\n",
    "\n",
    "# Sample 10% of the rows\n",
    "sample_df = df.sample(frac=0.1, random_state=42)\n",
    "\n",
    "# Show sample\n",
    "sample_df.head(2)\n"
   ]
  },
  {
   "cell_type": "code",
   "execution_count": null,
   "id": "59aa0afc",
   "metadata": {},
   "outputs": [],
   "source": [
    "\n",
    "# Define paths\n",
    "txt_file_path = \"D:/DE_Project_FEC/fec_env/big-data-fec-project/data/raw/individual_contribution/itcont.txt\"\n",
    "headers_csv_path = \"D:/DE_Project_FEC/fec_env/big-data-fec-project/data/raw/individual_contribution/indiv_header_file.csv\"\n",
    "\n",
    "# Load headers from CSV using pandas (Spark cannot directly extract just headers from a CSV)\n",
    "import pandas as pd\n",
    "headers = [\n",
    "    \"CMTE_ID\",\n",
    "    \"AMNDT_IND\",\n",
    "    \"RPT_TP\",\n",
    "    \"TRANSACTION_PGI\",\n",
    "    \"IMAGE_NUM\",\n",
    "    \"TRANSACTION_TP\",\n",
    "    \"ENTITY_TP\",\n",
    "    \"NAME\",\n",
    "    \"CITY\",\n",
    "    \"STATE\",\n",
    "    \"ZIP_CODE\",\n",
    "    \"EMPLOYER\",\n",
    "    \"OCCUPATION\",\n",
    "    \"TRANSACTION_DT\",\n",
    "    \"TRANSACTION_AMT\",\n",
    "    \"OTHER_ID\",\n",
    "    \"TRAN_ID\",\n",
    "    \"FILE_NUM\",\n",
    "    \"MEMO_CD\",\n",
    "    \"MEMO_TEXT\",\n",
    "    \"SUB_ID\"\n",
    "]\n",
    "\n",
    "# Read the text file using Spark\n",
    "df = spark.read.option(\"delimiter\", \"|\") \\\n",
    "    .option(\"header\", \"false\") \\\n",
    "    .csv(txt_file_path)\n",
    "\n",
    "# Assign headers manually\n",
    "df = df.toDF(*headers)\n",
    "\n",
    "# Sample 10% of the rows with a fixed random seed\n",
    "sample_df = df.sample(withReplacement=False, fraction=0.1, seed=42)\n",
    "\n",
    "# Show sample\n",
    "sample_df.show(2)\n"
   ]
  },
  {
   "cell_type": "markdown",
   "id": "4c9b1221",
   "metadata": {},
   "source": [
    "## 6. PAC Summary"
   ]
  },
  {
   "cell_type": "code",
   "execution_count": 37,
   "id": "e7ca1665",
   "metadata": {},
   "outputs": [],
   "source": [
    "from pyspark.sql.types import StructType, StructField, StringType, DoubleType, DateType\n",
    "\n",
    "pac_summary_schema = StructType([\n",
    "    StructField(\"CMTE_ID\", StringType(), True),\n",
    "    StructField(\"CMTE_NM\", StringType(), True),\n",
    "    StructField(\"CMTE_TP\", StringType(), True),\n",
    "    StructField(\"CMTE_DSGN\", StringType(), True),\n",
    "    StructField(\"CMTE_FILING_FREQ\", StringType(), True),\n",
    "    StructField(\"TTL_RECEIPTS\", DoubleType(), True),\n",
    "    StructField(\"TRANS_FROM_AFF\", DoubleType(), True),\n",
    "    StructField(\"INDV_CONTRIB\", DoubleType(), True),\n",
    "    StructField(\"OTHER_POL_CMTE_CONTRIB\", DoubleType(), True),\n",
    "    StructField(\"CAND_CONTRIB\", DoubleType(), True),\n",
    "    StructField(\"CAND_LOANS\", DoubleType(), True),\n",
    "    StructField(\"TTL_LOANS_RECEIVED\", DoubleType(), True),\n",
    "    StructField(\"TTL_DISB\", DoubleType(), True),\n",
    "    StructField(\"TRANF_TO_AFF\", DoubleType(), True),\n",
    "    StructField(\"INDV_REFUNDS\", DoubleType(), True),\n",
    "    StructField(\"OTHER_POL_CMTE_REFUNDS\", DoubleType(), True),\n",
    "    StructField(\"CAND_LOAN_REPAY\", DoubleType(), True),\n",
    "    StructField(\"LOAN_REPAY\", DoubleType(), True),\n",
    "    StructField(\"COH_BOP\", DoubleType(), True),\n",
    "    StructField(\"COH_COP\", DoubleType(), True),\n",
    "    StructField(\"DEBTS_OWED_BY\", DoubleType(), True),\n",
    "    StructField(\"NONFED_TRANS_RECEIVED\", DoubleType(), True),\n",
    "    StructField(\"CONTRIB_TO_OTHER_CMTE\", DoubleType(), True),\n",
    "    StructField(\"IND_EXP\", DoubleType(), True),\n",
    "    StructField(\"PTY_COORD_EXP\", DoubleType(), True),\n",
    "    StructField(\"NONFED_SHARE_EXP\", DoubleType(), True),\n",
    "    StructField(\"CVG_END_DT\", StringType(), True)  # Use StringType initially, can convert to DateType later\n",
    "])\n"
   ]
  },
  {
   "cell_type": "code",
   "execution_count": null,
   "id": "8a961978",
   "metadata": {},
   "outputs": [],
   "source": [
    "pac_summ_df = spark.read.format('csv') \\\n",
    "    .option('header', 'true') \\\n",
    "    .option('delimiter', '|') \\\n",
    "    .schema(pac_summary_schema) \\\n",
    "    .load(\"D:/Sohail_DE_Project/fec_env/big-data-fec-project/data/raw/pac_summary/webk20.txt\")\n"
   ]
  },
  {
   "cell_type": "code",
   "execution_count": 41,
   "id": "ae63871d",
   "metadata": {},
   "outputs": [
    {
     "name": "stdout",
     "output_type": "stream",
     "text": [
      "root\n",
      " |-- CMTE_ID: string (nullable = true)\n",
      " |-- CMTE_NM: string (nullable = true)\n",
      " |-- CMTE_TP: string (nullable = true)\n",
      " |-- CMTE_DSGN: string (nullable = true)\n",
      " |-- CMTE_FILING_FREQ: string (nullable = true)\n",
      " |-- TTL_RECEIPTS: double (nullable = true)\n",
      " |-- TRANS_FROM_AFF: double (nullable = true)\n",
      " |-- INDV_CONTRIB: double (nullable = true)\n",
      " |-- OTHER_POL_CMTE_CONTRIB: double (nullable = true)\n",
      " |-- CAND_CONTRIB: double (nullable = true)\n",
      " |-- CAND_LOANS: double (nullable = true)\n",
      " |-- TTL_LOANS_RECEIVED: double (nullable = true)\n",
      " |-- TTL_DISB: double (nullable = true)\n",
      " |-- TRANF_TO_AFF: double (nullable = true)\n",
      " |-- INDV_REFUNDS: double (nullable = true)\n",
      " |-- OTHER_POL_CMTE_REFUNDS: double (nullable = true)\n",
      " |-- CAND_LOAN_REPAY: double (nullable = true)\n",
      " |-- LOAN_REPAY: double (nullable = true)\n",
      " |-- COH_BOP: double (nullable = true)\n",
      " |-- COH_COP: double (nullable = true)\n",
      " |-- DEBTS_OWED_BY: double (nullable = true)\n",
      " |-- NONFED_TRANS_RECEIVED: double (nullable = true)\n",
      " |-- CONTRIB_TO_OTHER_CMTE: double (nullable = true)\n",
      " |-- IND_EXP: double (nullable = true)\n",
      " |-- PTY_COORD_EXP: double (nullable = true)\n",
      " |-- NONFED_SHARE_EXP: double (nullable = true)\n",
      " |-- CVG_END_DT: date (nullable = true)\n",
      "\n"
     ]
    }
   ],
   "source": [
    "pac_summ_df.printSchema()"
   ]
  },
  {
   "cell_type": "code",
   "execution_count": 40,
   "id": "e57f5de1",
   "metadata": {},
   "outputs": [],
   "source": [
    "from pyspark.sql.functions import to_date\n",
    "\n",
    "pac_summ_df = pac_summ_df.withColumn(\"CVG_END_DT\", to_date(\"CVG_END_DT\", \"MM/dd/yyyy\"))\n"
   ]
  },
  {
   "cell_type": "code",
   "execution_count": 60,
   "id": "b09aace3",
   "metadata": {},
   "outputs": [
    {
     "ename": "AnalysisException",
     "evalue": "[DATATYPE_MISMATCH.UNEXPECTED_INPUT_TYPE] Cannot resolve \"isnan(CVG_END_DT)\" due to data type mismatch: Parameter 1 requires the (\"DOUBLE\" or \"FLOAT\") type, however \"CVG_END_DT\" has the type \"DATE\".;\n'Aggregate [count(CASE WHEN (isnan(cast(CMTE_ID#1243 as double)) OR isnull(CMTE_ID#1243)) THEN CMTE_ID END) AS CMTE_ID#2305L, count(CASE WHEN (isnan(cast(CMTE_NM#1244 as double)) OR isnull(CMTE_NM#1244)) THEN CMTE_NM END) AS CMTE_NM#2307L, count(CASE WHEN (isnan(cast(CMTE_TP#1245 as double)) OR isnull(CMTE_TP#1245)) THEN CMTE_TP END) AS CMTE_TP#2309L, count(CASE WHEN (isnan(cast(CMTE_DSGN#1246 as double)) OR isnull(CMTE_DSGN#1246)) THEN CMTE_DSGN END) AS CMTE_DSGN#2311L, count(CASE WHEN (isnan(cast(CMTE_FILING_FREQ#1247 as double)) OR isnull(CMTE_FILING_FREQ#1247)) THEN CMTE_FILING_FREQ END) AS CMTE_FILING_FREQ#2313L, count(CASE WHEN (isnan(TTL_RECEIPTS#1248) OR isnull(TTL_RECEIPTS#1248)) THEN TTL_RECEIPTS END) AS TTL_RECEIPTS#2315L, count(CASE WHEN (isnan(TRANS_FROM_AFF#1249) OR isnull(TRANS_FROM_AFF#1249)) THEN TRANS_FROM_AFF END) AS TRANS_FROM_AFF#2317L, count(CASE WHEN (isnan(INDV_CONTRIB#1250) OR isnull(INDV_CONTRIB#1250)) THEN INDV_CONTRIB END) AS INDV_CONTRIB#2319L, count(CASE WHEN (isnan(OTHER_POL_CMTE_CONTRIB#1251) OR isnull(OTHER_POL_CMTE_CONTRIB#1251)) THEN OTHER_POL_CMTE_CONTRIB END) AS OTHER_POL_CMTE_CONTRIB#2321L, count(CASE WHEN (isnan(CAND_CONTRIB#1252) OR isnull(CAND_CONTRIB#1252)) THEN CAND_CONTRIB END) AS CAND_CONTRIB#2323L, count(CASE WHEN (isnan(CAND_LOANS#1253) OR isnull(CAND_LOANS#1253)) THEN CAND_LOANS END) AS CAND_LOANS#2325L, count(CASE WHEN (isnan(TTL_LOANS_RECEIVED#1254) OR isnull(TTL_LOANS_RECEIVED#1254)) THEN TTL_LOANS_RECEIVED END) AS TTL_LOANS_RECEIVED#2327L, count(CASE WHEN (isnan(TTL_DISB#1255) OR isnull(TTL_DISB#1255)) THEN TTL_DISB END) AS TTL_DISB#2329L, count(CASE WHEN (isnan(TRANF_TO_AFF#1256) OR isnull(TRANF_TO_AFF#1256)) THEN TRANF_TO_AFF END) AS TRANF_TO_AFF#2331L, count(CASE WHEN (isnan(INDV_REFUNDS#1257) OR isnull(INDV_REFUNDS#1257)) THEN INDV_REFUNDS END) AS INDV_REFUNDS#2333L, count(CASE WHEN (isnan(OTHER_POL_CMTE_REFUNDS#1258) OR isnull(OTHER_POL_CMTE_REFUNDS#1258)) THEN OTHER_POL_CMTE_REFUNDS END) AS OTHER_POL_CMTE_REFUNDS#2335L, count(CASE WHEN (isnan(CAND_LOAN_REPAY#1259) OR isnull(CAND_LOAN_REPAY#1259)) THEN CAND_LOAN_REPAY END) AS CAND_LOAN_REPAY#2337L, count(CASE WHEN (isnan(LOAN_REPAY#1260) OR isnull(LOAN_REPAY#1260)) THEN LOAN_REPAY END) AS LOAN_REPAY#2339L, count(CASE WHEN (isnan(COH_BOP#1261) OR isnull(COH_BOP#1261)) THEN COH_BOP END) AS COH_BOP#2341L, count(CASE WHEN (isnan(COH_COP#1262) OR isnull(COH_COP#1262)) THEN COH_COP END) AS COH_COP#2343L, count(CASE WHEN (isnan(DEBTS_OWED_BY#1263) OR isnull(DEBTS_OWED_BY#1263)) THEN DEBTS_OWED_BY END) AS DEBTS_OWED_BY#2345L, count(CASE WHEN (isnan(NONFED_TRANS_RECEIVED#1264) OR isnull(NONFED_TRANS_RECEIVED#1264)) THEN NONFED_TRANS_RECEIVED END) AS NONFED_TRANS_RECEIVED#2347L, count(CASE WHEN (isnan(CONTRIB_TO_OTHER_CMTE#1265) OR isnull(CONTRIB_TO_OTHER_CMTE#1265)) THEN CONTRIB_TO_OTHER_CMTE END) AS CONTRIB_TO_OTHER_CMTE#2349L, count(CASE WHEN (isnan(IND_EXP#1266) OR isnull(IND_EXP#1266)) THEN IND_EXP END) AS IND_EXP#2351L, ... 3 more fields]\n+- Project [CMTE_ID#1243, CMTE_NM#1244, CMTE_TP#1245, CMTE_DSGN#1246, CMTE_FILING_FREQ#1247, TTL_RECEIPTS#1248, TRANS_FROM_AFF#1249, INDV_CONTRIB#1250, OTHER_POL_CMTE_CONTRIB#1251, CAND_CONTRIB#1252, CAND_LOANS#1253, TTL_LOANS_RECEIVED#1254, TTL_DISB#1255, TRANF_TO_AFF#1256, INDV_REFUNDS#1257, OTHER_POL_CMTE_REFUNDS#1258, CAND_LOAN_REPAY#1259, LOAN_REPAY#1260, COH_BOP#1261, COH_COP#1262, DEBTS_OWED_BY#1263, NONFED_TRANS_RECEIVED#1264, CONTRIB_TO_OTHER_CMTE#1265, IND_EXP#1266, ... 3 more fields]\n   +- Relation [CMTE_ID#1243,CMTE_NM#1244,CMTE_TP#1245,CMTE_DSGN#1246,CMTE_FILING_FREQ#1247,TTL_RECEIPTS#1248,TRANS_FROM_AFF#1249,INDV_CONTRIB#1250,OTHER_POL_CMTE_CONTRIB#1251,CAND_CONTRIB#1252,CAND_LOANS#1253,TTL_LOANS_RECEIVED#1254,TTL_DISB#1255,TRANF_TO_AFF#1256,INDV_REFUNDS#1257,OTHER_POL_CMTE_REFUNDS#1258,CAND_LOAN_REPAY#1259,LOAN_REPAY#1260,COH_BOP#1261,COH_COP#1262,DEBTS_OWED_BY#1263,NONFED_TRANS_RECEIVED#1264,CONTRIB_TO_OTHER_CMTE#1265,IND_EXP#1266,... 3 more fields] csv\n",
     "output_type": "error",
     "traceback": [
      "\u001b[31m---------------------------------------------------------------------------\u001b[39m",
      "\u001b[31mAnalysisException\u001b[39m                         Traceback (most recent call last)",
      "\u001b[36mCell\u001b[39m\u001b[36m \u001b[39m\u001b[32mIn[60]\u001b[39m\u001b[32m, line 3\u001b[39m\n\u001b[32m      1\u001b[39m \u001b[38;5;66;03m# Find Count of Null, None, NaN of All DataFrame Columns\u001b[39;00m\n\u001b[32m      2\u001b[39m \u001b[38;5;28;01mfrom\u001b[39;00m\u001b[38;5;250m \u001b[39m\u001b[34;01mpyspark\u001b[39;00m\u001b[34;01m.\u001b[39;00m\u001b[34;01msql\u001b[39;00m\u001b[34;01m.\u001b[39;00m\u001b[34;01mfunctions\u001b[39;00m\u001b[38;5;250m \u001b[39m\u001b[38;5;28;01mimport\u001b[39;00m col,isnan, when, count\n\u001b[32m----> \u001b[39m\u001b[32m3\u001b[39m \u001b[43mpac_summ_df\u001b[49m\u001b[43m.\u001b[49m\u001b[43mselect\u001b[49m\u001b[43m(\u001b[49m\u001b[43m[\u001b[49m\u001b[43mcount\u001b[49m\u001b[43m(\u001b[49m\u001b[43mwhen\u001b[49m\u001b[43m(\u001b[49m\u001b[43misnan\u001b[49m\u001b[43m(\u001b[49m\u001b[43mc\u001b[49m\u001b[43m)\u001b[49m\u001b[43m \u001b[49m\u001b[43m|\u001b[49m\u001b[43m \u001b[49m\u001b[43mcol\u001b[49m\u001b[43m(\u001b[49m\u001b[43mc\u001b[49m\u001b[43m)\u001b[49m\u001b[43m.\u001b[49m\u001b[43misNull\u001b[49m\u001b[43m(\u001b[49m\u001b[43m)\u001b[49m\u001b[43m,\u001b[49m\u001b[43m \u001b[49m\u001b[43mc\u001b[49m\u001b[43m)\u001b[49m\u001b[43m)\u001b[49m\u001b[43m.\u001b[49m\u001b[43malias\u001b[49m\u001b[43m(\u001b[49m\u001b[43mc\u001b[49m\u001b[43m)\u001b[49m\u001b[43m \u001b[49m\u001b[38;5;28;43;01mfor\u001b[39;49;00m\u001b[43m \u001b[49m\u001b[43mc\u001b[49m\u001b[43m \u001b[49m\u001b[38;5;129;43;01min\u001b[39;49;00m\u001b[43m \u001b[49m\u001b[43mpac_summ_df\u001b[49m\u001b[43m.\u001b[49m\u001b[43mcolumns\u001b[49m\u001b[43m]\u001b[49m\n\u001b[32m      4\u001b[39m \u001b[43m   \u001b[49m\u001b[43m)\u001b[49m.show()\n",
      "\u001b[36mFile \u001b[39m\u001b[32md:\\Sohail_DE_Project\\fec_env\\Lib\\site-packages\\pyspark\\sql\\dataframe.py:3229\u001b[39m, in \u001b[36mDataFrame.select\u001b[39m\u001b[34m(self, *cols)\u001b[39m\n\u001b[32m   3184\u001b[39m \u001b[38;5;28;01mdef\u001b[39;00m\u001b[38;5;250m \u001b[39m\u001b[34mselect\u001b[39m(\u001b[38;5;28mself\u001b[39m, *cols: \u001b[33m\"\u001b[39m\u001b[33mColumnOrName\u001b[39m\u001b[33m\"\u001b[39m) -> \u001b[33m\"\u001b[39m\u001b[33mDataFrame\u001b[39m\u001b[33m\"\u001b[39m:  \u001b[38;5;66;03m# type: ignore[misc]\u001b[39;00m\n\u001b[32m   3185\u001b[39m \u001b[38;5;250m    \u001b[39m\u001b[33;03m\"\"\"Projects a set of expressions and returns a new :class:`DataFrame`.\u001b[39;00m\n\u001b[32m   3186\u001b[39m \n\u001b[32m   3187\u001b[39m \u001b[33;03m    .. versionadded:: 1.3.0\u001b[39;00m\n\u001b[32m   (...)\u001b[39m\u001b[32m   3227\u001b[39m \u001b[33;03m    +-----+---+\u001b[39;00m\n\u001b[32m   3228\u001b[39m \u001b[33;03m    \"\"\"\u001b[39;00m\n\u001b[32m-> \u001b[39m\u001b[32m3229\u001b[39m     jdf = \u001b[38;5;28;43mself\u001b[39;49m\u001b[43m.\u001b[49m\u001b[43m_jdf\u001b[49m\u001b[43m.\u001b[49m\u001b[43mselect\u001b[49m\u001b[43m(\u001b[49m\u001b[38;5;28;43mself\u001b[39;49m\u001b[43m.\u001b[49m\u001b[43m_jcols\u001b[49m\u001b[43m(\u001b[49m\u001b[43m*\u001b[49m\u001b[43mcols\u001b[49m\u001b[43m)\u001b[49m\u001b[43m)\u001b[49m\n\u001b[32m   3230\u001b[39m     \u001b[38;5;28;01mreturn\u001b[39;00m DataFrame(jdf, \u001b[38;5;28mself\u001b[39m.sparkSession)\n",
      "\u001b[36mFile \u001b[39m\u001b[32md:\\Sohail_DE_Project\\fec_env\\Lib\\site-packages\\py4j\\java_gateway.py:1322\u001b[39m, in \u001b[36mJavaMember.__call__\u001b[39m\u001b[34m(self, *args)\u001b[39m\n\u001b[32m   1316\u001b[39m command = proto.CALL_COMMAND_NAME +\\\n\u001b[32m   1317\u001b[39m     \u001b[38;5;28mself\u001b[39m.command_header +\\\n\u001b[32m   1318\u001b[39m     args_command +\\\n\u001b[32m   1319\u001b[39m     proto.END_COMMAND_PART\n\u001b[32m   1321\u001b[39m answer = \u001b[38;5;28mself\u001b[39m.gateway_client.send_command(command)\n\u001b[32m-> \u001b[39m\u001b[32m1322\u001b[39m return_value = \u001b[43mget_return_value\u001b[49m\u001b[43m(\u001b[49m\n\u001b[32m   1323\u001b[39m \u001b[43m    \u001b[49m\u001b[43manswer\u001b[49m\u001b[43m,\u001b[49m\u001b[43m \u001b[49m\u001b[38;5;28;43mself\u001b[39;49m\u001b[43m.\u001b[49m\u001b[43mgateway_client\u001b[49m\u001b[43m,\u001b[49m\u001b[43m \u001b[49m\u001b[38;5;28;43mself\u001b[39;49m\u001b[43m.\u001b[49m\u001b[43mtarget_id\u001b[49m\u001b[43m,\u001b[49m\u001b[43m \u001b[49m\u001b[38;5;28;43mself\u001b[39;49m\u001b[43m.\u001b[49m\u001b[43mname\u001b[49m\u001b[43m)\u001b[49m\n\u001b[32m   1325\u001b[39m \u001b[38;5;28;01mfor\u001b[39;00m temp_arg \u001b[38;5;129;01min\u001b[39;00m temp_args:\n\u001b[32m   1326\u001b[39m     \u001b[38;5;28;01mif\u001b[39;00m \u001b[38;5;28mhasattr\u001b[39m(temp_arg, \u001b[33m\"\u001b[39m\u001b[33m_detach\u001b[39m\u001b[33m\"\u001b[39m):\n",
      "\u001b[36mFile \u001b[39m\u001b[32md:\\Sohail_DE_Project\\fec_env\\Lib\\site-packages\\pyspark\\errors\\exceptions\\captured.py:185\u001b[39m, in \u001b[36mcapture_sql_exception.<locals>.deco\u001b[39m\u001b[34m(*a, **kw)\u001b[39m\n\u001b[32m    181\u001b[39m converted = convert_exception(e.java_exception)\n\u001b[32m    182\u001b[39m \u001b[38;5;28;01mif\u001b[39;00m \u001b[38;5;129;01mnot\u001b[39;00m \u001b[38;5;28misinstance\u001b[39m(converted, UnknownException):\n\u001b[32m    183\u001b[39m     \u001b[38;5;66;03m# Hide where the exception came from that shows a non-Pythonic\u001b[39;00m\n\u001b[32m    184\u001b[39m     \u001b[38;5;66;03m# JVM exception message.\u001b[39;00m\n\u001b[32m--> \u001b[39m\u001b[32m185\u001b[39m     \u001b[38;5;28;01mraise\u001b[39;00m converted \u001b[38;5;28;01mfrom\u001b[39;00m\u001b[38;5;250m \u001b[39m\u001b[38;5;28;01mNone\u001b[39;00m\n\u001b[32m    186\u001b[39m \u001b[38;5;28;01melse\u001b[39;00m:\n\u001b[32m    187\u001b[39m     \u001b[38;5;28;01mraise\u001b[39;00m\n",
      "\u001b[31mAnalysisException\u001b[39m: [DATATYPE_MISMATCH.UNEXPECTED_INPUT_TYPE] Cannot resolve \"isnan(CVG_END_DT)\" due to data type mismatch: Parameter 1 requires the (\"DOUBLE\" or \"FLOAT\") type, however \"CVG_END_DT\" has the type \"DATE\".;\n'Aggregate [count(CASE WHEN (isnan(cast(CMTE_ID#1243 as double)) OR isnull(CMTE_ID#1243)) THEN CMTE_ID END) AS CMTE_ID#2305L, count(CASE WHEN (isnan(cast(CMTE_NM#1244 as double)) OR isnull(CMTE_NM#1244)) THEN CMTE_NM END) AS CMTE_NM#2307L, count(CASE WHEN (isnan(cast(CMTE_TP#1245 as double)) OR isnull(CMTE_TP#1245)) THEN CMTE_TP END) AS CMTE_TP#2309L, count(CASE WHEN (isnan(cast(CMTE_DSGN#1246 as double)) OR isnull(CMTE_DSGN#1246)) THEN CMTE_DSGN END) AS CMTE_DSGN#2311L, count(CASE WHEN (isnan(cast(CMTE_FILING_FREQ#1247 as double)) OR isnull(CMTE_FILING_FREQ#1247)) THEN CMTE_FILING_FREQ END) AS CMTE_FILING_FREQ#2313L, count(CASE WHEN (isnan(TTL_RECEIPTS#1248) OR isnull(TTL_RECEIPTS#1248)) THEN TTL_RECEIPTS END) AS TTL_RECEIPTS#2315L, count(CASE WHEN (isnan(TRANS_FROM_AFF#1249) OR isnull(TRANS_FROM_AFF#1249)) THEN TRANS_FROM_AFF END) AS TRANS_FROM_AFF#2317L, count(CASE WHEN (isnan(INDV_CONTRIB#1250) OR isnull(INDV_CONTRIB#1250)) THEN INDV_CONTRIB END) AS INDV_CONTRIB#2319L, count(CASE WHEN (isnan(OTHER_POL_CMTE_CONTRIB#1251) OR isnull(OTHER_POL_CMTE_CONTRIB#1251)) THEN OTHER_POL_CMTE_CONTRIB END) AS OTHER_POL_CMTE_CONTRIB#2321L, count(CASE WHEN (isnan(CAND_CONTRIB#1252) OR isnull(CAND_CONTRIB#1252)) THEN CAND_CONTRIB END) AS CAND_CONTRIB#2323L, count(CASE WHEN (isnan(CAND_LOANS#1253) OR isnull(CAND_LOANS#1253)) THEN CAND_LOANS END) AS CAND_LOANS#2325L, count(CASE WHEN (isnan(TTL_LOANS_RECEIVED#1254) OR isnull(TTL_LOANS_RECEIVED#1254)) THEN TTL_LOANS_RECEIVED END) AS TTL_LOANS_RECEIVED#2327L, count(CASE WHEN (isnan(TTL_DISB#1255) OR isnull(TTL_DISB#1255)) THEN TTL_DISB END) AS TTL_DISB#2329L, count(CASE WHEN (isnan(TRANF_TO_AFF#1256) OR isnull(TRANF_TO_AFF#1256)) THEN TRANF_TO_AFF END) AS TRANF_TO_AFF#2331L, count(CASE WHEN (isnan(INDV_REFUNDS#1257) OR isnull(INDV_REFUNDS#1257)) THEN INDV_REFUNDS END) AS INDV_REFUNDS#2333L, count(CASE WHEN (isnan(OTHER_POL_CMTE_REFUNDS#1258) OR isnull(OTHER_POL_CMTE_REFUNDS#1258)) THEN OTHER_POL_CMTE_REFUNDS END) AS OTHER_POL_CMTE_REFUNDS#2335L, count(CASE WHEN (isnan(CAND_LOAN_REPAY#1259) OR isnull(CAND_LOAN_REPAY#1259)) THEN CAND_LOAN_REPAY END) AS CAND_LOAN_REPAY#2337L, count(CASE WHEN (isnan(LOAN_REPAY#1260) OR isnull(LOAN_REPAY#1260)) THEN LOAN_REPAY END) AS LOAN_REPAY#2339L, count(CASE WHEN (isnan(COH_BOP#1261) OR isnull(COH_BOP#1261)) THEN COH_BOP END) AS COH_BOP#2341L, count(CASE WHEN (isnan(COH_COP#1262) OR isnull(COH_COP#1262)) THEN COH_COP END) AS COH_COP#2343L, count(CASE WHEN (isnan(DEBTS_OWED_BY#1263) OR isnull(DEBTS_OWED_BY#1263)) THEN DEBTS_OWED_BY END) AS DEBTS_OWED_BY#2345L, count(CASE WHEN (isnan(NONFED_TRANS_RECEIVED#1264) OR isnull(NONFED_TRANS_RECEIVED#1264)) THEN NONFED_TRANS_RECEIVED END) AS NONFED_TRANS_RECEIVED#2347L, count(CASE WHEN (isnan(CONTRIB_TO_OTHER_CMTE#1265) OR isnull(CONTRIB_TO_OTHER_CMTE#1265)) THEN CONTRIB_TO_OTHER_CMTE END) AS CONTRIB_TO_OTHER_CMTE#2349L, count(CASE WHEN (isnan(IND_EXP#1266) OR isnull(IND_EXP#1266)) THEN IND_EXP END) AS IND_EXP#2351L, ... 3 more fields]\n+- Project [CMTE_ID#1243, CMTE_NM#1244, CMTE_TP#1245, CMTE_DSGN#1246, CMTE_FILING_FREQ#1247, TTL_RECEIPTS#1248, TRANS_FROM_AFF#1249, INDV_CONTRIB#1250, OTHER_POL_CMTE_CONTRIB#1251, CAND_CONTRIB#1252, CAND_LOANS#1253, TTL_LOANS_RECEIVED#1254, TTL_DISB#1255, TRANF_TO_AFF#1256, INDV_REFUNDS#1257, OTHER_POL_CMTE_REFUNDS#1258, CAND_LOAN_REPAY#1259, LOAN_REPAY#1260, COH_BOP#1261, COH_COP#1262, DEBTS_OWED_BY#1263, NONFED_TRANS_RECEIVED#1264, CONTRIB_TO_OTHER_CMTE#1265, IND_EXP#1266, ... 3 more fields]\n   +- Relation [CMTE_ID#1243,CMTE_NM#1244,CMTE_TP#1245,CMTE_DSGN#1246,CMTE_FILING_FREQ#1247,TTL_RECEIPTS#1248,TRANS_FROM_AFF#1249,INDV_CONTRIB#1250,OTHER_POL_CMTE_CONTRIB#1251,CAND_CONTRIB#1252,CAND_LOANS#1253,TTL_LOANS_RECEIVED#1254,TTL_DISB#1255,TRANF_TO_AFF#1256,INDV_REFUNDS#1257,OTHER_POL_CMTE_REFUNDS#1258,CAND_LOAN_REPAY#1259,LOAN_REPAY#1260,COH_BOP#1261,COH_COP#1262,DEBTS_OWED_BY#1263,NONFED_TRANS_RECEIVED#1264,CONTRIB_TO_OTHER_CMTE#1265,IND_EXP#1266,... 3 more fields] csv\n"
     ]
    }
   ],
   "source": [
    "# Find Count of Null, None, NaN of All DataFrame Columns\n",
    "from pyspark.sql.functions import col,isnan, when, count\n",
    "pac_summ_df.select([count(when(isnan(c) | col(c).isNull(), c)).alias(c) for c in pac_summ_df.columns]\n",
    "   ).show()"
   ]
  },
  {
   "cell_type": "code",
   "execution_count": 61,
   "id": "2fc2c03a",
   "metadata": {},
   "outputs": [],
   "source": [
    "spark.stop()"
   ]
  }
 ],
 "metadata": {
  "kernelspec": {
   "display_name": "fec_env",
   "language": "python",
   "name": "python3"
  },
  "language_info": {
   "codemirror_mode": {
    "name": "ipython",
    "version": 3
   },
   "file_extension": ".py",
   "mimetype": "text/x-python",
   "name": "python",
   "nbconvert_exporter": "python",
   "pygments_lexer": "ipython3",
   "version": "3.12.7"
  }
 },
 "nbformat": 4,
 "nbformat_minor": 5
}
