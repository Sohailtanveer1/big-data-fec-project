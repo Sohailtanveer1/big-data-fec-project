{
 "cells": [
  {
   "cell_type": "markdown",
   "id": "c3b7ce96",
   "metadata": {},
   "source": [
    "## 1. candidate_master"
   ]
  },
  {
   "cell_type": "code",
   "execution_count": 8,
   "id": "9f60f049",
   "metadata": {},
   "outputs": [],
   "source": [
    "import pandas as pd\n",
    "import json\n",
    "import requests\n",
    "import numpy as np\n",
    "import os"
   ]
  },
  {
   "cell_type": "code",
   "execution_count": 14,
   "id": "e635249e",
   "metadata": {},
   "outputs": [],
   "source": [
    "from pyspark.sql import SparkSession\n",
    "\n",
    "spark = SparkSession.builder \\\n",
    "    .appName(\"Read Pipe Delimited File\") \\\n",
    "    .master(\"local[*]\") \\\n",
    "    .config(\"spark.driver.bindAddress\", \"127.0.0.1\") \\\n",
    "    .config(\"spark.driver.host\", \"127.0.0.1\") \\\n",
    "    .getOrCreate()\n"
   ]
  },
  {
   "cell_type": "code",
   "execution_count": 15,
   "id": "b8181c8f",
   "metadata": {},
   "outputs": [
    {
     "data": {
      "text/html": [
       "\n",
       "            <div>\n",
       "                <p><b>SparkSession - in-memory</b></p>\n",
       "                \n",
       "        <div>\n",
       "            <p><b>SparkContext</b></p>\n",
       "\n",
       "            <p><a href=\"http://127.0.0.1:4040\">Spark UI</a></p>\n",
       "\n",
       "            <dl>\n",
       "              <dt>Version</dt>\n",
       "                <dd><code>v3.5.5</code></dd>\n",
       "              <dt>Master</dt>\n",
       "                <dd><code>local[*]</code></dd>\n",
       "              <dt>AppName</dt>\n",
       "                <dd><code>Read Pipe Delimited File</code></dd>\n",
       "            </dl>\n",
       "        </div>\n",
       "        \n",
       "            </div>\n",
       "        "
      ],
      "text/plain": [
       "<pyspark.sql.session.SparkSession at 0x143cd113710>"
      ]
     },
     "execution_count": 15,
     "metadata": {},
     "output_type": "execute_result"
    }
   ],
   "source": [
    "spark"
   ]
  },
  {
   "cell_type": "code",
   "execution_count": 16,
   "id": "eecd6de2",
   "metadata": {},
   "outputs": [
    {
     "name": "stdout",
     "output_type": "stream",
     "text": [
      "+---------+--------------------+--------------------+----------------+--------------+-----------+--------------------+--------+-----------+---------+--------------------+--------+------------+-------+--------+\n",
      "|  CAND_ID|           CAND_NAME|CAND_PTY_AFFILIATION|CAND_ELECTION_YR|CAND_OFFICE_ST|CAND_OFFICE|CAND_OFFICE_DISTRICT|CAND_ICI|CAND_STATUS| CAND_PCC|            CAND_ST1|CAND_ST2|   CAND_CITY|CAND_ST|CAND_ZIP|\n",
      "+---------+--------------------+--------------------+----------------+--------------+-----------+--------------------+--------+-----------+---------+--------------------+--------+------------+-------+--------+\n",
      "|H0AK00105|        LAMB, THOMAS|                 NNE|            2020|            AK|          H|                   0|       C|          N|C00607515|1861 W LAKE LUCIL...|    NULL|     WASILLA|     AK| 99654.0|\n",
      "|H0AK00113|   TUGATUK, RAY SEAN|                 DEM|            2020|            AK|          H|                   0|       C|          N|     NULL|          PO BOX 172|    NULL|   MANAKOTAK|     AK| 99628.0|\n",
      "|H0AK01046|    CATALANO, THOMAS|                 OTH|            2020|            AK|          H|                   0|       C|          N|     NULL|188 WEST NORTHERN...|    NULL|   ANCHORAGE|     AK| 99503.0|\n",
      "|H0AL01055| CARL, JERRY LEE, JR|                 REP|            2020|            AL|          H|                   1|       O|          C|C00697789|       PO BOX 852138|    NULL|      MOBILE|     AL| 36685.0|\n",
      "|H0AL01063|LAMBERT, DOUGLAS ...|                 REP|            2020|            AL|          H|                   1|       O|          C|C00701557|7194 STILLWATER BLVD|    NULL|SPANISH FORT|     AL| 36527.0|\n",
      "+---------+--------------------+--------------------+----------------+--------------+-----------+--------------------+--------+-----------+---------+--------------------+--------+------------+-------+--------+\n",
      "only showing top 5 rows\n",
      "\n"
     ]
    }
   ],
   "source": [
    "base_folder_path = \"D:/DE_Project_FEC/fec_env/big-data-fec-project/data/raw\"\n",
    "file_name = \"candidate_master\"\n",
    "csv_path = os.path.join(base_folder_path, file_name, f\"{file_name}.csv\")\n",
    "\n",
    "\n",
    "cand_master_df = spark.read.option('header',True).option('inferSchema','true').csv(csv_path)\n",
    "cand_master_df.show(5)"
   ]
  },
  {
   "cell_type": "code",
   "execution_count": null,
   "id": "fe2be37e",
   "metadata": {},
   "outputs": [
    {
     "data": {
      "text/plain": [
       "DataFrame[summary: string, CAND_ID: string, CAND_NAME: string, CAND_PTY_AFFILIATION: string, CAND_ELECTION_YR: string, CAND_OFFICE_ST: string, CAND_OFFICE: string, CAND_OFFICE_DISTRICT: string, CAND_ICI: string, CAND_STATUS: string, CAND_PCC: string, CAND_ST1: string, CAND_ST2: string, CAND_CITY: string, CAND_ST: string, CAND_ZIP: string]"
      ]
     },
     "execution_count": 18,
     "metadata": {},
     "output_type": "execute_result"
    }
   ],
   "source": [
    "# datatype check\n",
    "cand_master_df.describe()"
   ]
  },
  {
   "cell_type": "code",
   "execution_count": 36,
   "id": "bb8c54b2",
   "metadata": {},
   "outputs": [
    {
     "name": "stdout",
     "output_type": "stream",
     "text": [
      "+-------+---------+--------------------+----------------+--------------+-----------+--------------------+--------+-----------+--------+--------+--------+---------+-------+--------+\n",
      "|CAND_ID|CAND_NAME|CAND_PTY_AFFILIATION|CAND_ELECTION_YR|CAND_OFFICE_ST|CAND_OFFICE|CAND_OFFICE_DISTRICT|CAND_ICI|CAND_STATUS|CAND_PCC|CAND_ST1|CAND_ST2|CAND_CITY|CAND_ST|CAND_ZIP|\n",
      "+-------+---------+--------------------+----------------+--------------+-----------+--------------------+--------+-----------+--------+--------+--------+---------+-------+--------+\n",
      "|      0|        0|                   0|               0|             0|          0|                   0|     322|          0|    1421|     189|    6844|        3|    179|     190|\n",
      "+-------+---------+--------------------+----------------+--------------+-----------+--------------------+--------+-----------+--------+--------+--------+---------+-------+--------+\n",
      "\n"
     ]
    }
   ],
   "source": [
    "# Find Count of Null, None, NaN of All DataFrame Columns\n",
    "from pyspark.sql.functions import col,isnan, when, count\n",
    "cand_master_df.select([count(when(isnan(c) | col(c).isNull(), c)).alias(c) for c in cand_master_df.columns]\n",
    "   ).show()"
   ]
  },
  {
   "cell_type": "code",
   "execution_count": 23,
   "id": "257e56f2",
   "metadata": {},
   "outputs": [],
   "source": [
    "# replace null cand_pty_affiliation with NNE(None) code\n",
    "cand_master_df = cand_master_df.fillna({\"CAND_PTY_AFFILIATION\": \"NNE\"})"
   ]
  },
  {
   "cell_type": "code",
   "execution_count": null,
   "id": "7380328d",
   "metadata": {},
   "outputs": [],
   "source": [
    "# CAND_OFFICE_DISTRICT\n",
    "from pyspark.sql.functions import col, when, upper, lit, regexp_replace\n",
    "from pyspark.sql.types import IntegerType, StringType\n",
    "# cand_master_df = cand_master_df.fillna({\"CAND_OFFICE_DISTRICT\":0.0})\n",
    "cand_master_df = cand_master_df.withColumn(\n",
    "    \"CAND_OFFICE_DISTRICT\",\n",
    "    when(col(\"CAND_OFFICE_DISTRICT\").isNull(), lit(0.0)).otherwise(col(\"CAND_OFFICE_DISTRICT\")).cast(IntegerType())\n",
    ")"
   ]
  },
  {
   "cell_type": "code",
   "execution_count": 39,
   "id": "ab1449a4",
   "metadata": {},
   "outputs": [],
   "source": [
    "cand_master_df = cand_master_df.withColumn('CAND_OFFICE_DISTRICT',\n",
    "                                when(col('CAND_OFFICE_DISTRICT').isNull(),lit(0.0)).\n",
    "                                otherwise(col('CAND_OFFICE_DISTRICT')).cast(IntegerType()))"
   ]
  },
  {
   "cell_type": "code",
   "execution_count": 43,
   "id": "9a66d825",
   "metadata": {},
   "outputs": [
    {
     "ename": "TypeError",
     "evalue": "__str__ returned non-string (type Column)",
     "output_type": "error",
     "traceback": [
      "\u001b[31m---------------------------------------------------------------------------\u001b[39m",
      "\u001b[31mPySparkValueError\u001b[39m                         Traceback (most recent call last)",
      "\u001b[36mFile \u001b[39m\u001b[32md:\\DE_Project_FEC\\fec_env\\Lib\\site-packages\\pyspark\\sql\\types.py:2378\u001b[39m, in \u001b[36mRow.__getitem__\u001b[39m\u001b[34m(self, item)\u001b[39m\n\u001b[32m   2375\u001b[39m \u001b[38;5;28;01mtry\u001b[39;00m:\n\u001b[32m   2376\u001b[39m     \u001b[38;5;66;03m# it will be slow when it has many fields,\u001b[39;00m\n\u001b[32m   2377\u001b[39m     \u001b[38;5;66;03m# but this will not be used in normal cases\u001b[39;00m\n\u001b[32m-> \u001b[39m\u001b[32m2378\u001b[39m     idx = \u001b[38;5;28;43mself\u001b[39;49m\u001b[43m.\u001b[49m\u001b[43m__fields__\u001b[49m\u001b[43m.\u001b[49m\u001b[43mindex\u001b[49m\u001b[43m(\u001b[49m\u001b[43mitem\u001b[49m\u001b[43m)\u001b[49m\n\u001b[32m   2379\u001b[39m     \u001b[38;5;28;01mreturn\u001b[39;00m \u001b[38;5;28msuper\u001b[39m(Row, \u001b[38;5;28mself\u001b[39m).\u001b[34m__getitem__\u001b[39m(idx)\n",
      "\u001b[36mFile \u001b[39m\u001b[32md:\\DE_Project_FEC\\fec_env\\Lib\\site-packages\\pyspark\\sql\\column.py:1400\u001b[39m, in \u001b[36mColumn.__nonzero__\u001b[39m\u001b[34m(self)\u001b[39m\n\u001b[32m   1399\u001b[39m \u001b[38;5;28;01mdef\u001b[39;00m\u001b[38;5;250m \u001b[39m\u001b[34m__nonzero__\u001b[39m(\u001b[38;5;28mself\u001b[39m) -> \u001b[38;5;28;01mNone\u001b[39;00m:\n\u001b[32m-> \u001b[39m\u001b[32m1400\u001b[39m     \u001b[38;5;28;01mraise\u001b[39;00m PySparkValueError(\n\u001b[32m   1401\u001b[39m         error_class=\u001b[33m\"\u001b[39m\u001b[33mCANNOT_CONVERT_COLUMN_INTO_BOOL\u001b[39m\u001b[33m\"\u001b[39m,\n\u001b[32m   1402\u001b[39m         message_parameters={},\n\u001b[32m   1403\u001b[39m     )\n",
      "\u001b[31mPySparkValueError\u001b[39m: [CANNOT_CONVERT_COLUMN_INTO_BOOL] Cannot convert column into bool: please use '&' for 'and', '|' for 'or', '~' for 'not' when building DataFrame boolean expressions.",
      "\nDuring handling of the above exception, another exception occurred:\n",
      "\u001b[31mPySparkValueError\u001b[39m                         Traceback (most recent call last)",
      "    \u001b[31m[... skipping hidden 1 frame]\u001b[39m\n",
      "\u001b[36mCell\u001b[39m\u001b[36m \u001b[39m\u001b[32mIn[43]\u001b[39m\u001b[32m, line 3\u001b[39m\n\u001b[32m      1\u001b[39m \u001b[38;5;66;03m# CAND_ICI fill with random choice between other three values\u001b[39;00m\n\u001b[32m----> \u001b[39m\u001b[32m3\u001b[39m uniq_ici_list = \u001b[43m[\u001b[49m\u001b[43mrow\u001b[49m\u001b[43m[\u001b[49m\u001b[43mcol\u001b[49m\u001b[43m(\u001b[49m\u001b[33;43m\"\u001b[39;49m\u001b[33;43mCAND_ICI\u001b[39;49m\u001b[33;43m\"\u001b[39;49m\u001b[43m)\u001b[49m\u001b[43m]\u001b[49m\u001b[43m \u001b[49m\u001b[38;5;28;43;01mfor\u001b[39;49;00m\u001b[43m \u001b[49m\u001b[43mrow\u001b[49m\u001b[43m \u001b[49m\u001b[38;5;129;43;01min\u001b[39;49;00m\u001b[43m \u001b[49m\u001b[43mcand_master_df\u001b[49m\u001b[43m.\u001b[49m\u001b[43mselect\u001b[49m\u001b[43m(\u001b[49m\u001b[33;43m\"\u001b[39;49m\u001b[33;43mCAND_ICI\u001b[39;49m\u001b[33;43m\"\u001b[39;49m\u001b[43m)\u001b[49m\u001b[43m.\u001b[49m\u001b[43mdistinct\u001b[49m\u001b[43m(\u001b[49m\u001b[43m)\u001b[49m\u001b[43m.\u001b[49m\u001b[43mdropna\u001b[49m\u001b[43m(\u001b[49m\u001b[43m)\u001b[49m\u001b[43m.\u001b[49m\u001b[43mcollect\u001b[49m\u001b[43m(\u001b[49m\u001b[43m)\u001b[49m\u001b[43m]\u001b[49m\n\u001b[32m      4\u001b[39m uniq_ici_list\n",
      "\u001b[36mCell\u001b[39m\u001b[36m \u001b[39m\u001b[32mIn[43]\u001b[39m\u001b[32m, line 3\u001b[39m, in \u001b[36m<listcomp>\u001b[39m\u001b[34m(.0)\u001b[39m\n\u001b[32m      1\u001b[39m \u001b[38;5;66;03m# CAND_ICI fill with random choice between other three values\u001b[39;00m\n\u001b[32m----> \u001b[39m\u001b[32m3\u001b[39m uniq_ici_list = [\u001b[43mrow\u001b[49m\u001b[43m[\u001b[49m\u001b[43mcol\u001b[49m\u001b[43m(\u001b[49m\u001b[33;43m\"\u001b[39;49m\u001b[33;43mCAND_ICI\u001b[39;49m\u001b[33;43m\"\u001b[39;49m\u001b[43m)\u001b[49m\u001b[43m]\u001b[49m \u001b[38;5;28;01mfor\u001b[39;00m row \u001b[38;5;129;01min\u001b[39;00m cand_master_df.select(\u001b[33m\"\u001b[39m\u001b[33mCAND_ICI\u001b[39m\u001b[33m\"\u001b[39m).distinct().dropna().collect()]\n\u001b[32m      4\u001b[39m uniq_ici_list\n",
      "\u001b[36mFile \u001b[39m\u001b[32md:\\DE_Project_FEC\\fec_env\\Lib\\site-packages\\pyspark\\sql\\types.py:2383\u001b[39m, in \u001b[36mRow.__getitem__\u001b[39m\u001b[34m(self, item)\u001b[39m\n\u001b[32m   2382\u001b[39m \u001b[38;5;28;01mexcept\u001b[39;00m \u001b[38;5;167;01mValueError\u001b[39;00m:\n\u001b[32m-> \u001b[39m\u001b[32m2383\u001b[39m     \u001b[38;5;28;01mraise\u001b[39;00m PySparkValueError(item)\n",
      "\u001b[31m<class 'str'>\u001b[39m: (<class 'TypeError'>, TypeError('__str__ returned non-string (type Column)'))",
      "\nDuring handling of the above exception, another exception occurred:\n",
      "\u001b[31mTypeError\u001b[39m                                 Traceback (most recent call last)",
      "    \u001b[31m[... skipping hidden 1 frame]\u001b[39m\n",
      "\u001b[36mFile \u001b[39m\u001b[32md:\\DE_Project_FEC\\fec_env\\Lib\\site-packages\\IPython\\core\\interactiveshell.py:2184\u001b[39m, in \u001b[36mInteractiveShell.showtraceback\u001b[39m\u001b[34m(self, exc_tuple, filename, tb_offset, exception_only, running_compiled_code)\u001b[39m\n\u001b[32m   2181\u001b[39m         traceback.print_exc()\n\u001b[32m   2182\u001b[39m         \u001b[38;5;28;01mreturn\u001b[39;00m \u001b[38;5;28;01mNone\u001b[39;00m\n\u001b[32m-> \u001b[39m\u001b[32m2184\u001b[39m     \u001b[38;5;28;43mself\u001b[39;49m\u001b[43m.\u001b[49m\u001b[43m_showtraceback\u001b[49m\u001b[43m(\u001b[49m\u001b[43metype\u001b[49m\u001b[43m,\u001b[49m\u001b[43m \u001b[49m\u001b[43mvalue\u001b[49m\u001b[43m,\u001b[49m\u001b[43m \u001b[49m\u001b[43mstb\u001b[49m\u001b[43m)\u001b[49m\n\u001b[32m   2185\u001b[39m \u001b[38;5;28;01mif\u001b[39;00m \u001b[38;5;28mself\u001b[39m.call_pdb:\n\u001b[32m   2186\u001b[39m     \u001b[38;5;66;03m# drop into debugger\u001b[39;00m\n\u001b[32m   2187\u001b[39m     \u001b[38;5;28mself\u001b[39m.debugger(force=\u001b[38;5;28;01mTrue\u001b[39;00m)\n",
      "\u001b[36mFile \u001b[39m\u001b[32md:\\DE_Project_FEC\\fec_env\\Lib\\site-packages\\ipykernel\\zmqshell.py:559\u001b[39m, in \u001b[36mZMQInteractiveShell._showtraceback\u001b[39m\u001b[34m(self, etype, evalue, stb)\u001b[39m\n\u001b[32m    553\u001b[39m sys.stdout.flush()\n\u001b[32m    554\u001b[39m sys.stderr.flush()\n\u001b[32m    556\u001b[39m exc_content = {\n\u001b[32m    557\u001b[39m     \u001b[33m\"\u001b[39m\u001b[33mtraceback\u001b[39m\u001b[33m\"\u001b[39m: stb,\n\u001b[32m    558\u001b[39m     \u001b[33m\"\u001b[39m\u001b[33mename\u001b[39m\u001b[33m\"\u001b[39m: \u001b[38;5;28mstr\u001b[39m(etype.\u001b[34m__name__\u001b[39m),\n\u001b[32m--> \u001b[39m\u001b[32m559\u001b[39m     \u001b[33m\"\u001b[39m\u001b[33mevalue\u001b[39m\u001b[33m\"\u001b[39m: \u001b[38;5;28mstr\u001b[39m(evalue),\n\u001b[32m    560\u001b[39m }\n\u001b[32m    562\u001b[39m dh = \u001b[38;5;28mself\u001b[39m.displayhook\n\u001b[32m    563\u001b[39m \u001b[38;5;66;03m# Send exception info over pub socket for other clients than the caller\u001b[39;00m\n\u001b[32m    564\u001b[39m \u001b[38;5;66;03m# to pick up\u001b[39;00m\n",
      "\u001b[31mTypeError\u001b[39m: __str__ returned non-string (type Column)"
     ]
    }
   ],
   "source": [
    "# CAND_ICI fill with random choice between other three values\n",
    "\n",
    "uniq_ici_list = [row[col(\"CAND_ICI\")] for row in cand_master_df.select(\"CAND_ICI\").distinct().dropna().collect()]\n",
    "uniq_ici_list\n",
    "#unique_ici = cand_master_df['CAND_ICI'].dropna().unique()\n",
    "#cand_master_df['CAND_ICI'] = cand_master_df['CAND_ICI'].apply(lambda x: np.random.choice(unique_ici) if pd.isna(x) else x)"
   ]
  },
  {
   "cell_type": "code",
   "execution_count": 13,
   "id": "142a56ec",
   "metadata": {},
   "outputs": [],
   "source": [
    "spark.stop()"
   ]
  },
  {
   "cell_type": "code",
   "execution_count": 3,
   "id": "624101c1",
   "metadata": {},
   "outputs": [
    {
     "data": {
      "text/html": [
       "<div>\n",
       "<style scoped>\n",
       "    .dataframe tbody tr th:only-of-type {\n",
       "        vertical-align: middle;\n",
       "    }\n",
       "\n",
       "    .dataframe tbody tr th {\n",
       "        vertical-align: top;\n",
       "    }\n",
       "\n",
       "    .dataframe thead th {\n",
       "        text-align: right;\n",
       "    }\n",
       "</style>\n",
       "<table border=\"1\" class=\"dataframe\">\n",
       "  <thead>\n",
       "    <tr style=\"text-align: right;\">\n",
       "      <th></th>\n",
       "      <th>CAND_ID</th>\n",
       "      <th>CAND_NAME</th>\n",
       "      <th>CAND_PTY_AFFILIATION</th>\n",
       "      <th>CAND_ELECTION_YR</th>\n",
       "      <th>CAND_OFFICE_ST</th>\n",
       "      <th>CAND_OFFICE</th>\n",
       "      <th>CAND_OFFICE_DISTRICT</th>\n",
       "      <th>CAND_ICI</th>\n",
       "      <th>CAND_STATUS</th>\n",
       "      <th>CAND_PCC</th>\n",
       "      <th>CAND_ST1</th>\n",
       "      <th>CAND_ST2</th>\n",
       "      <th>CAND_CITY</th>\n",
       "      <th>CAND_ST</th>\n",
       "      <th>CAND_ZIP</th>\n",
       "    </tr>\n",
       "  </thead>\n",
       "  <tbody>\n",
       "    <tr>\n",
       "      <th>0</th>\n",
       "      <td>H0AK00105</td>\n",
       "      <td>LAMB, THOMAS</td>\n",
       "      <td>NNE</td>\n",
       "      <td>2020</td>\n",
       "      <td>AK</td>\n",
       "      <td>H</td>\n",
       "      <td>0.0</td>\n",
       "      <td>C</td>\n",
       "      <td>N</td>\n",
       "      <td>C00607515</td>\n",
       "      <td>1861 W LAKE LUCILLE DR</td>\n",
       "      <td>NaN</td>\n",
       "      <td>WASILLA</td>\n",
       "      <td>AK</td>\n",
       "      <td>99654.0</td>\n",
       "    </tr>\n",
       "    <tr>\n",
       "      <th>1</th>\n",
       "      <td>H0AK00113</td>\n",
       "      <td>TUGATUK, RAY SEAN</td>\n",
       "      <td>DEM</td>\n",
       "      <td>2020</td>\n",
       "      <td>AK</td>\n",
       "      <td>H</td>\n",
       "      <td>0.0</td>\n",
       "      <td>C</td>\n",
       "      <td>N</td>\n",
       "      <td>NaN</td>\n",
       "      <td>PO BOX 172</td>\n",
       "      <td>NaN</td>\n",
       "      <td>MANAKOTAK</td>\n",
       "      <td>AK</td>\n",
       "      <td>99628.0</td>\n",
       "    </tr>\n",
       "  </tbody>\n",
       "</table>\n",
       "</div>"
      ],
      "text/plain": [
       "     CAND_ID          CAND_NAME CAND_PTY_AFFILIATION  CAND_ELECTION_YR  \\\n",
       "0  H0AK00105       LAMB, THOMAS                  NNE              2020   \n",
       "1  H0AK00113  TUGATUK, RAY SEAN                  DEM              2020   \n",
       "\n",
       "  CAND_OFFICE_ST CAND_OFFICE  CAND_OFFICE_DISTRICT CAND_ICI CAND_STATUS  \\\n",
       "0             AK           H                   0.0        C           N   \n",
       "1             AK           H                   0.0        C           N   \n",
       "\n",
       "    CAND_PCC                CAND_ST1 CAND_ST2  CAND_CITY CAND_ST  CAND_ZIP  \n",
       "0  C00607515  1861 W LAKE LUCILLE DR      NaN    WASILLA      AK   99654.0  \n",
       "1        NaN              PO BOX 172      NaN  MANAKOTAK      AK   99628.0  "
      ]
     },
     "execution_count": 3,
     "metadata": {},
     "output_type": "execute_result"
    }
   ],
   "source": [
    "cand_master_df = pd.read_csv(\"D:/DE_Project_FEC/fec_env/big-data-fec-project/data/raw/candidate_master/candidate_master.csv\")\n",
    "cand_master_df.head(2)"
   ]
  },
  {
   "cell_type": "code",
   "execution_count": 4,
   "id": "9b6628c1",
   "metadata": {},
   "outputs": [
    {
     "name": "stdout",
     "output_type": "stream",
     "text": [
      "<class 'pandas.core.frame.DataFrame'>\n",
      "RangeIndex: 7758 entries, 0 to 7757\n",
      "Data columns (total 15 columns):\n",
      " #   Column                Non-Null Count  Dtype  \n",
      "---  ------                --------------  -----  \n",
      " 0   CAND_ID               7758 non-null   object \n",
      " 1   CAND_NAME             7758 non-null   object \n",
      " 2   CAND_PTY_AFFILIATION  7751 non-null   object \n",
      " 3   CAND_ELECTION_YR      7758 non-null   int64  \n",
      " 4   CAND_OFFICE_ST        7758 non-null   object \n",
      " 5   CAND_OFFICE           7758 non-null   object \n",
      " 6   CAND_OFFICE_DISTRICT  7751 non-null   float64\n",
      " 7   CAND_ICI              7436 non-null   object \n",
      " 8   CAND_STATUS           7758 non-null   object \n",
      " 9   CAND_PCC              6337 non-null   object \n",
      " 10  CAND_ST1              7569 non-null   object \n",
      " 11  CAND_ST2              914 non-null    object \n",
      " 12  CAND_CITY             7755 non-null   object \n",
      " 13  CAND_ST               7579 non-null   object \n",
      " 14  CAND_ZIP              7568 non-null   float64\n",
      "dtypes: float64(2), int64(1), object(12)\n",
      "memory usage: 909.3+ KB\n"
     ]
    }
   ],
   "source": [
    "# datatype check\n",
    "cand_master_df.info()"
   ]
  },
  {
   "cell_type": "code",
   "execution_count": 5,
   "id": "f4839acf",
   "metadata": {},
   "outputs": [
    {
     "data": {
      "text/plain": [
       "CAND_ID                    0\n",
       "CAND_NAME                  0\n",
       "CAND_PTY_AFFILIATION       7\n",
       "CAND_ELECTION_YR           0\n",
       "CAND_OFFICE_ST             0\n",
       "CAND_OFFICE                0\n",
       "CAND_OFFICE_DISTRICT       7\n",
       "CAND_ICI                 322\n",
       "CAND_STATUS                0\n",
       "CAND_PCC                1421\n",
       "CAND_ST1                 189\n",
       "CAND_ST2                6844\n",
       "CAND_CITY                  3\n",
       "CAND_ST                  179\n",
       "CAND_ZIP                 190\n",
       "dtype: int64"
      ]
     },
     "execution_count": 5,
     "metadata": {},
     "output_type": "execute_result"
    }
   ],
   "source": [
    "# null values check\n",
    "cand_master_df.isnull().sum()"
   ]
  },
  {
   "cell_type": "code",
   "execution_count": 181,
   "id": "6e5d6c86",
   "metadata": {},
   "outputs": [],
   "source": [
    "# replace null cand_pty_affiliation with NNE(None) code\n",
    "cand_master_df['CAND_PTY_AFFILIATION'] = cand_master_df['CAND_PTY_AFFILIATION'].fillna('NNE')"
   ]
  },
  {
   "cell_type": "code",
   "execution_count": null,
   "id": "15054fd1",
   "metadata": {},
   "outputs": [],
   "source": [
    "# CAND_OFFICE_DISTRICT\n",
    "cand_master_df['CAND_OFFICE_DISTRICT'] = cand_master_df['CAND_OFFICE_DISTRICT'].fillna(0.0)\n",
    "cand_master_df['CAND_OFFICE_DISTRICT'] = cand_master_df['CAND_OFFICE_DISTRICT'].astype(int)"
   ]
  },
  {
   "cell_type": "code",
   "execution_count": 183,
   "id": "7a9bc075",
   "metadata": {},
   "outputs": [],
   "source": [
    "# CAND_ICI fill with random choice between other three values\n",
    "unique_ici = cand_master_df['CAND_ICI'].dropna().unique()\n",
    "cand_master_df['CAND_ICI'] = cand_master_df['CAND_ICI'].apply(lambda x: np.random.choice(unique_ici) if pd.isna(x) else x)"
   ]
  },
  {
   "cell_type": "code",
   "execution_count": 184,
   "id": "26711fff",
   "metadata": {},
   "outputs": [],
   "source": [
    "# CAND_PCC\n",
    "uniquer_pcc = cand_master_df['CAND_PCC'].dropna().unique()\n",
    "cand_master_df['CAND_PCC'] = cand_master_df['CAND_PCC'].apply(lambda x: np.random.choice(uniquer_pcc) if pd.isna(x) else x)"
   ]
  },
  {
   "cell_type": "code",
   "execution_count": 185,
   "id": "86dfb2b5",
   "metadata": {},
   "outputs": [],
   "source": [
    "# 'CAND_CITY' drop  null rows\n",
    "cand_master_df = cand_master_df.dropna(subset=['CAND_CITY'])"
   ]
  },
  {
   "cell_type": "code",
   "execution_count": 191,
   "id": "aab18626",
   "metadata": {},
   "outputs": [],
   "source": [
    "# Load local JSON file\n",
    "with open(\"C:/Users/mdsoh/Downloads/USCities.json\", \"r\") as f:\n",
    "    data = json.load(f)\n",
    "\n",
    "zip_df = pd.DataFrame(data)\n",
    "\n",
    "# Format city/state to align with your main DataFrame\n",
    "zip_df['city'] = zip_df['city'].str.upper()\n",
    "zip_df['state'] = zip_df['state'].str.upper()\n",
    "zip_df['zip_code'] = zip_df['zip_code'].astype(str).str.zfill(5)\n",
    "\n",
    "# Drop duplicates so only the first ZIP per city/state is kept\n",
    "zip_df = zip_df.drop_duplicates(subset=['city', 'state'])\n",
    "\n",
    "def get_first_zip(city, state):\n",
    "    state_df = zip_df[(zip_df['state']==state) & (zip_df['city']==city)]\n",
    "    if state_df.empty:\n",
    "        return 0\n",
    "    return state_df['zip_code'].values[0]\n",
    "\n",
    "cand_master_df['CAND_CITY'] = cand_master_df['CAND_CITY'].str.upper()\n",
    "cand_master_df['CAND_ST'] = cand_master_df['CAND_ST'].str.upper()\n",
    "\n",
    "# Normalize and identify null ZIPs\n",
    "cand_master_df['CAND_ZIP'] = cand_master_df['CAND_ZIP'].astype(str).str.replace('.0', '', regex=False)\n",
    "cand_master_df.loc[cand_master_df['CAND_ZIP'].isin(['nan', 'None', '','NAN']), 'CAND_ZIP'] = None\n",
    "\n",
    "# Fill null ZIPs with a random one based on city/state\n",
    "mask = cand_master_df['CAND_ZIP'].isnull()\n",
    "cand_master_df.loc[mask, 'CAND_ZIP'] = cand_master_df[mask].apply(\n",
    "    lambda row: get_first_zip(row['CAND_CITY'], row['CAND_ST']),\n",
    "    axis=1\n",
    ")\n",
    "\n",
    "cand_master_df['CAND_ZIP'] = cand_master_df['CAND_ZIP'].astype(int)"
   ]
  },
  {
   "cell_type": "code",
   "execution_count": 192,
   "id": "d9a54a62",
   "metadata": {},
   "outputs": [
    {
     "data": {
      "text/plain": [
       "(7755, 15)"
      ]
     },
     "execution_count": 192,
     "metadata": {},
     "output_type": "execute_result"
    }
   ],
   "source": [
    "cand_master_df.shape"
   ]
  },
  {
   "cell_type": "markdown",
   "id": "6d5a72fd",
   "metadata": {},
   "source": [
    "## 2. committee master"
   ]
  },
  {
   "cell_type": "code",
   "execution_count": 254,
   "id": "f4a8a880",
   "metadata": {},
   "outputs": [
    {
     "data": {
      "text/html": [
       "<div>\n",
       "<style scoped>\n",
       "    .dataframe tbody tr th:only-of-type {\n",
       "        vertical-align: middle;\n",
       "    }\n",
       "\n",
       "    .dataframe tbody tr th {\n",
       "        vertical-align: top;\n",
       "    }\n",
       "\n",
       "    .dataframe thead th {\n",
       "        text-align: right;\n",
       "    }\n",
       "</style>\n",
       "<table border=\"1\" class=\"dataframe\">\n",
       "  <thead>\n",
       "    <tr style=\"text-align: right;\">\n",
       "      <th></th>\n",
       "      <th>CMTE_ID</th>\n",
       "      <th>CMTE_NM</th>\n",
       "      <th>TRES_NM</th>\n",
       "      <th>CMTE_ST1</th>\n",
       "      <th>CMTE_ST2</th>\n",
       "      <th>CMTE_CITY</th>\n",
       "      <th>CMTE_ST</th>\n",
       "      <th>CMTE_ZIP</th>\n",
       "      <th>CMTE_DSGN</th>\n",
       "      <th>CMTE_TP</th>\n",
       "      <th>CMTE_PTY_AFFILIATION</th>\n",
       "      <th>CMTE_FILING_FREQ</th>\n",
       "      <th>ORG_TP</th>\n",
       "      <th>CONNECTED_ORG_NM</th>\n",
       "      <th>CAND_ID</th>\n",
       "    </tr>\n",
       "  </thead>\n",
       "  <tbody>\n",
       "    <tr>\n",
       "      <th>0</th>\n",
       "      <td>C00000059</td>\n",
       "      <td>HALLMARK CARDS PAC</td>\n",
       "      <td>SARAH MOE</td>\n",
       "      <td>2501 MCGEE</td>\n",
       "      <td>MD #500</td>\n",
       "      <td>KANSAS CITY</td>\n",
       "      <td>MO</td>\n",
       "      <td>64108</td>\n",
       "      <td>U</td>\n",
       "      <td>Q</td>\n",
       "      <td>UNK</td>\n",
       "      <td>M</td>\n",
       "      <td>C</td>\n",
       "      <td>NaN</td>\n",
       "      <td>NaN</td>\n",
       "    </tr>\n",
       "    <tr>\n",
       "      <th>1</th>\n",
       "      <td>C00000422</td>\n",
       "      <td>AMERICAN MEDICAL ASSOCIATION POLITICAL ACTION ...</td>\n",
       "      <td>WALKER, KEVIN MR.</td>\n",
       "      <td>25 MASSACHUSETTS AVE, NW</td>\n",
       "      <td>SUITE 600</td>\n",
       "      <td>WASHINGTON</td>\n",
       "      <td>DC</td>\n",
       "      <td>200017400</td>\n",
       "      <td>B</td>\n",
       "      <td>Q</td>\n",
       "      <td>NaN</td>\n",
       "      <td>M</td>\n",
       "      <td>NaN</td>\n",
       "      <td>DELAWARE MEDICAL PAC</td>\n",
       "      <td>NaN</td>\n",
       "    </tr>\n",
       "  </tbody>\n",
       "</table>\n",
       "</div>"
      ],
      "text/plain": [
       "     CMTE_ID                                            CMTE_NM  \\\n",
       "0  C00000059                                 HALLMARK CARDS PAC   \n",
       "1  C00000422  AMERICAN MEDICAL ASSOCIATION POLITICAL ACTION ...   \n",
       "\n",
       "             TRES_NM                  CMTE_ST1   CMTE_ST2    CMTE_CITY  \\\n",
       "0          SARAH MOE                2501 MCGEE    MD #500  KANSAS CITY   \n",
       "1  WALKER, KEVIN MR.  25 MASSACHUSETTS AVE, NW  SUITE 600   WASHINGTON   \n",
       "\n",
       "  CMTE_ST   CMTE_ZIP CMTE_DSGN CMTE_TP CMTE_PTY_AFFILIATION CMTE_FILING_FREQ  \\\n",
       "0      MO      64108         U       Q                  UNK                M   \n",
       "1      DC  200017400         B       Q                  NaN                M   \n",
       "\n",
       "  ORG_TP      CONNECTED_ORG_NM CAND_ID  \n",
       "0      C                   NaN     NaN  \n",
       "1    NaN  DELAWARE MEDICAL PAC     NaN  "
      ]
     },
     "execution_count": 254,
     "metadata": {},
     "output_type": "execute_result"
    }
   ],
   "source": [
    "comm_master_df = pd.read_csv(\"D:/DE_Project_FEC/fec_env/big-data-fec-project/data/raw/committe_master/committe_master.csv\")\n",
    "comm_master_df.head(2)"
   ]
  },
  {
   "cell_type": "code",
   "execution_count": 255,
   "id": "66ab0c14",
   "metadata": {},
   "outputs": [
    {
     "name": "stdout",
     "output_type": "stream",
     "text": [
      "<class 'pandas.core.frame.DataFrame'>\n",
      "RangeIndex: 18286 entries, 0 to 18285\n",
      "Data columns (total 15 columns):\n",
      " #   Column                Non-Null Count  Dtype \n",
      "---  ------                --------------  ----- \n",
      " 0   CMTE_ID               18286 non-null  object\n",
      " 1   CMTE_NM               18284 non-null  object\n",
      " 2   TRES_NM               17557 non-null  object\n",
      " 3   CMTE_ST1              18277 non-null  object\n",
      " 4   CMTE_ST2              4519 non-null   object\n",
      " 5   CMTE_CITY             18277 non-null  object\n",
      " 6   CMTE_ST               18278 non-null  object\n",
      " 7   CMTE_ZIP              18273 non-null  object\n",
      " 8   CMTE_DSGN             18281 non-null  object\n",
      " 9   CMTE_TP               18281 non-null  object\n",
      " 10  CMTE_PTY_AFFILIATION  7796 non-null   object\n",
      " 11  CMTE_FILING_FREQ      18286 non-null  object\n",
      " 12  ORG_TP                3253 non-null   object\n",
      " 13  CONNECTED_ORG_NM      9273 non-null   object\n",
      " 14  CAND_ID               6718 non-null   object\n",
      "dtypes: object(15)\n",
      "memory usage: 2.1+ MB\n"
     ]
    }
   ],
   "source": [
    "# data type check\n",
    "comm_master_df.info()"
   ]
  },
  {
   "cell_type": "code",
   "execution_count": 260,
   "id": "9672d104",
   "metadata": {},
   "outputs": [
    {
     "data": {
      "text/plain": [
       "CMTE_ID                     0\n",
       "CMTE_NM                     0\n",
       "TRES_NM                     0\n",
       "CMTE_ST1                    1\n",
       "CMTE_ST2                13759\n",
       "CMTE_CITY                   0\n",
       "CMTE_ST                     0\n",
       "CMTE_ZIP                    4\n",
       "CMTE_DSGN                   2\n",
       "CMTE_TP                     2\n",
       "CMTE_PTY_AFFILIATION        0\n",
       "CMTE_FILING_FREQ            0\n",
       "ORG_TP                      0\n",
       "CONNECTED_ORG_NM            0\n",
       "CAND_ID                 11562\n",
       "dtype: int64"
      ]
     },
     "execution_count": 260,
     "metadata": {},
     "output_type": "execute_result"
    }
   ],
   "source": [
    "comm_master_df.isnull().sum()"
   ]
  },
  {
   "cell_type": "code",
   "execution_count": 257,
   "id": "eee07979",
   "metadata": {},
   "outputs": [],
   "source": [
    "# treasured name not found\n",
    "comm_master_df['TRES_NM'] = comm_master_df['TRES_NM'].fillna('Not Mention')\n",
    "comm_master_df['CMTE_PTY_AFFILIATION'] = comm_master_df['CMTE_PTY_AFFILIATION'].fillna('NNE')\n",
    "comm_master_df['ORG_TP'] = comm_master_df['ORG_TP'].fillna('N')\n",
    "comm_master_df['CONNECTED_ORG_NM'] = comm_master_df['CONNECTED_ORG_NM'].fillna('NONE')"
   ]
  },
  {
   "cell_type": "code",
   "execution_count": 258,
   "id": "74c40bd2",
   "metadata": {},
   "outputs": [],
   "source": [
    "# 'CMTE_NM','CMTE_CITY' drop  null rows\n",
    "comm_master_df = comm_master_df.dropna(subset=['CMTE_NM','CMTE_CITY'])"
   ]
  },
  {
   "cell_type": "code",
   "execution_count": 259,
   "id": "df879dbe",
   "metadata": {},
   "outputs": [
    {
     "data": {
      "text/plain": [
       "(18277, 15)"
      ]
     },
     "execution_count": 259,
     "metadata": {},
     "output_type": "execute_result"
    }
   ],
   "source": [
    "comm_master_df.shape"
   ]
  },
  {
   "cell_type": "markdown",
   "id": "8504a551",
   "metadata": {},
   "source": [
    "## 3. candidate committee linkage"
   ]
  },
  {
   "cell_type": "code",
   "execution_count": 261,
   "id": "49c7db8e",
   "metadata": {},
   "outputs": [
    {
     "data": {
      "text/html": [
       "<div>\n",
       "<style scoped>\n",
       "    .dataframe tbody tr th:only-of-type {\n",
       "        vertical-align: middle;\n",
       "    }\n",
       "\n",
       "    .dataframe tbody tr th {\n",
       "        vertical-align: top;\n",
       "    }\n",
       "\n",
       "    .dataframe thead th {\n",
       "        text-align: right;\n",
       "    }\n",
       "</style>\n",
       "<table border=\"1\" class=\"dataframe\">\n",
       "  <thead>\n",
       "    <tr style=\"text-align: right;\">\n",
       "      <th></th>\n",
       "      <th>CAND_ID</th>\n",
       "      <th>CAND_ELECTION_YR</th>\n",
       "      <th>FEC_ELECTION_YR</th>\n",
       "      <th>CMTE_ID</th>\n",
       "      <th>CMTE_TP</th>\n",
       "      <th>CMTE_DSGN</th>\n",
       "      <th>LINKAGE_ID</th>\n",
       "    </tr>\n",
       "  </thead>\n",
       "  <tbody>\n",
       "    <tr>\n",
       "      <th>0</th>\n",
       "      <td>C00713602</td>\n",
       "      <td>2019</td>\n",
       "      <td>2020</td>\n",
       "      <td>C00712851</td>\n",
       "      <td>O</td>\n",
       "      <td>U</td>\n",
       "      <td>228963</td>\n",
       "    </tr>\n",
       "    <tr>\n",
       "      <th>1</th>\n",
       "      <td>H0AK00105</td>\n",
       "      <td>2020</td>\n",
       "      <td>2020</td>\n",
       "      <td>C00607515</td>\n",
       "      <td>H</td>\n",
       "      <td>P</td>\n",
       "      <td>229250</td>\n",
       "    </tr>\n",
       "  </tbody>\n",
       "</table>\n",
       "</div>"
      ],
      "text/plain": [
       "     CAND_ID  CAND_ELECTION_YR  FEC_ELECTION_YR    CMTE_ID CMTE_TP CMTE_DSGN  \\\n",
       "0  C00713602              2019             2020  C00712851       O         U   \n",
       "1  H0AK00105              2020             2020  C00607515       H         P   \n",
       "\n",
       "   LINKAGE_ID  \n",
       "0      228963  \n",
       "1      229250  "
      ]
     },
     "execution_count": 261,
     "metadata": {},
     "output_type": "execute_result"
    }
   ],
   "source": [
    "cand_comm_df = pd.read_csv(\"D:/DE_Project_FEC/fec_env/big-data-fec-project/data/raw/candidate_committtee_linkage/candidate_committtee_linkage.csv\")\n",
    "cand_comm_df.head(2)"
   ]
  },
  {
   "cell_type": "code",
   "execution_count": 262,
   "id": "2c407685",
   "metadata": {},
   "outputs": [
    {
     "name": "stdout",
     "output_type": "stream",
     "text": [
      "<class 'pandas.core.frame.DataFrame'>\n",
      "RangeIndex: 7055 entries, 0 to 7054\n",
      "Data columns (total 7 columns):\n",
      " #   Column            Non-Null Count  Dtype \n",
      "---  ------            --------------  ----- \n",
      " 0   CAND_ID           7055 non-null   object\n",
      " 1   CAND_ELECTION_YR  7055 non-null   int64 \n",
      " 2   FEC_ELECTION_YR   7055 non-null   int64 \n",
      " 3   CMTE_ID           7055 non-null   object\n",
      " 4   CMTE_TP           7055 non-null   object\n",
      " 5   CMTE_DSGN         7055 non-null   object\n",
      " 6   LINKAGE_ID        7055 non-null   int64 \n",
      "dtypes: int64(3), object(4)\n",
      "memory usage: 385.9+ KB\n"
     ]
    }
   ],
   "source": [
    "# data type check\n",
    "cand_comm_df.info()"
   ]
  },
  {
   "cell_type": "code",
   "execution_count": 263,
   "id": "c32eb73a",
   "metadata": {},
   "outputs": [
    {
     "data": {
      "text/plain": [
       "CAND_ID             0\n",
       "CAND_ELECTION_YR    0\n",
       "FEC_ELECTION_YR     0\n",
       "CMTE_ID             0\n",
       "CMTE_TP             0\n",
       "CMTE_DSGN           0\n",
       "LINKAGE_ID          0\n",
       "dtype: int64"
      ]
     },
     "execution_count": 263,
     "metadata": {},
     "output_type": "execute_result"
    }
   ],
   "source": [
    "# null check\n",
    "cand_comm_df.isnull().sum()"
   ]
  },
  {
   "cell_type": "markdown",
   "id": "3bea8831",
   "metadata": {},
   "source": [
    "## 4. operating expenditure"
   ]
  },
  {
   "cell_type": "code",
   "execution_count": 3,
   "id": "6e723e62",
   "metadata": {},
   "outputs": [
    {
     "name": "stderr",
     "output_type": "stream",
     "text": [
      "C:\\Users\\mdsoh\\AppData\\Local\\Temp\\ipykernel_14380\\181831445.py:2: DtypeWarning: Columns (11,16) have mixed types. Specify dtype option on import or set low_memory=False.\n",
      "  oper_exp_df = pd.read_csv(\"D:/DE_Project_FEC/fec_env/big-data-fec-project/data/raw/operating_expenditure/oppexp.txt\", delimiter=\"|\",on_bad_lines='skip')\n"
     ]
    },
    {
     "data": {
      "text/html": [
       "<div>\n",
       "<style scoped>\n",
       "    .dataframe tbody tr th:only-of-type {\n",
       "        vertical-align: middle;\n",
       "    }\n",
       "\n",
       "    .dataframe tbody tr th {\n",
       "        vertical-align: top;\n",
       "    }\n",
       "\n",
       "    .dataframe thead th {\n",
       "        text-align: right;\n",
       "    }\n",
       "</style>\n",
       "<table border=\"1\" class=\"dataframe\">\n",
       "  <thead>\n",
       "    <tr style=\"text-align: right;\">\n",
       "      <th></th>\n",
       "      <th>CMTE_ID</th>\n",
       "      <th>AMNDT_IND</th>\n",
       "      <th>RPT_YR</th>\n",
       "      <th>RPT_TP</th>\n",
       "      <th>IMAGE_NUM</th>\n",
       "      <th>LINE_NUM</th>\n",
       "      <th>FORM_TP_CD</th>\n",
       "      <th>SCHED_TP_CD</th>\n",
       "      <th>NAME</th>\n",
       "      <th>CITY</th>\n",
       "      <th>...</th>\n",
       "      <th>CATEGORY</th>\n",
       "      <th>CATEGORY_DESC</th>\n",
       "      <th>MEMO_CD</th>\n",
       "      <th>MEMO_TEXT</th>\n",
       "      <th>ENTITY_TP</th>\n",
       "      <th>SUB_ID</th>\n",
       "      <th>FILE_NUM</th>\n",
       "      <th>TRAN_ID</th>\n",
       "      <th>BACK_REF_TRAN_ID</th>\n",
       "      <th>Unnamed: 25</th>\n",
       "    </tr>\n",
       "  </thead>\n",
       "  <tbody>\n",
       "    <tr>\n",
       "      <th>0</th>\n",
       "      <td>C00639872</td>\n",
       "      <td>T</td>\n",
       "      <td>2019</td>\n",
       "      <td>TER</td>\n",
       "      <td>201901209143894009</td>\n",
       "      <td>17</td>\n",
       "      <td>F3</td>\n",
       "      <td>SB</td>\n",
       "      <td>ADMINISTRATIVE BUSINESS SERVICES</td>\n",
       "      <td>CHARLOTTE</td>\n",
       "      <td>...</td>\n",
       "      <td>NaN</td>\n",
       "      <td>NaN</td>\n",
       "      <td>NaN</td>\n",
       "      <td>NaN</td>\n",
       "      <td>ORG</td>\n",
       "      <td>4021520191639587673</td>\n",
       "      <td>1305744</td>\n",
       "      <td>VTPY09W3DX1</td>\n",
       "      <td>NaN</td>\n",
       "      <td>NaN</td>\n",
       "    </tr>\n",
       "    <tr>\n",
       "      <th>1</th>\n",
       "      <td>C00639872</td>\n",
       "      <td>T</td>\n",
       "      <td>2019</td>\n",
       "      <td>TER</td>\n",
       "      <td>201901209143894009</td>\n",
       "      <td>17</td>\n",
       "      <td>F3</td>\n",
       "      <td>SB</td>\n",
       "      <td>ADP INC</td>\n",
       "      <td>ROSELAND</td>\n",
       "      <td>...</td>\n",
       "      <td>NaN</td>\n",
       "      <td>NaN</td>\n",
       "      <td>NaN</td>\n",
       "      <td>NaN</td>\n",
       "      <td>ORG</td>\n",
       "      <td>4021520191639587675</td>\n",
       "      <td>1305744</td>\n",
       "      <td>VTPY09W2JW7</td>\n",
       "      <td>NaN</td>\n",
       "      <td>NaN</td>\n",
       "    </tr>\n",
       "  </tbody>\n",
       "</table>\n",
       "<p>2 rows × 26 columns</p>\n",
       "</div>"
      ],
      "text/plain": [
       "     CMTE_ID AMNDT_IND  RPT_YR RPT_TP           IMAGE_NUM LINE_NUM FORM_TP_CD  \\\n",
       "0  C00639872         T    2019    TER  201901209143894009       17         F3   \n",
       "1  C00639872         T    2019    TER  201901209143894009       17         F3   \n",
       "\n",
       "  SCHED_TP_CD                              NAME       CITY  ... CATEGORY  \\\n",
       "0          SB  ADMINISTRATIVE BUSINESS SERVICES  CHARLOTTE  ...      NaN   \n",
       "1          SB                           ADP INC   ROSELAND  ...      NaN   \n",
       "\n",
       "  CATEGORY_DESC MEMO_CD  MEMO_TEXT ENTITY_TP               SUB_ID FILE_NUM  \\\n",
       "0           NaN     NaN        NaN       ORG  4021520191639587673  1305744   \n",
       "1           NaN     NaN        NaN       ORG  4021520191639587675  1305744   \n",
       "\n",
       "       TRAN_ID BACK_REF_TRAN_ID Unnamed: 25  \n",
       "0  VTPY09W3DX1              NaN         NaN  \n",
       "1  VTPY09W2JW7              NaN         NaN  \n",
       "\n",
       "[2 rows x 26 columns]"
      ]
     },
     "execution_count": 3,
     "metadata": {},
     "output_type": "execute_result"
    }
   ],
   "source": [
    "#oper_exp_df = pd.read_csv(\"D:/DE_Project_FEC/fec_env/big-data-fec-project/data/raw/operating_expenditure/oppexp.txt\")\n",
    "oper_exp_df = pd.read_csv(\"D:/DE_Project_FEC/fec_env/big-data-fec-project/data/raw/operating_expenditure/oppexp.txt\", delimiter=\"|\",on_bad_lines='skip')\n",
    "oper_exp_df.head(2)"
   ]
  },
  {
   "cell_type": "code",
   "execution_count": 4,
   "id": "8711c42f",
   "metadata": {},
   "outputs": [
    {
     "data": {
      "text/plain": [
       "(2310524, 26)"
      ]
     },
     "execution_count": 4,
     "metadata": {},
     "output_type": "execute_result"
    }
   ],
   "source": [
    "oper_exp_df.shape"
   ]
  },
  {
   "cell_type": "code",
   "execution_count": 8,
   "id": "3532a91a",
   "metadata": {},
   "outputs": [
    {
     "name": "stdout",
     "output_type": "stream",
     "text": [
      "<class 'pandas.core.frame.DataFrame'>\n",
      "RangeIndex: 2310524 entries, 0 to 2310523\n",
      "Data columns (total 26 columns):\n",
      " #   Column            Dtype  \n",
      "---  ------            -----  \n",
      " 0   CMTE_ID           object \n",
      " 1   AMNDT_IND         object \n",
      " 2   RPT_YR            int64  \n",
      " 3   RPT_TP            object \n",
      " 4   IMAGE_NUM         int64  \n",
      " 5   LINE_NUM          object \n",
      " 6   FORM_TP_CD        object \n",
      " 7   SCHED_TP_CD       object \n",
      " 8   NAME              object \n",
      " 9   CITY              object \n",
      " 10  STATE             object \n",
      " 11  ZIP_CODE          object \n",
      " 12  TRANSACTION_DT    object \n",
      " 13  TRANSACTION_AMT   float64\n",
      " 14  TRANSACTION_PGI   object \n",
      " 15  PURPOSE           object \n",
      " 16  CATEGORY          object \n",
      " 17  CATEGORY_DESC     object \n",
      " 18  MEMO_CD           object \n",
      " 19  MEMO_TEXT         object \n",
      " 20  ENTITY_TP         object \n",
      " 21  SUB_ID            int64  \n",
      " 22  FILE_NUM          int64  \n",
      " 23  TRAN_ID           object \n",
      " 24  BACK_REF_TRAN_ID  object \n",
      " 25  Unnamed: 25       float64\n",
      "dtypes: float64(2), int64(4), object(20)\n",
      "memory usage: 458.3+ MB\n"
     ]
    }
   ],
   "source": [
    "# data type check\n",
    "oper_exp_df.info()"
   ]
  },
  {
   "cell_type": "code",
   "execution_count": 9,
   "id": "3784ec41",
   "metadata": {},
   "outputs": [
    {
     "data": {
      "text/plain": [
       "CMTE_ID                   0\n",
       "AMNDT_IND                 0\n",
       "RPT_YR                    0\n",
       "RPT_TP                    0\n",
       "IMAGE_NUM                 0\n",
       "LINE_NUM                  0\n",
       "FORM_TP_CD                0\n",
       "SCHED_TP_CD               0\n",
       "NAME                    158\n",
       "CITY                   6255\n",
       "STATE                  6463\n",
       "ZIP_CODE               7803\n",
       "TRANSACTION_DT           15\n",
       "TRANSACTION_AMT           0\n",
       "TRANSACTION_PGI      924380\n",
       "PURPOSE               10154\n",
       "CATEGORY            1800724\n",
       "CATEGORY_DESC       1808169\n",
       "MEMO_CD             1524383\n",
       "MEMO_TEXT           1718434\n",
       "ENTITY_TP              4593\n",
       "SUB_ID                    0\n",
       "FILE_NUM                  0\n",
       "TRAN_ID                   0\n",
       "BACK_REF_TRAN_ID    1619641\n",
       "Unnamed: 25         2310524\n",
       "dtype: int64"
      ]
     },
     "execution_count": 9,
     "metadata": {},
     "output_type": "execute_result"
    }
   ],
   "source": [
    "# null check \n",
    "oper_exp_df.isnull().sum()"
   ]
  },
  {
   "cell_type": "code",
   "execution_count": 10,
   "id": "62903185",
   "metadata": {},
   "outputs": [],
   "source": [
    "# Schedule type\n",
    "oper_exp_df['SCHED_TP_CD'] = oper_exp_df['SCHED_TP_CD'].fillna('Not Mention')"
   ]
  },
  {
   "cell_type": "code",
   "execution_count": 11,
   "id": "2256cc48",
   "metadata": {},
   "outputs": [],
   "source": [
    "# Contributor/Lender/Transfer Name\n",
    "oper_exp_df['NAME'] = oper_exp_df['NAME'].fillna('Not Mention')"
   ]
  },
  {
   "cell_type": "code",
   "execution_count": 12,
   "id": "944162b7",
   "metadata": {},
   "outputs": [
    {
     "data": {
      "text/plain": [
       "TRANSACTION_DT\n",
       "02/14/2020    17462\n",
       "01/31/2020    16982\n",
       "02/28/2020    14728\n",
       "09/30/2020    13754\n",
       "03/13/2020    12150\n",
       "              ...  \n",
       "01/06/2018        1\n",
       "03/20/2015        1\n",
       "01/15/2015        1\n",
       "10/05/2022        1\n",
       "12/15/2021        1\n",
       "Name: count, Length: 1134, dtype: int64"
      ]
     },
     "execution_count": 12,
     "metadata": {},
     "output_type": "execute_result"
    }
   ],
   "source": [
    "#  TRANSACTION_DT\n",
    "oper_exp_df['TRANSACTION_DT'].value_counts()"
   ]
  },
  {
   "cell_type": "markdown",
   "id": "50c32adb",
   "metadata": {},
   "source": [
    "## 5. individual contribution"
   ]
  },
  {
   "cell_type": "code",
   "execution_count": null,
   "id": "6af385ce",
   "metadata": {},
   "outputs": [],
   "source": [
    "import pandas as pd\n",
    "\n",
    "# File path\n",
    "file_path = \"D:/DE_Project_FEC/fec_env/big-data-fec-project/data/raw/individual_contribution/itcont.txt\"\n",
    "\n",
    "# Load headers from Excel\n",
    "headers_excel_path = \"D:/DE_Project_FEC/fec_env/big-data-fec-project/data/raw/individual_contribution/indiv_header_file.csv\"\n",
    "headers = pd.read_csv(headers_excel_path).columns.tolist()\n",
    "\n",
    "# Read the txt file (pipe-delimited) without headers\n",
    "df = pd.read_csv(file_path, delimiter=\"|\", header=None, names=headers,on_bad_lines='skip')\n",
    "\n",
    "# Sample 10% of the rows\n",
    "sample_df = df.sample(frac=0.1, random_state=42)\n",
    "\n",
    "# Show sample\n",
    "sample_df.head(2)\n"
   ]
  }
 ],
 "metadata": {
  "kernelspec": {
   "display_name": "fec_env",
   "language": "python",
   "name": "python3"
  },
  "language_info": {
   "codemirror_mode": {
    "name": "ipython",
    "version": 3
   },
   "file_extension": ".py",
   "mimetype": "text/x-python",
   "name": "python",
   "nbconvert_exporter": "python",
   "pygments_lexer": "ipython3",
   "version": "3.11.0"
  }
 },
 "nbformat": 4,
 "nbformat_minor": 5
}
