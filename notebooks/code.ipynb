{
 "cells": [
  {
   "cell_type": "code",
   "execution_count": 2,
   "id": "9830eab3",
   "metadata": {},
   "outputs": [],
   "source": [
    "from pyspark.sql import SparkSession\n",
    "\n",
    "spark = SparkSession.builder \\\n",
    "    .appName(\"Read Pipe Delimited File\") \\\n",
    "    .master(\"local[*]\") \\\n",
    "    .config(\"spark.driver.bindAddress\", \"127.0.0.1\") \\\n",
    "    .config(\"spark.driver.host\", \"127.0.0.1\") \\\n",
    "    .getOrCreate()\n"
   ]
  },
  {
   "cell_type": "code",
   "execution_count": 4,
   "id": "adc3f076",
   "metadata": {},
   "outputs": [
    {
     "name": "stdout",
     "output_type": "stream",
     "text": [
      "+---------+--------------------+-------+---------+----------------+------------+--------------+------------+----------------------+------------+----------+------------------+----------+------------+------------+----------------------+---------------+----------+----------+----------------------+---------------------+---------------------+----------------------+----------------+----------+\n",
      "|  CMTE_ID|             CMTE_NM|CMTE_TP|CMTE_DSGN|CMTE_FILING_FREQ|TTL_RECEIPTS|TRANS_FROM_AFF|INDV_CONTRIB|OTHER_POL_CMTE_CONTRIB|CAND_CONTRIB|CAND_LOANS|TTL_LOANS_RECEIVED|  TTL_DISB|TRANF_TO_AFF|INDV_REFUNDS|OTHER_POL_CMTE_REFUNDS|CAND_LOAN_REPAY|LOAN_REPAY|   COH_BOP|COH_COP\\tDEBTS_OWED_BY|NONFED_TRANS_RECEIVED|CONTRIB_TO_OTHER_CMTE|IND_EXP\\tPTY_COORD_EXP|NONFED_SHARE_EXP|CVG_END_DT|\n",
      "+---------+--------------------+-------+---------+----------------+------------+--------------+------------+----------------------+------------+----------+------------------+----------+------------+------------+----------------------+---------------+----------+----------+----------------------+---------------------+---------------------+----------------------+----------------+----------+\n",
      "|C00000059|  HALLMARK CARDS PAC|      Q|        U|               M|   112582.58|           0.0|   112582.58|                   0.0|         0.0|       0.0|               0.0| 114004.97|         0.0|         0.0|                   0.0|            0.0|       0.0| 148995.87|             151358.23|                  0.0|                  0.0|              109000.0|             0.0|       0.0|\n",
      "|C00000422|AMERICAN MEDICAL ...|      Q|        B|               M|  1617198.05|           0.0|  1572559.36|                   0.0|         0.0|       0.0|               0.0|1722899.94|         0.0|     7452.59|                   0.0|            0.0|       0.0|1142153.22|            1036451.33|                  0.0|                  0.0|             1293500.0|        344800.0|       0.0|\n",
      "|C00000489|D R I V E POLITIC...|      N|        U|               Q|    77582.87|      77582.87|         0.0|                   0.0|         0.0|       0.0|               0.0|  83275.63|         0.0|         0.0|                   0.0|            0.0|       0.0|  13740.13|               8047.37|                  0.0|                  0.0|                   0.0|             0.0|       0.0|\n",
      "+---------+--------------------+-------+---------+----------------+------------+--------------+------------+----------------------+------------+----------+------------------+----------+------------+------------+----------------------+---------------+----------+----------+----------------------+---------------------+---------------------+----------------------+----------------+----------+\n",
      "only showing top 3 rows\n",
      "\n"
     ]
    }
   ],
   "source": [
    "# Path to your .txt file\n",
    "file_path = \"D:/DE_Project_FEC/fec_env/big-data-fec-project/data/raw/pac_summary/webk20.txt\"\n",
    "\n",
    "# Read the .txt file\n",
    "df = spark.read.option(\"header\", \"true\") \\\n",
    "               .option(\"delimiter\", \"|\") \\\n",
    "               .option(\"inferSchema\", \"true\") \\\n",
    "               .csv(file_path)\n",
    "\n",
    "# Show the DataFrame\n",
    "df.show(3)"
   ]
  },
  {
   "cell_type": "code",
   "execution_count": 5,
   "id": "a518d4b5",
   "metadata": {},
   "outputs": [
    {
     "data": {
      "text/html": [
       "\n",
       "            <div>\n",
       "                <p><b>SparkSession - in-memory</b></p>\n",
       "                \n",
       "        <div>\n",
       "            <p><b>SparkContext</b></p>\n",
       "\n",
       "            <p><a href=\"http://127.0.0.1:4040\">Spark UI</a></p>\n",
       "\n",
       "            <dl>\n",
       "              <dt>Version</dt>\n",
       "                <dd><code>v3.5.5</code></dd>\n",
       "              <dt>Master</dt>\n",
       "                <dd><code>local[*]</code></dd>\n",
       "              <dt>AppName</dt>\n",
       "                <dd><code>Read Pipe Delimited File</code></dd>\n",
       "            </dl>\n",
       "        </div>\n",
       "        \n",
       "            </div>\n",
       "        "
      ],
      "text/plain": [
       "<pyspark.sql.session.SparkSession at 0x1d718bda1d0>"
      ]
     },
     "execution_count": 5,
     "metadata": {},
     "output_type": "execute_result"
    }
   ],
   "source": [
    "spark"
   ]
  },
  {
   "cell_type": "code",
   "execution_count": 6,
   "metadata": {},
   "outputs": [],
   "source": [
    "spark.stop()"
   ]
  },
  {
   "cell_type": "code",
   "execution_count": null,
   "id": "170b6c6c",
   "metadata": {},
   "outputs": [],
   "source": []
  },
  {
   "cell_type": "code",
   "execution_count": null,
   "id": "72ac15f1",
   "metadata": {},
   "outputs": [],
   "source": []
  },
  {
   "cell_type": "code",
   "execution_count": null,
   "id": "0c8489a7",
   "metadata": {},
   "outputs": [],
   "source": []
  },
  {
   "cell_type": "code",
   "execution_count": null,
   "metadata": {},
   "outputs": [],
   "source": []
  },
  {
   "cell_type": "code",
   "execution_count": null,
   "id": "b5b14873",
   "metadata": {},
   "outputs": [],
   "source": []
  },
  {
   "cell_type": "code",
   "execution_count": 14,
   "id": "44390de9",
   "metadata": {},
   "outputs": [
    {
     "data": {
      "text/html": [
       "<div>\n",
       "<style scoped>\n",
       "    .dataframe tbody tr th:only-of-type {\n",
       "        vertical-align: middle;\n",
       "    }\n",
       "\n",
       "    .dataframe tbody tr th {\n",
       "        vertical-align: top;\n",
       "    }\n",
       "\n",
       "    .dataframe thead th {\n",
       "        text-align: right;\n",
       "    }\n",
       "</style>\n",
       "<table border=\"1\" class=\"dataframe\">\n",
       "  <thead>\n",
       "    <tr style=\"text-align: right;\">\n",
       "      <th></th>\n",
       "      <th>CAND_ID</th>\n",
       "      <th>CAND_NAME</th>\n",
       "      <th>CAND_PTY_AFFILIATION</th>\n",
       "      <th>CAND_ELECTION_YR</th>\n",
       "      <th>CAND_OFFICE_ST</th>\n",
       "      <th>CAND_OFFICE</th>\n",
       "      <th>CAND_OFFICE_DISTRICT</th>\n",
       "      <th>CAND_ICI</th>\n",
       "      <th>CAND_STATUS</th>\n",
       "      <th>CAND_PCC</th>\n",
       "      <th>CAND_ST1</th>\n",
       "      <th>CAND_ST2</th>\n",
       "      <th>CAND_CITY</th>\n",
       "      <th>CAND_ST</th>\n",
       "      <th>CAND_ZIP</th>\n",
       "    </tr>\n",
       "  </thead>\n",
       "  <tbody>\n",
       "    <tr>\n",
       "      <th>0</th>\n",
       "      <td>H0AK00105</td>\n",
       "      <td>LAMB, THOMAS</td>\n",
       "      <td>NNE</td>\n",
       "      <td>2020</td>\n",
       "      <td>AK</td>\n",
       "      <td>H</td>\n",
       "      <td>0.0</td>\n",
       "      <td>C</td>\n",
       "      <td>N</td>\n",
       "      <td>C00607515</td>\n",
       "      <td>1861 W LAKE LUCILLE DR</td>\n",
       "      <td>NaN</td>\n",
       "      <td>WASILLA</td>\n",
       "      <td>AK</td>\n",
       "      <td>99654.0</td>\n",
       "    </tr>\n",
       "    <tr>\n",
       "      <th>1</th>\n",
       "      <td>H0AK00113</td>\n",
       "      <td>TUGATUK, RAY SEAN</td>\n",
       "      <td>DEM</td>\n",
       "      <td>2020</td>\n",
       "      <td>AK</td>\n",
       "      <td>H</td>\n",
       "      <td>0.0</td>\n",
       "      <td>C</td>\n",
       "      <td>N</td>\n",
       "      <td>NaN</td>\n",
       "      <td>PO BOX 172</td>\n",
       "      <td>NaN</td>\n",
       "      <td>MANAKOTAK</td>\n",
       "      <td>AK</td>\n",
       "      <td>99628.0</td>\n",
       "    </tr>\n",
       "  </tbody>\n",
       "</table>\n",
       "</div>"
      ],
      "text/plain": [
       "     CAND_ID          CAND_NAME CAND_PTY_AFFILIATION  CAND_ELECTION_YR  \\\n",
       "0  H0AK00105       LAMB, THOMAS                  NNE              2020   \n",
       "1  H0AK00113  TUGATUK, RAY SEAN                  DEM              2020   \n",
       "\n",
       "  CAND_OFFICE_ST CAND_OFFICE  CAND_OFFICE_DISTRICT CAND_ICI CAND_STATUS  \\\n",
       "0             AK           H                   0.0        C           N   \n",
       "1             AK           H                   0.0        C           N   \n",
       "\n",
       "    CAND_PCC                CAND_ST1 CAND_ST2  CAND_CITY CAND_ST  CAND_ZIP  \n",
       "0  C00607515  1861 W LAKE LUCILLE DR      NaN    WASILLA      AK   99654.0  \n",
       "1        NaN              PO BOX 172      NaN  MANAKOTAK      AK   99628.0  "
      ]
     },
     "execution_count": 14,
     "metadata": {},
     "output_type": "execute_result"
    }
   ],
   "source": [
    "import pandas as pd\n",
    "df = pd.read_csv(r\"D:\\DE_Project_FEC\\fec_env\\big-data-fec-project\\data\\raw\\candidate_master\\candidate_master.csv\")\n",
    "df.head(2)"
   ]
  },
  {
   "cell_type": "code",
   "execution_count": 15,
   "id": "6f4100eb",
   "metadata": {},
   "outputs": [
    {
     "data": {
      "text/plain": [
       "(7758, 15)"
      ]
     },
     "execution_count": 15,
     "metadata": {},
     "output_type": "execute_result"
    }
   ],
   "source": [
    "df.shape"
   ]
  },
  {
   "cell_type": "code",
   "execution_count": 16,
   "id": "efb6529f",
   "metadata": {},
   "outputs": [
    {
     "data": {
      "text/plain": [
       "Index(['CAND_ID', 'CAND_NAME', 'CAND_PTY_AFFILIATION', 'CAND_ELECTION_YR',\n",
       "       'CAND_OFFICE_ST', 'CAND_OFFICE', 'CAND_OFFICE_DISTRICT', 'CAND_ICI',\n",
       "       'CAND_STATUS', 'CAND_PCC', 'CAND_ST1', 'CAND_ST2', 'CAND_CITY',\n",
       "       'CAND_ST', 'CAND_ZIP'],\n",
       "      dtype='object')"
      ]
     },
     "execution_count": 16,
     "metadata": {},
     "output_type": "execute_result"
    }
   ],
   "source": [
    "df.columns"
   ]
  },
  {
   "cell_type": "code",
   "execution_count": 17,
   "id": "a9f939e4",
   "metadata": {},
   "outputs": [
    {
     "name": "stdout",
     "output_type": "stream",
     "text": [
      "<class 'pandas.core.frame.DataFrame'>\n",
      "RangeIndex: 7758 entries, 0 to 7757\n",
      "Data columns (total 15 columns):\n",
      " #   Column                Non-Null Count  Dtype  \n",
      "---  ------                --------------  -----  \n",
      " 0   CAND_ID               7758 non-null   object \n",
      " 1   CAND_NAME             7758 non-null   object \n",
      " 2   CAND_PTY_AFFILIATION  7751 non-null   object \n",
      " 3   CAND_ELECTION_YR      7758 non-null   int64  \n",
      " 4   CAND_OFFICE_ST        7758 non-null   object \n",
      " 5   CAND_OFFICE           7758 non-null   object \n",
      " 6   CAND_OFFICE_DISTRICT  7751 non-null   float64\n",
      " 7   CAND_ICI              7436 non-null   object \n",
      " 8   CAND_STATUS           7758 non-null   object \n",
      " 9   CAND_PCC              6337 non-null   object \n",
      " 10  CAND_ST1              7569 non-null   object \n",
      " 11  CAND_ST2              914 non-null    object \n",
      " 12  CAND_CITY             7755 non-null   object \n",
      " 13  CAND_ST               7579 non-null   object \n",
      " 14  CAND_ZIP              7568 non-null   float64\n",
      "dtypes: float64(2), int64(1), object(12)\n",
      "memory usage: 909.3+ KB\n"
     ]
    }
   ],
   "source": [
    "df.info()"
   ]
  },
  {
   "cell_type": "code",
   "execution_count": 13,
   "id": "7728346b",
   "metadata": {},
   "outputs": [
    {
     "data": {
      "text/plain": [
       "(5179, 15)"
      ]
     },
     "execution_count": 13,
     "metadata": {},
     "output_type": "execute_result"
    }
   ],
   "source": [
    "clean_df = df[(df['CAND_ELECTION_YR'] < 2021) & (df['CAND_ELECTION_YR'] > 2018)]\n",
    "clean_df.shape"
   ]
  },
  {
   "cell_type": "code",
   "execution_count": 16,
   "id": "2060ecc4",
   "metadata": {},
   "outputs": [
    {
     "data": {
      "text/plain": [
       "[np.int64(2916),\n",
       " np.int64(2820),\n",
       " np.int64(2106),\n",
       " np.int64(2064),\n",
       " np.int64(2052),\n",
       " np.int64(2048),\n",
       " np.int64(2044),\n",
       " np.int64(2040),\n",
       " np.int64(2036),\n",
       " np.int64(2032),\n",
       " np.int64(2029),\n",
       " np.int64(2028),\n",
       " np.int64(2026),\n",
       " np.int64(2025),\n",
       " np.int64(2024),\n",
       " np.int64(2022),\n",
       " np.int64(2021),\n",
       " np.int64(2020),\n",
       " np.int64(2019),\n",
       " np.int64(2018),\n",
       " np.int64(2017),\n",
       " np.int64(2016),\n",
       " np.int64(2015),\n",
       " np.int64(2014),\n",
       " np.int64(2013),\n",
       " np.int64(2012),\n",
       " np.int64(2011),\n",
       " np.int64(2010),\n",
       " np.int64(2008),\n",
       " np.int64(2006),\n",
       " np.int64(2004),\n",
       " np.int64(2002),\n",
       " np.int64(2001),\n",
       " np.int64(2000),\n",
       " np.int64(1998),\n",
       " np.int64(1996),\n",
       " np.int64(1994),\n",
       " np.int64(1992),\n",
       " np.int64(1990),\n",
       " np.int64(1988),\n",
       " np.int64(1986),\n",
       " np.int64(1984)]"
      ]
     },
     "execution_count": 16,
     "metadata": {},
     "output_type": "execute_result"
    }
   ],
   "source": [
    "year_list = df['CAND_ELECTION_YR'].unique()\n",
    "sorted(year_list,reverse=True)"
   ]
  },
  {
   "cell_type": "code",
   "execution_count": 23,
   "id": "1764f160",
   "metadata": {},
   "outputs": [
    {
     "data": {
      "text/plain": [
       "3282    995100298.0\n",
       "3266    989449767.0\n",
       "2557    986420020.0\n",
       "2581    983915226.0\n",
       "2546    982060326.0\n",
       "           ...     \n",
       "7498            NaN\n",
       "7500            NaN\n",
       "7527            NaN\n",
       "7654            NaN\n",
       "7691            NaN\n",
       "Name: CAND_ZIP, Length: 7758, dtype: float64"
      ]
     },
     "execution_count": 23,
     "metadata": {},
     "output_type": "execute_result"
    }
   ],
   "source": [
    "# change into integer\n",
    "\n",
    "#df['CAND_ZIP'] = df['CAND_ZIP'].astype(int)\n",
    "df['CAND_ZIP'].sort_values(ascending=False)"
   ]
  },
  {
   "cell_type": "code",
   "execution_count": 24,
   "id": "7135c910",
   "metadata": {},
   "outputs": [
    {
     "data": {
      "text/plain": [
       "array([99654., 99628., 99503., ..., 25414., 83014., 82003.], shape=(5409,))"
      ]
     },
     "execution_count": 24,
     "metadata": {},
     "output_type": "execute_result"
    }
   ],
   "source": [
    "df['CAND_ZIP'].unique()"
   ]
  },
  {
   "cell_type": "code",
   "execution_count": 26,
   "id": "72ae429c",
   "metadata": {},
   "outputs": [
    {
     "data": {
      "text/plain": [
       "np.int64(190)"
      ]
     },
     "execution_count": 26,
     "metadata": {},
     "output_type": "execute_result"
    }
   ],
   "source": [
    "df['CAND_ZIP'].isnull().sum()"
   ]
  },
  {
   "cell_type": "code",
   "execution_count": 27,
   "id": "7a32b1ac",
   "metadata": {},
   "outputs": [
    {
     "data": {
      "text/plain": [
       "CAND_ID                    0\n",
       "CAND_NAME                  0\n",
       "CAND_PTY_AFFILIATION       7\n",
       "CAND_ELECTION_YR           0\n",
       "CAND_OFFICE_ST             0\n",
       "CAND_OFFICE                0\n",
       "CAND_OFFICE_DISTRICT       7\n",
       "CAND_ICI                 322\n",
       "CAND_STATUS                0\n",
       "CAND_PCC                1421\n",
       "CAND_ST1                 189\n",
       "CAND_ST2                6844\n",
       "CAND_CITY                  3\n",
       "CAND_ST                  179\n",
       "CAND_ZIP                 190\n",
       "dtype: int64"
      ]
     },
     "execution_count": 27,
     "metadata": {},
     "output_type": "execute_result"
    }
   ],
   "source": [
    "df.isnull().sum()"
   ]
  },
  {
   "cell_type": "code",
   "execution_count": 29,
   "id": "4747095d",
   "metadata": {},
   "outputs": [
    {
     "data": {
      "text/plain": [
       "np.int64(0)"
      ]
     },
     "execution_count": 29,
     "metadata": {},
     "output_type": "execute_result"
    }
   ],
   "source": [
    "df.duplicated().sum()"
   ]
  },
  {
   "cell_type": "code",
   "execution_count": null,
   "id": "26347b32",
   "metadata": {},
   "outputs": [],
   "source": []
  },
  {
   "cell_type": "code",
   "execution_count": null,
   "id": "41c90690",
   "metadata": {},
   "outputs": [],
   "source": []
  },
  {
   "cell_type": "markdown",
   "id": "e3887f22",
   "metadata": {},
   "source": [
    "## 3. Expenditure Analysis"
   ]
  },
  {
   "cell_type": "code",
   "execution_count": 31,
   "id": "30d0a26b",
   "metadata": {},
   "outputs": [
    {
     "name": "stderr",
     "output_type": "stream",
     "text": [
      "C:\\Users\\mdsoh\\AppData\\Local\\Temp\\ipykernel_2908\\1593964492.py:1: DtypeWarning: Columns (10,15) have mixed types. Specify dtype option on import or set low_memory=False.\n",
      "  oper_exp_df = pd.read_csv(\"D:/DE_Project_FEC/fec_env/big-data-fec-project/data/raw/operating_expenditure/operating_expenditure.csv\")\n"
     ]
    },
    {
     "data": {
      "text/html": [
       "<div>\n",
       "<style scoped>\n",
       "    .dataframe tbody tr th:only-of-type {\n",
       "        vertical-align: middle;\n",
       "    }\n",
       "\n",
       "    .dataframe tbody tr th {\n",
       "        vertical-align: top;\n",
       "    }\n",
       "\n",
       "    .dataframe thead th {\n",
       "        text-align: right;\n",
       "    }\n",
       "</style>\n",
       "<table border=\"1\" class=\"dataframe\">\n",
       "  <thead>\n",
       "    <tr style=\"text-align: right;\">\n",
       "      <th></th>\n",
       "      <th>CMTE_ID</th>\n",
       "      <th>AMNDT_IND</th>\n",
       "      <th>RPT_YR</th>\n",
       "      <th>RPT_TP</th>\n",
       "      <th>IMAGE_NUM</th>\n",
       "      <th>LINE_NUM</th>\n",
       "      <th>FORM_TP_CD</th>\n",
       "      <th>SCHED_TP_CD</th>\n",
       "      <th>NAME</th>\n",
       "      <th>CITY</th>\n",
       "      <th>...</th>\n",
       "      <th>PURPOSE</th>\n",
       "      <th>CATEGORY</th>\n",
       "      <th>CATEGORY_DESC</th>\n",
       "      <th>MEMO_CD</th>\n",
       "      <th>MEMO_TEXT</th>\n",
       "      <th>ENTITY_TP</th>\n",
       "      <th>SUB_ID</th>\n",
       "      <th>FILE_NUM</th>\n",
       "      <th>TRAN_ID</th>\n",
       "      <th>BACK_REF_TRAN_ID</th>\n",
       "    </tr>\n",
       "  </thead>\n",
       "  <tbody>\n",
       "    <tr>\n",
       "      <th>0</th>\n",
       "      <td>T</td>\n",
       "      <td>2019</td>\n",
       "      <td>TER</td>\n",
       "      <td>201901209143894009</td>\n",
       "      <td>17</td>\n",
       "      <td>F3</td>\n",
       "      <td>SB</td>\n",
       "      <td>ADMINISTRATIVE BUSINESS SERVICES</td>\n",
       "      <td>CHARLOTTE</td>\n",
       "      <td>NC</td>\n",
       "      <td>...</td>\n",
       "      <td>NaN</td>\n",
       "      <td>NaN</td>\n",
       "      <td>NaN</td>\n",
       "      <td>NaN</td>\n",
       "      <td>ORG</td>\n",
       "      <td>4021520191639587673</td>\n",
       "      <td>1305744</td>\n",
       "      <td>VTPY09W3DX1</td>\n",
       "      <td>NaN</td>\n",
       "      <td>NaN</td>\n",
       "    </tr>\n",
       "    <tr>\n",
       "      <th>1</th>\n",
       "      <td>T</td>\n",
       "      <td>2019</td>\n",
       "      <td>TER</td>\n",
       "      <td>201901209143894009</td>\n",
       "      <td>17</td>\n",
       "      <td>F3</td>\n",
       "      <td>SB</td>\n",
       "      <td>ADP INC</td>\n",
       "      <td>ROSELAND</td>\n",
       "      <td>NJ</td>\n",
       "      <td>...</td>\n",
       "      <td>NaN</td>\n",
       "      <td>NaN</td>\n",
       "      <td>NaN</td>\n",
       "      <td>NaN</td>\n",
       "      <td>ORG</td>\n",
       "      <td>4021520191639587675</td>\n",
       "      <td>1305744</td>\n",
       "      <td>VTPY09W2JW7</td>\n",
       "      <td>NaN</td>\n",
       "      <td>NaN</td>\n",
       "    </tr>\n",
       "    <tr>\n",
       "      <th>2</th>\n",
       "      <td>T</td>\n",
       "      <td>2019</td>\n",
       "      <td>TER</td>\n",
       "      <td>201901209143894009</td>\n",
       "      <td>17</td>\n",
       "      <td>F3</td>\n",
       "      <td>SB</td>\n",
       "      <td>HUSTLE INC</td>\n",
       "      <td>SAN FRANCISCO</td>\n",
       "      <td>CA</td>\n",
       "      <td>...</td>\n",
       "      <td>NaN</td>\n",
       "      <td>NaN</td>\n",
       "      <td>NaN</td>\n",
       "      <td>NaN</td>\n",
       "      <td>ORG</td>\n",
       "      <td>4021520191639587677</td>\n",
       "      <td>1305744</td>\n",
       "      <td>VTPY09W2KA8</td>\n",
       "      <td>NaN</td>\n",
       "      <td>NaN</td>\n",
       "    </tr>\n",
       "    <tr>\n",
       "      <th>3</th>\n",
       "      <td>T</td>\n",
       "      <td>2019</td>\n",
       "      <td>TER</td>\n",
       "      <td>201901209143894010</td>\n",
       "      <td>17</td>\n",
       "      <td>F3</td>\n",
       "      <td>SB</td>\n",
       "      <td>NGP VAN INC.</td>\n",
       "      <td>WASHINGTON</td>\n",
       "      <td>DC</td>\n",
       "      <td>...</td>\n",
       "      <td>NaN</td>\n",
       "      <td>NaN</td>\n",
       "      <td>NaN</td>\n",
       "      <td>NaN</td>\n",
       "      <td>ORG</td>\n",
       "      <td>4021520191639587679</td>\n",
       "      <td>1305744</td>\n",
       "      <td>VTPY09W3DV6</td>\n",
       "      <td>NaN</td>\n",
       "      <td>NaN</td>\n",
       "    </tr>\n",
       "    <tr>\n",
       "      <th>4</th>\n",
       "      <td>T</td>\n",
       "      <td>2019</td>\n",
       "      <td>TER</td>\n",
       "      <td>201901219143901217</td>\n",
       "      <td>17</td>\n",
       "      <td>F3</td>\n",
       "      <td>SB</td>\n",
       "      <td>ELECTEK USA</td>\n",
       "      <td>CHAGRIN FALLS</td>\n",
       "      <td>OH</td>\n",
       "      <td>...</td>\n",
       "      <td>1.0</td>\n",
       "      <td>Administrative/Salary/Overhead Expenses</td>\n",
       "      <td>NaN</td>\n",
       "      <td>NaN</td>\n",
       "      <td>ORG</td>\n",
       "      <td>4021320191639407447</td>\n",
       "      <td>1305860</td>\n",
       "      <td>SB17.55757</td>\n",
       "      <td>NaN</td>\n",
       "      <td>NaN</td>\n",
       "    </tr>\n",
       "  </tbody>\n",
       "</table>\n",
       "<p>5 rows × 25 columns</p>\n",
       "</div>"
      ],
      "text/plain": [
       "  CMTE_ID  AMNDT_IND RPT_YR              RPT_TP IMAGE_NUM LINE_NUM FORM_TP_CD  \\\n",
       "0       T       2019    TER  201901209143894009        17       F3         SB   \n",
       "1       T       2019    TER  201901209143894009        17       F3         SB   \n",
       "2       T       2019    TER  201901209143894009        17       F3         SB   \n",
       "3       T       2019    TER  201901209143894010        17       F3         SB   \n",
       "4       T       2019    TER  201901219143901217        17       F3         SB   \n",
       "\n",
       "                        SCHED_TP_CD           NAME CITY  ... PURPOSE  \\\n",
       "0  ADMINISTRATIVE BUSINESS SERVICES      CHARLOTTE   NC  ...     NaN   \n",
       "1                           ADP INC       ROSELAND   NJ  ...     NaN   \n",
       "2                        HUSTLE INC  SAN FRANCISCO   CA  ...     NaN   \n",
       "3                      NGP VAN INC.     WASHINGTON   DC  ...     NaN   \n",
       "4                       ELECTEK USA  CHAGRIN FALLS   OH  ...     1.0   \n",
       "\n",
       "                                   CATEGORY  CATEGORY_DESC MEMO_CD MEMO_TEXT  \\\n",
       "0                                       NaN            NaN     NaN       ORG   \n",
       "1                                       NaN            NaN     NaN       ORG   \n",
       "2                                       NaN            NaN     NaN       ORG   \n",
       "3                                       NaN            NaN     NaN       ORG   \n",
       "4  Administrative/Salary/Overhead Expenses             NaN     NaN       ORG   \n",
       "\n",
       "             ENTITY_TP   SUB_ID     FILE_NUM TRAN_ID BACK_REF_TRAN_ID  \n",
       "0  4021520191639587673  1305744  VTPY09W3DX1     NaN              NaN  \n",
       "1  4021520191639587675  1305744  VTPY09W2JW7     NaN              NaN  \n",
       "2  4021520191639587677  1305744  VTPY09W2KA8     NaN              NaN  \n",
       "3  4021520191639587679  1305744  VTPY09W3DV6     NaN              NaN  \n",
       "4  4021320191639407447  1305860   SB17.55757     NaN              NaN  \n",
       "\n",
       "[5 rows x 25 columns]"
      ]
     },
     "execution_count": 31,
     "metadata": {},
     "output_type": "execute_result"
    }
   ],
   "source": [
    "oper_exp_df = pd.read_csv(\"D:/DE_Project_FEC/fec_env/big-data-fec-project/data/raw/operating_expenditure/operating_expenditure.csv\")\n",
    "oper_exp_df.head()"
   ]
  },
  {
   "cell_type": "code",
   "execution_count": 33,
   "id": "c5b2e3e6",
   "metadata": {},
   "outputs": [
    {
     "data": {
      "text/plain": [
       "(2310524, 25)"
      ]
     },
     "execution_count": 33,
     "metadata": {},
     "output_type": "execute_result"
    }
   ],
   "source": [
    "# no. of rows\n",
    "oper_exp_df.shape"
   ]
  },
  {
   "cell_type": "code",
   "execution_count": 34,
   "id": "d18fcc78",
   "metadata": {},
   "outputs": [
    {
     "data": {
      "text/plain": [
       "CMTE_ID                   0\n",
       "AMNDT_IND                 0\n",
       "RPT_YR                    0\n",
       "RPT_TP                    0\n",
       "IMAGE_NUM                 0\n",
       "LINE_NUM                  0\n",
       "FORM_TP_CD                0\n",
       "SCHED_TP_CD             158\n",
       "NAME                   6255\n",
       "CITY                   6463\n",
       "STATE                  7803\n",
       "ZIP_CODE                 15\n",
       "TRANSACTION_DT            0\n",
       "TRANSACTION_AMT      924380\n",
       "TRANSACTION_PGI       10154\n",
       "PURPOSE             1800724\n",
       "CATEGORY            1808169\n",
       "CATEGORY_DESC       1524383\n",
       "MEMO_CD             1718434\n",
       "MEMO_TEXT              4593\n",
       "ENTITY_TP                 0\n",
       "SUB_ID                    0\n",
       "FILE_NUM                  0\n",
       "TRAN_ID             1619641\n",
       "BACK_REF_TRAN_ID    2310524\n",
       "dtype: int64"
      ]
     },
     "execution_count": 34,
     "metadata": {},
     "output_type": "execute_result"
    }
   ],
   "source": [
    "# null values\n",
    "oper_exp_df.isnull().sum()"
   ]
  }
 ],
 "metadata": {
  "kernelspec": {
   "display_name": "fec_env",
   "language": "python",
   "name": "python3"
  },
  "language_info": {
   "codemirror_mode": {
    "name": "ipython",
    "version": 3
   },
   "file_extension": ".py",
   "mimetype": "text/x-python",
   "name": "python",
   "nbconvert_exporter": "python",
   "pygments_lexer": "ipython3",
   "version": "3.11.0"
  }
 },
 "nbformat": 4,
 "nbformat_minor": 5
}
